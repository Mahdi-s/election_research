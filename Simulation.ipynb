{
 "cells": [
  {
   "cell_type": "markdown",
   "metadata": {},
   "source": [
    "# Minimum-Cost Flow Redistricting Assignment Algorithm\n",
    "## Examining An Impossibility Theoorem regarding Gerrymandering"
   ]
  },
  {
   "cell_type": "markdown",
   "metadata": {},
   "source": [
    "The practice of gerrymandering, or the manipulation of electoral district boundaries for political gain, has long been a contentious issue in democratic governance. This Notebook builds upon the foundational concepts laid out in \"An Impossibility Theorem for Gerrymandering\" by Alexeev and Mixon, refining the established formula to enhance the analysis of electoral districting. Our research develops a sophisticated simulation model to evaluate the implications of various districting strategies on electoral fairness.\n",
    "\n",
    "## Key parameters influencing district shapes and sizes include:\n",
    "- **Delta (δ)**: Allowable deviation in population size among districts.\n",
    "- **Gamma (γ)**: Standard for geographic compactness.\n",
    "- **Proportion of Voters (p0)**: Ratio of voters from two major parties.\n",
    "- **Grid Size (n)**: Size of the grid.\n",
    "- **District Count (k)**: Number of districts.\n"
   ]
  },
  {
   "cell_type": "code",
   "execution_count": 68,
   "metadata": {},
   "outputs": [],
   "source": [
    "import pandas as pa\n",
    "import math\n",
    "import numpy as np\n",
    "import networkx as nx\n",
    "import matplotlib.pyplot as plt\n",
    "from ortools.graph import pywrapgraph\n",
    "import random\n",
    "import os\n",
    "from multiprocessing import Pool"
   ]
  },
  {
   "cell_type": "markdown",
   "metadata": {},
   "source": [
    "### Monitor Simulation. \n",
    "#### Set to 1 if you want detailed logs of every function's behaviour"
   ]
  },
  {
   "cell_type": "code",
   "execution_count": 69,
   "metadata": {},
   "outputs": [],
   "source": [
    "log_flag = 0\n",
    "print_graphics = 0"
   ]
  },
  {
   "cell_type": "code",
   "execution_count": 70,
   "metadata": {
    "tags": []
   },
   "outputs": [],
   "source": [
    "def print_info(data, name):\n",
    "    if isinstance(data, list):\n",
    "        print(' % ',name,' ',data,' -----type $len: ', len(data),' ', type(data),' * ')\n",
    "    else:\n",
    "        print(' % ',name,' ',data,' -----type ', type(data),' * ')"
   ]
  },
  {
   "cell_type": "markdown",
   "metadata": {},
   "source": [
    "## Create a grid\n",
    "For cross reference to Google's documentation, the census blocks are the \"workers\" and the centers of the districts are the \"tasks.\"\n",
    "\n",
    "Cost being minimized is the product of the (distance from the census block's center to the location of the center to which it is assigned by the algorithm) and (the population of the block).\n",
    "\n",
    "Source supply is the overall population.\n",
    "\n",
    "Capacity of each arc from the source to a census block is the population of that census block.\n",
    "\n",
    "Capacity of each arc from a census block to a center is the population of that census block.\n",
    "\n",
    "Capacity of each arc from a center to the sink is the ideal district size plus an allowed tolerance. How to set the tolerance is a matter of opinion. A low setting is probably preferable -- perhaps even just going with no tolerance at all.\n",
    "\n",
    "Sink supply is the negative of the overall population.\n",
    "\n",
    "After the algorithm is run, 0-population census blocks remain unassigned to a district because the 0 population means the \"flow\" across their arc is 0.\n",
    "\n",
    "The algorithm allows a block's population to be split between districts. If this happens the block is actually assigned to the district which received the greatest share of the population by the algorithm.\n",
    "\n",
    "V3 Update Notes:\n",
    "    implements functions to calculate pp compactness and effiency gap of the districts (added voter prefernce)"
   ]
  },
  {
   "cell_type": "code",
   "execution_count": 71,
   "metadata": {},
   "outputs": [],
   "source": [
    "def setup(districts,grid_size,district_centers,pops): \n",
    "    \"\"\"\n",
    "    Inputs: # of districts, size of grid, predeterminded district centers, total population\n",
    "    Purpose: This block establishes the parameters for the situation and creates the node and edge inputs\n",
    "             for the optimization procedure.\n",
    "    Outputs: A tuple containing start_nodes, end_nodes, capacities, costs, supplies, source, sink, pops, total_pop\n",
    "    \"\"\"\n",
    "    \n",
    "\n",
    "\n",
    "    if log_flag == 1:\n",
    "        print('in setup')\n",
    "        print(' Inputs-setup \\n')\n",
    "        print_info(districts, 'districts')\n",
    "        print_info(grid_size, 'grid_size')\n",
    "        print_info(district_centers, 'district_centers')\n",
    "        print_info(pops, 'pops')\n",
    "        print(' end inputs \\n')\n",
    "    \n",
    "    tol = 1 # tolerance for population difference between districts\n",
    "\n",
    "    #Build the list holding the node labels corresponding to the sources for the graph's edges\n",
    "    start_nodes = [0]*(grid_size*grid_size)   #The initial source is labeled 0 and is at the tail of edges which \n",
    "                                              #terminate at\n",
    "                                              #each census block's node\n",
    "    for i in range(grid_size*grid_size):\n",
    "        start_nodes = start_nodes+[i+1]*districts\n",
    "\n",
    "    for j in range(districts):\n",
    "        start_nodes = start_nodes+[(grid_size*grid_size)+1+j]\n",
    "        \n",
    "    #Now build the list holding the node labels corresponding to the sinks for each of the graph's edges\n",
    "\n",
    "    end_nodes=[]\n",
    "    for i in range(grid_size*grid_size):\n",
    "        end_nodes=end_nodes+[i+1]\n",
    "    \n",
    "    for j in range(grid_size*grid_size):\n",
    "        for k in range(districts):\n",
    "            end_nodes=end_nodes+[(grid_size*grid_size)+1+k]\n",
    "        \n",
    "    end_nodes=end_nodes+[(grid_size*grid_size)+districts+1]*districts\n",
    "\n",
    "    #Now create a list of each edge's capacity.  For edges connected to census block nodes, this will be the\n",
    "    #population of the census block.\n",
    "    #For the edges connecting each district to the final sink node, this will be the sum of the districts'\n",
    "    #populations divided by the number of districts -- i.e., the ideal district size.\n",
    "\n",
    "    #Now use the populations passed to the function to create edge capacities.\n",
    "\n",
    "    total_pop = np.sum(np.array(pops))\n",
    "        \n",
    "    capacities = np.array(pops).flatten().tolist()\n",
    "\n",
    "    for i in np.array(pops).flatten().tolist():\n",
    "        for j in range(districts):\n",
    "            capacities = capacities+[i]\n",
    "\n",
    "    for i in range(districts):\n",
    "        capacities = capacities+[int(total_pop/districts)+tol]#last value here is a tolerance for how much a district\n",
    "                                                              #can exceed its ideal size\n",
    "\n",
    "    #A final set-up step involves attaching costs to each edge in the graph.\n",
    "    #The costs will be the distances between each census block's centroid and the centroids of the possible\n",
    "    #districts to which it could be assigned.\n",
    "    #For the purposes of this example, I'm assuming census blocks have centroids located at lattice points\n",
    "    #spaced 1 unit apart.\n",
    "    \n",
    "\n",
    "    #To note: edges from the initial source AND to the final sink have no cost -- and so will be given a cost of 0.\n",
    "\n",
    "    costs = [0]*(grid_size*grid_size)\n",
    "\n",
    "    #To calculate distances, we need to establish the locations of the district centers.\n",
    "\n",
    "    for i in range(grid_size):  #These are the rows of the census block grid\n",
    "        for j in range(grid_size):   #These are the columns of the census block grid\n",
    "            for k in range(districts):\n",
    "                costs = costs+[int((((i-district_centers[k][0])**2)+((j-district_centers[k][1])**2)))]\n",
    "\n",
    "    costs = costs+[0]*districts\n",
    "\n",
    "    #Supplies are 0 for each node except the initial source and final sink, each of which has a value \n",
    "    #corresponding to the total population to distribute.\n",
    "\n",
    "    supplies = [int(total_pop)]+((grid_size*grid_size)+districts)*[0]+[-int(total_pop)]\n",
    "\n",
    "    #This is the source node's label\n",
    "\n",
    "    source = 0\n",
    "\n",
    "    #This is the sink node's label\n",
    "\n",
    "    sink = districts+(grid_size*grid_size)+1\n",
    "    \n",
    "    if log_flag == 1:\n",
    "        print('Out of setup')      \n",
    "        print(' output-setup \\n')\n",
    "        print_info(start_nodes, 'start_nodes')\n",
    "        print_info(end_nodes, 'end_nodes')\n",
    "        print_info(capacities, 'capacities')\n",
    "        print_info(costs, 'costs')\n",
    "        print_info(supplies, 'supplies')\n",
    "        print_info(source, 'source')\n",
    "        print_info(sink, 'sink')\n",
    "        print_info(pops, 'pops')\n",
    "        print_info(total_pop, 'total_pop')\n",
    "        print(' end outputs \\n')\n",
    "\n",
    "    return(start_nodes, end_nodes, capacities, costs, supplies, source, sink, pops, total_pop)"
   ]
  },
  {
   "cell_type": "markdown",
   "metadata": {},
   "source": [
    "### District Generation Algorithm\n",
    "\n",
    "The districting system partitions the grid into districts based on voter locations, ensuring compliance with the one-person-one-vote principle and compactness measures. The algorithm iteratively adjusts district centers and optimizes according to the efficiency gap and compactness metrics.\n"
   ]
  },
  {
   "cell_type": "code",
   "execution_count": 72,
   "metadata": {},
   "outputs": [],
   "source": [
    "def optimize(start_nodes, end_nodes, capacities, costs, supplies, source, sink, grid, grid_size):\n",
    "    \n",
    "    \"\"\"\n",
    "    Inputs: start_nodes, end_nodes, capacities, costs, supplies, source, sink, grid, grid_size \n",
    "    Purpose: Uses a min cost flow algorithm to optimize districting  \n",
    "    Outputs: returns districting assignments\n",
    "    \"\"\"\n",
    "    if log_flag == 1:\n",
    "        print('in optimize')\n",
    "    \n",
    "\n",
    "    #Create empty DataFrame to hold outputs later\n",
    "    Block_Assignments=pa.DataFrame(columns=['DIST_NO','ASSIGN_POP','ACTUAL_POP'])\n",
    "\n",
    "    # Instantiate a SimpleMinCostFlow solver.\n",
    "    min_cost_flow = pywrapgraph.SimpleMinCostFlow()\n",
    "\n",
    "    # Add each arc.\n",
    "    for i in range(len(start_nodes)):\n",
    "        min_cost_flow.AddArcWithCapacityAndUnitCost(start_nodes[i], end_nodes[i],\n",
    "                                                capacities[i], costs[i])\n",
    "\n",
    "    # Add node supplies.\n",
    "    for i in range(len(supplies)):\n",
    "        min_cost_flow.SetNodeSupply(i, supplies[i])\n",
    "\n",
    "    flag = 0    \n",
    "    \n",
    "    # Find the minimum cost flow between source and sink.\n",
    "    if min_cost_flow.Solve() == min_cost_flow.OPTIMAL:\n",
    "        #print('Total cost = ', min_cost_flow.OptimalCost())\n",
    "        #print('\\n')\n",
    "        for arc in range(min_cost_flow.NumArcs()):\n",
    "\n",
    "          # Can ignore arcs leading out of source or into sink.\n",
    "          if min_cost_flow.Tail(arc)!=source and min_cost_flow.Head(arc)!=sink:\n",
    "        \n",
    "            if min_cost_flow.Flow(arc) > 0:\n",
    "          \n",
    "              #Add a way to check for those instances where a census block's population is split\n",
    "              #by the algorithm and assigned to more than one block.  \n",
    "              #Assign the census block to the district which optimally receives the greatest\n",
    "              #fraction of its population.\n",
    "            \n",
    "              if min_cost_flow.Capacity(arc)==min_cost_flow.Flow(arc):\n",
    "                grid.nodes[(int(((min_cost_flow.Tail(arc)-1)/grid_size)),\n",
    "                        (min_cost_flow.Tail(arc)-1)%grid_size)][\"district\"]=min_cost_flow.Head(arc)\n",
    "            \n",
    "                Block_Assignments.loc[min_cost_flow.Tail(arc)]=[min_cost_flow.Head(arc),min_cost_flow.Flow(arc),\n",
    "                                                            min_cost_flow.Capacity(arc)]\n",
    "            \n",
    "              else:\n",
    "            \n",
    "                if flag==0:\n",
    "                    grid.nodes[(int(((min_cost_flow.Tail(arc)-1)/grid_size)),\n",
    "                        (min_cost_flow.Tail(arc)-1)%grid_size)][\"district\"]=min_cost_flow.Head(arc)\n",
    "            \n",
    "                    Block_Assignments.loc[min_cost_flow.Tail(arc)]=[min_cost_flow.Head(arc),min_cost_flow.Flow(arc),\n",
    "                                                            min_cost_flow.Capacity(arc)]\n",
    "                \n",
    "                    flag=min_cost_flow.Flow(arc)\n",
    "                \n",
    "                else: \n",
    "                    if Block_Assignments.loc[min_cost_flow.Tail(arc),'ASSIGN_POP']<min_cost_flow.Flow(arc):\n",
    "                        grid.nodes[(int(((min_cost_flow.Tail(arc)-1)/grid_size)),\n",
    "                            (min_cost_flow.Tail(arc)-1)%grid_size)][\"district\"]=min_cost_flow.Head(arc)\n",
    "            \n",
    "                        Block_Assignments.loc[min_cost_flow.Tail(arc)]=[min_cost_flow.Head(arc),min_cost_flow.Flow(arc),\n",
    "                                                            min_cost_flow.Capacity(arc)]\n",
    "                \n",
    "                        flag = flag+min_cost_flow.Flow(arc)\n",
    "                \n",
    "                    else:\n",
    "                        flag = flag+min_cost_flow.Flow(arc)\n",
    "                    \n",
    "                    if flag==min_cost_flow.Capacity(arc):\n",
    "                        flag = 0\n",
    "                \n",
    "    else:\n",
    "        print('There was an issue with the min cost flow input.')\n",
    "        \n",
    "    if log_flag == 1:\n",
    "        print('out of optimize')\n",
    "\n",
    "    return(Block_Assignments)"
   ]
  },
  {
   "cell_type": "markdown",
   "metadata": {},
   "source": [
    "### Utitls"
   ]
  },
  {
   "cell_type": "code",
   "execution_count": 73,
   "metadata": {},
   "outputs": [],
   "source": [
    "def get_pp_compactness(perimeter, area):\n",
    "    \"\"\"\n",
    "    Inputs: perimeter and area of a districts\n",
    "    Purpose: calculates ppc of districts \n",
    "    Outputs: ppc for the given districts\n",
    "    \"\"\"\n",
    "    if log_flag == 1:\n",
    "        print('in pp_compact')\n",
    "        \n",
    "    dist_pp_compactness = {}\n",
    "    # go through a list of permeters and ares for each district\n",
    "    for p_key in perimeter:\n",
    "        for a_key in area:\n",
    "            if p_key == a_key:\n",
    "                compactness = (4 * 3.14 * int(area[a_key][0]))/(perimeter[p_key])**2\n",
    "                dist_pp_compactness.setdefault(a_key,[]).append(compactness)\n",
    "\n",
    "    if log_flag == 1:\n",
    "        print('out of pp_compact')\n",
    "        \n",
    "    return dist_pp_compactness"
   ]
  },
  {
   "cell_type": "code",
   "execution_count": 74,
   "metadata": {
    "scrolled": true
   },
   "outputs": [],
   "source": [
    "def grid_setup(grid_s, dist, n,r,c,p_0):\n",
    "    \"\"\"\n",
    "    Inputs: grid_size, number of districts, n, r, c, proportion of voters 0\n",
    "    Purpose: sets up a grid with determined population size for each node \n",
    "    Output: districts, grid_size, district_centers, pops, grid\n",
    "            a grid with population voter pref baked in \n",
    "    \"\"\"\n",
    "    if log_flag == 1:\n",
    "        print('in grid setup')\n",
    "        \n",
    "    #Here we set up the grid on which the districts will be drawn\n",
    "    grid_size = grid_s\n",
    "    # TODO: does not need to return districts in this function\n",
    "    districts = dist # number of districts\n",
    "    #District centers can be specified in a variety of ways.\n",
    "    #The following gives a regular horizontal spacing perturbed by a random factor, and then randomly assigns the\n",
    "    #location vertically.\n",
    "\n",
    "    district_centers = []\n",
    "    spacing = int(grid_size/districts)\n",
    "    for j in range(districts):\n",
    "        district_centers = district_centers + [[(j+1)*spacing+random.randint(-1,1),random.randint(0,grid_size-1)]]\n",
    "\n",
    "    #print(district_centers)\n",
    "\n",
    "    #Now we establish the population distribution on the grid\n",
    "\n",
    "    pops = []\n",
    "    row = []\n",
    "    for i in range(grid_size):\n",
    "        for j in range(grid_size):\n",
    "            #row = row+[i+1]                      #Use this for systematic population assignments\n",
    "            #row = row+[random.randint(1,10)]     #Use this for random population assignments\n",
    "            row = row+[1]                         #Use this for a population of 1 at each node\n",
    "        pops = pops+[row]\n",
    "        row = []\n",
    "\n",
    "    total_pop = np.sum(np.array(pops))\n",
    "\n",
    "    #print('Total population across all blocks is: ',total_pop)\n",
    "\n",
    "    #And now we create the grid graph and assign the populations to the nodes\n",
    "\n",
    "    grid = nx.grid_graph([grid_size,grid_size])\n",
    "    count = 0\n",
    "\n",
    "    for node in grid.nodes():\n",
    "        grid.nodes[node][\"population\"]=pops[node[0]][node[1]]\n",
    "\n",
    "\n",
    "    add_party_preference(grid, n, grid_size, p_0)\n",
    "    \n",
    "    \n",
    "        \n",
    "    if log_flag == 1:\n",
    "        print('out of grid setup')\n",
    "\n",
    "    return districts, grid_size, district_centers, pops, grid\n"
   ]
  },
  {
   "cell_type": "code",
   "execution_count": 75,
   "metadata": {},
   "outputs": [],
   "source": [
    "def add_party_preference(grid, n, grid_size, p_0):\n",
    "    \"\"\"\n",
    "    Inputs: grid of voters, n, grid size, proportion of voters a to b\n",
    "    Purpose: Function adds voter party preference to each node in the graph \n",
    "    Output: No output, voter pref gets mapped to grid passed by grid_setup\n",
    "    \"\"\"\n",
    "    if log_flag == 1:\n",
    "        print('in party pref')\n",
    "    squares_with_id = [] #index will serve as id\n",
    "    \n",
    "    all_nodes = list(grid.nodes())\n",
    "    all_nodes_processed = [] #used to test zoom mechanism \n",
    "    voter_arr_ind = 0\n",
    "    row_tracker = 0 # to keep track of the rows within square counting\n",
    "    square = []\n",
    "    voter_arr_ind = 0\n",
    "    vertical_mover = 0\n",
    "    for i in range(n):\n",
    "        if i != 0:\n",
    "            vertical_mover += r*grid_size\n",
    "        for m in range(n):\n",
    "            row_tracker = (c*m) + vertical_mover\n",
    "            #get sqaures at each level\n",
    "            square = []            \n",
    "            for j in range(r):\n",
    "                row = all_nodes[row_tracker:row_tracker+c]\n",
    "                square = square + row\n",
    "                row_tracker += grid_size\n",
    "            all_nodes_processed += square\n",
    "            #add logic for clumping\n",
    "            #if clump\n",
    "            # add two squares together set squares to that\n",
    "            voter_ratios = np.ones(c*r)\n",
    "            \n",
    "            #input porportions here\n",
    "            proportion_of_a = math.floor((c*r)*p_0)\n",
    "            voter_ratios[:proportion_of_a] = 0\n",
    "            #print(voter_ratios)\n",
    "            np.random.shuffle(voter_ratios)\n",
    "            #print(voter_ratios)\n",
    "            for node in square:    \n",
    "                grid.nodes[node]['voter_pref'] = voter_ratios[voter_arr_ind] # 0 is blue 1 is brown\n",
    "                voter_arr_ind = voter_arr_ind + 1\n",
    "\n",
    "            squares_with_id.append(square)       \n",
    "            voter_arr_ind = 0\n",
    "            square = []\n",
    "            \n",
    "\n",
    "\n",
    "    \n",
    "    missed_nodes = list(set(all_nodes).difference(all_nodes_processed))\n",
    "    if missed_nodes:   \n",
    "        print(\"missed_nodes = \" + str(missed_nodes))\n",
    "        os._exit(0)\n",
    "    if log_flag == 1:   \n",
    "        print('out of party pref')\n"
   ]
  },
  {
   "cell_type": "code",
   "execution_count": 76,
   "metadata": {},
   "outputs": [],
   "source": [
    "def dist_assgin(iterations, grid_size, dist_num,n,r,c,p_0):\n",
    "    \"\"\"\n",
    "    Inputs: number iterations for assignment exploration, grid size, number of districts, n, r, c, proportion of voters a to b \n",
    "    Purpose: Here we find optimal district assignments by iterating through the optimization process, updating\n",
    "             district centers by finding centroids of the current step's assignments.\n",
    "    Output: districts assignemnts per itertation in a dictionary, polsby popper compactness for each iteration \n",
    "    \"\"\"\n",
    "    break_point = 0\n",
    "    if log_flag == 1:    \n",
    "        print('in dist assign')\n",
    "    districts, grid_size, district_centers, pops, grid = grid_setup(grid_size,dist_num,n,r,c, p_0)\n",
    "    # TODO: does not need to return districts in this function\n",
    "\n",
    "    #Establish the number of iterations to carry out\n",
    "    pp_each_iter = {}\n",
    "    district_data_each_iteration = {}\n",
    "\n",
    "    \n",
    "\n",
    "    for l in range(iterations):\n",
    "\n",
    "        win_count = {}\n",
    "        state_voterPrefs_as_row = []\n",
    "        # district_data_each_iteration.setdefault(l, []).append(win_count)\n",
    "        # district_data_each_iteration[l].append(l)  # Add the iteration number\n",
    "\n",
    "        \n",
    "        # if figures are produced stop iterating\n",
    "        if break_point == 1:\n",
    "            break\n",
    "            \n",
    "        # reshuffle district centers after first run\n",
    "        if l!=0:\n",
    "            district_centers_new=[]\n",
    "            for i in range(districts):\n",
    "                sumx = 0\n",
    "                sumy = 0\n",
    "                count = 0\n",
    "                for name in grid.nodes():\n",
    "                    if grid.nodes[name]['district']==i+1+(grid_size*grid_size):\n",
    "                        sumx = sumx+name[0]\n",
    "                        sumy = sumy+name[1]\n",
    "                        count = count+1\n",
    "                district_centers_new = district_centers_new+[[round(sumx/count), round(sumy/count)]]\n",
    "\n",
    "            district_centers = district_centers_new\n",
    "        # need to set up nodes once and reuse in iterations\n",
    "        start_nodes, end_nodes, capacities, costs, supplies, source, sink, pops, total_pop=\\\n",
    "            setup(districts,grid_size,district_centers,pops)\n",
    "\n",
    "        Block_Assignments = optimize(start_nodes, end_nodes, capacities, costs, supplies, source, sink, grid, grid_size)\n",
    "\n",
    "        dist_area = {}\n",
    "        district_dict = {}\n",
    "        edge_boundary = {}\n",
    "\n",
    "\n",
    "\n",
    "        for j in range(districts):\n",
    "            pop_by_district = Block_Assignments.loc[Block_Assignments['DIST_NO']==j+1+(grid_size*grid_size),\n",
    "                                                'ACTUAL_POP'].sum()\n",
    "            dist_area.setdefault(j+1+(grid_size*grid_size),[]).append(pop_by_district/4)\n",
    " \n",
    "\n",
    "        for node in grid.nodes():\n",
    "            # create a dict with districts and assiciated nodes in them\n",
    "            district_id = grid.nodes[node]['district']\n",
    "            district_dict.setdefault(district_id,[]).append(node)\n",
    "            # used for creating a df  for NN, row is position represents grid location, \n",
    "            # value in row represents party pref, meant to paint a picture of homogeneity for the NN.\n",
    "            voter_pref = grid.nodes[node][\"voter_pref\"] \n",
    "            state_voterPrefs_as_row.append(voter_pref)\n",
    "            \n",
    "\n",
    "        party_count = 0\n",
    "        for node in grid.nodes():\n",
    "            district_id = grid.nodes[node]['district']\n",
    "            win_count[district_id] = {}\n",
    "            if party_count != 2:\n",
    "                for node in grid.nodes():\n",
    "                    voter_pref = grid.nodes[node][\"voter_pref\"]\n",
    "                    win_count[district_id][voter_pref] = 0 \n",
    "                    if (int(voter_pref) == 1.0) or (int(voter_pref) == 0.0):\n",
    "                        party_count += 1\n",
    "            if len(win_count) == dist_num:\n",
    "                break;\n",
    "\n",
    "        \n",
    "\n",
    "\n",
    "        for node in grid.nodes():\n",
    "            district_id = grid.nodes[node]['district']\n",
    "            voter_pref = grid.nodes[node][\"voter_pref\"]             \n",
    "            if str(voter_pref) == '1.0':\n",
    "                win_count[district_id][voter_pref] += 1 \n",
    "            if str(voter_pref) == '0.0':\n",
    "                win_count[district_id][voter_pref] += 1 \n",
    "        \n",
    "\n",
    "    \n",
    "        win_count = find_metrics(win_count)\n",
    "        \n",
    "        \n",
    "        mino_win_count = 0\n",
    "\n",
    "        dist_perimeter = {}  # Note the correct spelling here\n",
    "        for key in district_dict:\n",
    "            num_of_edge = 0\n",
    "            District_subgraphs = district_dict[key]\n",
    "            sub = grid.subgraph(District_subgraphs)\n",
    "            for node in sub.nodes():\n",
    "                edge_coming_out = sub.degree(node)\n",
    "                if int(edge_coming_out) < 4:\n",
    "                    num_of_edge += 1\n",
    "            dist_perimeter[key] = num_of_edge  # Note the correct spelling here\n",
    "\n",
    "        for key in dist_area:\n",
    "            win_count[key][\"area\"] = dist_area[key][0]  # Note: accessing first element of the list\n",
    "            win_count[key][\"perimeter\"] = dist_perimeter[key]  # Note the correct spelling here\n",
    "\n",
    "        pp_compactness = get_pp_compactness(dist_perimeter, dist_area)  # Note the correct spelling here\n",
    "\n",
    "\n",
    "        for key in pp_compactness:\n",
    "            win_count[key][\"pp_compactness\"] = pp_compactness[key][0]\n",
    "            \n",
    "        district_data_each_iteration[l] = [win_count, l]\n",
    "        pp_each_iter[l] = pp_compactness\n",
    "\n",
    "        for item in win_count:\n",
    "            mino_win_count = win_count[item]['win_count_0']\n",
    "            break\n",
    "\n",
    "        #print graphics\n",
    "            \n",
    "        if mino_win_count > 0 and print_graphics == 1:\n",
    "            \n",
    "            \n",
    "            # Create a unique identifier\n",
    "\n",
    "            unique_id = f\"n{n}_k{districts}_step{l}_eg{win_count[list(win_count.keys())[0]]['eg']:.4f}\"\n",
    "            \n",
    "            # Save district map\n",
    "            newdir = f'graphs2/Districts_{unique_id}.png'\n",
    "            plt.figure()\n",
    "            nx.draw(grid, pos={x:x for x in grid.nodes()}, node_shape='s', node_size=20,\n",
    "                    node_color=[grid.nodes[name]['district'] for name in grid.nodes()], cmap='Paired', with_labels=False)\n",
    "            plt.savefig(newdir)\n",
    "            plt.close()\n",
    "\n",
    "            # Save voter preference map\n",
    "            newdir1 = f'graphs2/VoterPreference_{unique_id}.png'\n",
    "            plt.figure()\n",
    "            nx.draw(grid, pos={x:x for x in grid.nodes()}, node_shape='s', node_size=20,\n",
    "                    node_color=[grid.nodes[name]['voter_pref'] for name in grid.nodes()], cmap='Paired', with_labels=False)\n",
    "            plt.savefig(newdir1)\n",
    "            plt.close()\n",
    "        \n",
    "       \n",
    "\n",
    "        for key in district_dict:\n",
    "            node_list = district_dict[key]\n",
    "            for node in node_list:\n",
    "                edge_out_of_node = grid.edges(node)\n",
    "                edge_num = len(edge_out_of_node)\n",
    "                if edge_num < 4:\n",
    "                    edge_boundary.setdefault(key,[]).append(node)\n",
    "\n",
    "\n",
    "        dist_peremeter = {}\n",
    "\n",
    "        #Print each dist\n",
    "        for key in district_dict:\n",
    "            num_of_edge = 0\n",
    "            District_subgraphs = district_dict[key]\n",
    "            sub = grid.subgraph(District_subgraphs)\n",
    "            edge_boundary.setdefault(key,[]).append(num_of_edge)\n",
    "            for node in sub.nodes():\n",
    "                edge_coming_out = sub.degree(node)\n",
    "                if int(edge_coming_out) < 4:\n",
    "                    num_of_edge = num_of_edge+1\n",
    "                    dist_peremeter.update({key : num_of_edge})\n",
    "\n",
    "\n",
    "\n",
    "            \n",
    "\n",
    "        dist_key = list(win_count.keys())\n",
    "        state_voterPrefs_as_row.append(win_count[dist_key[0]]['pOverP_a'])\n",
    "        state_voterPrefs_as_row.append(win_count[dist_key[0]]['pOverP_b'])\n",
    "        \n",
    "            \n",
    "        pp_each_iter[l] = pp_compactness\n",
    "        district_data_each_iteration.setdefault(l,[]).append(win_count)\n",
    "            \n",
    "        if log_flag == 1: \n",
    "            print('out dist assign')\n",
    "    \n",
    "    \n",
    "    return district_data_each_iteration, pp_each_iter\n"
   ]
  },
  {
   "cell_type": "code",
   "execution_count": 77,
   "metadata": {},
   "outputs": [],
   "source": [
    "def find_metrics(win_count):\n",
    "    \"\"\"\n",
    "    Inputs: dictionary of win lose counts for parties within each district\n",
    "    Purpose: find efficiency gap of district assignments\n",
    "    Output: eg of districts packaged as dictionary\n",
    "    \"\"\"\n",
    "    votes_1 = 0\n",
    "    votes_0 = 0\n",
    "    district_data = win_count\n",
    "    wasted_votes = []\n",
    "    total_win_a = 0\n",
    "    total_win_b = 0\n",
    "    total_votes_state = 0\n",
    "    #imp_flag = 0 #set to 0 means immposiblity has not occured\n",
    "    state_votes_a = 0\n",
    "    state_votes_b = 0\n",
    "    P_a = 0 #state_votes_a/total_votes_state\n",
    "    P_b = 0\n",
    "    p_a = 0 #total_win_a/state_count\n",
    "    p_b = 0\n",
    "    state_count = 0\n",
    "\n",
    "    for key in win_count:\n",
    "        state_count += 1\n",
    "        votes_1 = win_count[key][1.0]\n",
    "        votes_0 = win_count[key][0.0]\n",
    "        state_votes_a += votes_0\n",
    "        state_votes_b += votes_1\n",
    "        totalVotes = votes_1 + votes_0\n",
    "        total_votes_state += totalVotes\n",
    "        \n",
    "        if votes_1 > votes_0:\n",
    "            half = math.ceil(totalVotes / 2)\n",
    "            wasted_1 = votes_1 - half\n",
    "            total_win_b += 1\n",
    "        else:\n",
    "            wasted_1 = votes_1\n",
    "\n",
    "        if votes_1 < votes_0:\n",
    "            half = math.ceil(totalVotes / 2)\n",
    "            wasted_0 = votes_0 - half\n",
    "            total_win_a += 1\n",
    "\n",
    "        else:\n",
    "            wasted_0 = votes_0\n",
    "        \n",
    "        wasted_total = wasted_0 - wasted_1\n",
    "        \n",
    "        wasted_votes.append(wasted_total)\n",
    "        # if imp_flag == 1:\n",
    "        #     district_data[key]['imp_flag'] = 1\n",
    "        # else:\n",
    "        #     district_data[key]['imp_flag'] = 0\n",
    "    \n",
    "    P_a =  state_votes_a/total_votes_state # vote percent\n",
    "    P_b =  state_votes_b/total_votes_state\n",
    "    p_a =  total_win_a/state_count # dist win percent\n",
    "    p_b =  total_win_b/state_count\n",
    "\n",
    "    if p_a == 0:\n",
    "        pOverP_a = 0\n",
    "    else:\n",
    "        pOverP_a = P_a/p_a#p_a/P_a\n",
    "    if p_b == 0:\n",
    "        pOverP_b = 0\n",
    "    else:\n",
    "        pOverP_b = P_b/p_b\n",
    "    sum_wv =sum(wasted_votes)\n",
    "    eg = (1/total_votes_state)*sum_wv\n",
    "    for key in win_count:\n",
    "        district_data[key]['eg'] = eg\n",
    "        district_data[key]['win_count_0'] = total_win_a\n",
    "        district_data[key]['win_count_1'] = total_win_b\n",
    "        district_data[key]['total_votes'] = total_votes_state\n",
    "        district_data[key]['state_votes_a'] = state_votes_a\n",
    "        district_data[key]['state_votes_b'] = state_votes_b\n",
    "        district_data[key]['P_a'] = P_a\n",
    "        district_data[key]['P_b'] = P_b\n",
    "        district_data[key]['p_a'] = p_a\n",
    "        district_data[key]['p_b'] = p_b\n",
    "        district_data[key]['pOverP_a'] = pOverP_a\n",
    "        district_data[key]['pOverP_b'] = pOverP_b\n",
    "    \n",
    "    return district_data \n",
    "    "
   ]
  },
  {
   "cell_type": "code",
   "execution_count": 78,
   "metadata": {},
   "outputs": [],
   "source": [
    "def step_five_finder(delta, gamma, dists_num, p_0, n, c, r):\n",
    "    # Implementation of step_five_finder function\n",
    "    proportion_a = math.floor((c * r) * p_0)\n",
    "    proportion_b = (c*r) - proportion_a\n",
    "    left_side = proportion_b / proportion_a\n",
    "    F = math.sqrt((1-delta)/(2*dists_num))\n",
    "    numerator = (F**2)-(4*3.14*gamma**(-1)*F*math.sqrt(2)*(1/n))-(8*((3.14)**2)*(gamma**(-1))*(1/n)**2)\n",
    "    denominator = (F**2)+(4*3.14*gamma**(-1)*F*math.sqrt(2)*(1/n))+(8*((3.14)**2)*(gamma**(-1))*(1/n)**2)\n",
    "    right_side = numerator/denominator\n",
    "    return left_side, right_side\n",
    "\n",
    "def refined_step_five_finder(delta, gamma, dists_num, p_0, n, c, r):\n",
    "    # Implementation of refined_step_five_finder function\n",
    "    proportion_a = math.floor((c * r) * p_0)\n",
    "    proportion_b = (c*r) - proportion_a\n",
    "    left_side = proportion_b / proportion_a\n",
    "    F = math.sqrt((1-delta)/(2*dists_num))\n",
    "    numerator = 2*(1/n)*(math.pi)\n",
    "    denominator = (4*gamma)*(math.sqrt((1-delta)/(dists_num+1)))*n\n",
    "    right_side = numerator/denominator\n",
    "    return left_side, right_side"
   ]
  },
  {
   "cell_type": "code",
   "execution_count": 79,
   "metadata": {},
   "outputs": [],
   "source": [
    "def find_winners(win_count):\n",
    "    partyOneWin = 0\n",
    "    partyZeroWin = 0\n",
    "    for iteration in win_count:\n",
    "        for districts in win_count[iteration]:\n",
    "            for district in districts:\n",
    "                for party in districts[district]:\n",
    "\n",
    "                    if party == 1.0 :\n",
    "                        if str(districts[district][party]) == '{}':\n",
    "                            partyOneCount = 0\n",
    "                        else:\n",
    "                            partyOneCount = int(str(districts[district][party]))\n",
    "\n",
    "                    if party == 0.0:\n",
    "                        partyZeroCount = int(str(districts[district][party]))\n",
    "\n",
    "\n",
    "                if partyOneCount > partyZeroWin:\n",
    "                    partyOneCount += 1\n",
    "                if partyOneCount < partyZeroWin:\n",
    "                    partyZeroCount += 1\n",
    "    return partyOneWin, partyZeroWin"
   ]
  },
  {
   "cell_type": "code",
   "execution_count": 80,
   "metadata": {},
   "outputs": [],
   "source": [
    "def create_dataFrame(win_count, extra, pp_each_iter):\n",
    "    data = []\n",
    "    for iteration, iteration_data in win_count.items():\n",
    "        district_data = iteration_data[0]  # The first element is the district data\n",
    "        iteration_number = iteration_data[1]  # The second element is the iteration number\n",
    "        \n",
    "        # Get the pp_compactness for this iteration\n",
    "        pp_compactness_iter = pp_each_iter.get(iteration, {})\n",
    "        \n",
    "        for district, district_info in district_data.items():\n",
    "            votes0 = district_info.get(0.0, 0)\n",
    "            votes1 = district_info.get(1.0, 0)\n",
    "            area = district_info.get('area', [0])[0] if isinstance(district_info.get('area'), list) else district_info.get('area', 0)\n",
    "            perimeter = district_info.get('perimeter', 0)\n",
    "            pp_compactness = pp_compactness_iter.get(district, [0])[0] if isinstance(pp_compactness_iter.get(district), list) else pp_compactness_iter.get(district, 0)\n",
    "            #imp_flag = district_info.get('imp_flag', 0)\n",
    "            eg = district_info.get('eg', 0)\n",
    "            win_count_0 = district_info.get('win_count_0', 0)\n",
    "            win_count_1 = district_info.get('win_count_1', 0)\n",
    "            total_votes = district_info.get('total_votes', 0)\n",
    "            state_votes_0 = district_info.get('state_votes_a', 0)\n",
    "            state_votes_1 = district_info.get('state_votes_b', 0)\n",
    "            P_0 = district_info.get('P_a', 0)\n",
    "            P_1 = district_info.get('P_b', 0)\n",
    "            p_0 = district_info.get('p_a', 0)\n",
    "            p_1 = district_info.get('p_b', 0)\n",
    "            pOverP_0 = district_info.get('pOverP_a', 0)\n",
    "            pOverP_1 = district_info.get('pOverP_b', 0)\n",
    "\n",
    "            row = [votes0, votes1, area, perimeter, pp_compactness, eg, win_count_0, win_count_1, \n",
    "                   total_votes, state_votes_0, state_votes_1, P_0, P_1, p_0, p_1, pOverP_0, pOverP_1, \n",
    "                   iteration_number, district]\n",
    "            row.extend(extra)\n",
    "            data.append(row)\n",
    "\n",
    "    columns = ['votes_0', 'votes_1', 'area', 'perimeter', 'pp_compactness', 'eg', 'win_count_0', 'win_count_1', \n",
    "               'total_votes', 'state_votes_0', 'state_votes_1', 'P_0', 'P_1', 'p_0', 'p_1', 'pOverP_0', 'pOverP_1', \n",
    "               'iteration', 'district', 'n', 'L', 'K', 'proportion_0', 'left_side', 'right_side', \n",
    "               'refined_left_side', 'refined_right_side', 'delta', 'gamma', 'c*r']  \n",
    "\n",
    "\n",
    "    df = pa.DataFrame(data, columns=columns)\n",
    "    return df"
   ]
  },
  {
   "cell_type": "code",
   "execution_count": 81,
   "metadata": {},
   "outputs": [],
   "source": [
    "# # Define constants\n",
    "# p_0 = 0.5  # proportion of party B voters\n",
    "# c = 3  # column count within square\n",
    "# r = 3  # row count within square\n",
    "# delta = 0.05\n",
    "# gamma = 0.2\n",
    "# iterations = 10\n",
    "\n",
    "# # Generate all combinations of n and k from 1 to 15\n",
    "# examples = [(n, k) for n in range(1, 16) for k in range(1, 16)]\n",
    "\n",
    "# main = pa.DataFrame(columns=['votesA', 'votesB', 'area', 'perimeter', 'pp_compactness', 'imp_flag', 'eg', \n",
    "#                              'win_count_a', 'win_count_b', 'total_votes', 'state_votes_a', 'state_votes_b',\n",
    "#                              'P_a', 'P_b', 'p_a', 'p_b', 'pOverP_a', 'pOverP_b', 'iteration', 'district', \n",
    "#                              'n', 'L', 'K', 'proportion_a', 'left_side', 'right_side', \n",
    "#                              'refined_left_side', 'refined_right_side'])\n",
    "\n",
    "# for n, k in examples:\n",
    "#     grid_length = n * c  # entire grid length\n",
    "    \n",
    "#     left_side, right_side = step_five_finder(delta, gamma, k, p_0, n, c, r)\n",
    "#     refined_left_side, refined_right_side = refined_step_five_finder(delta, gamma, k, p_0, n, c, r)\n",
    "    \n",
    "#     try:\n",
    "#         district_data, pp_each_iter = dist_assgin(iterations, grid_length, k, n, r, c, p_0)\n",
    "        \n",
    "#         extra = [n, (c*r), k, p_0, left_side, right_side, refined_left_side, refined_right_side]\n",
    "#         df = create_dataFrame(district_data, extra, pp_each_iter)\n",
    "#         main = pa.concat([df, main], ignore_index=True)\n",
    "        \n",
    "#         print(f\"Completed simulation for n={n}, k={k}\")\n",
    "#     except Exception as e:\n",
    "#         print(f\"Error in simulation for n={n}, k={k}: {str(e)}\")\n",
    "    \n",
    "#     # Optional: Print progress every 10 simulations\n",
    "#     if (n * 15 + k) % 10 == 0:\n",
    "#         print(f\"Progress: Completed {n * 15 + k} out of {15 * 15} simulations\")\n",
    "\n",
    "# # Save the results\n",
    "# csvDir = 'simulation_results_n1_15_k1_15.csv'\n",
    "# main.to_csv(csvDir, index=False)\n",
    "# print(\"Simulation completed. Results saved to\", csvDir)"
   ]
  },
  {
   "cell_type": "code",
   "execution_count": 83,
   "metadata": {},
   "outputs": [
    {
     "name": "stderr",
     "output_type": "stream",
     "text": [
      "  0%|          | 1/225 [00:00<01:24,  2.65it/s]"
     ]
    },
    {
     "name": "stdout",
     "output_type": "stream",
     "text": [
      "Starting simulation for n=1, k=1\n",
      "Starting simulation for n=1, k=2\n"
     ]
    },
    {
     "name": "stderr",
     "output_type": "stream",
     "text": [
      "  1%|          | 2/225 [00:00<01:26,  2.59it/s]"
     ]
    },
    {
     "name": "stdout",
     "output_type": "stream",
     "text": [
      "Starting simulation for n=1, k=3\n"
     ]
    },
    {
     "name": "stderr",
     "output_type": "stream",
     "text": [
      "  1%|▏         | 3/225 [00:01<01:27,  2.54it/s]"
     ]
    },
    {
     "name": "stdout",
     "output_type": "stream",
     "text": [
      "Starting simulation for n=1, k=4\n"
     ]
    },
    {
     "name": "stderr",
     "output_type": "stream",
     "text": [
      "  2%|▏         | 5/225 [00:02<01:33,  2.35it/s]"
     ]
    },
    {
     "name": "stdout",
     "output_type": "stream",
     "text": [
      "Starting simulation for n=1, k=5\n",
      "Starting simulation for n=1, k=6\n"
     ]
    },
    {
     "name": "stderr",
     "output_type": "stream",
     "text": [
      "  3%|▎         | 6/225 [00:02<01:37,  2.26it/s]"
     ]
    },
    {
     "name": "stdout",
     "output_type": "stream",
     "text": [
      "Starting simulation for n=1, k=7\n",
      "Error in simulation for n=1, k=7: 14\n",
      "Starting simulation for n=1, k=8\n",
      "Error in simulation for n=1, k=8: 10\n",
      "Starting simulation for n=1, k=9\n",
      "Error in simulation for n=1, k=9: 10\n",
      "Starting simulation for n=1, k=10\n",
      "Error in simulation for n=1, k=10: 10\n",
      "Starting simulation for n=1, k=11\n",
      "Error in simulation for n=1, k=11: 14\n",
      "Starting simulation for n=1, k=12\n",
      "Error in simulation for n=1, k=12: 14\n",
      "Starting simulation for n=1, k=13\n",
      "Error in simulation for n=1, k=13: 13\n",
      "Starting simulation for n=1, k=14\n",
      "Error in simulation for n=1, k=14: 14\n",
      "Starting simulation for n=1, k=15\n",
      "Error in simulation for n=1, k=15: 11\n",
      "Starting simulation for n=2, k=1\n"
     ]
    },
    {
     "name": "stderr",
     "output_type": "stream",
     "text": [
      "  7%|▋         | 16/225 [00:03<00:39,  5.34it/s]"
     ]
    },
    {
     "name": "stdout",
     "output_type": "stream",
     "text": [
      "Starting simulation for n=2, k=2\n"
     ]
    },
    {
     "name": "stderr",
     "output_type": "stream",
     "text": [
      "  8%|▊         | 17/225 [00:05<01:03,  3.29it/s]"
     ]
    },
    {
     "name": "stdout",
     "output_type": "stream",
     "text": [
      "Starting simulation for n=2, k=3\n"
     ]
    },
    {
     "name": "stderr",
     "output_type": "stream",
     "text": [
      "  8%|▊         | 18/225 [00:06<01:30,  2.29it/s]"
     ]
    },
    {
     "name": "stdout",
     "output_type": "stream",
     "text": [
      "Starting simulation for n=2, k=4\n"
     ]
    },
    {
     "name": "stderr",
     "output_type": "stream",
     "text": [
      "  8%|▊         | 19/225 [00:07<01:59,  1.72it/s]"
     ]
    },
    {
     "name": "stdout",
     "output_type": "stream",
     "text": [
      "Starting simulation for n=2, k=5\n"
     ]
    },
    {
     "name": "stderr",
     "output_type": "stream",
     "text": [
      "  9%|▉         | 20/225 [00:09<02:29,  1.37it/s]"
     ]
    },
    {
     "name": "stdout",
     "output_type": "stream",
     "text": [
      "Starting simulation for n=2, k=6\n"
     ]
    },
    {
     "name": "stderr",
     "output_type": "stream",
     "text": [
      "  9%|▉         | 21/225 [00:10<02:58,  1.14it/s]"
     ]
    },
    {
     "name": "stdout",
     "output_type": "stream",
     "text": [
      "Starting simulation for n=2, k=7\n"
     ]
    },
    {
     "name": "stderr",
     "output_type": "stream",
     "text": [
      " 10%|▉         | 22/225 [00:12<03:23,  1.00s/it]"
     ]
    },
    {
     "name": "stdout",
     "output_type": "stream",
     "text": [
      "Starting simulation for n=2, k=8\n"
     ]
    },
    {
     "name": "stderr",
     "output_type": "stream",
     "text": [
      " 10%|█         | 23/225 [00:13<03:46,  1.12s/it]"
     ]
    },
    {
     "name": "stdout",
     "output_type": "stream",
     "text": [
      "Starting simulation for n=2, k=9\n",
      "Error in simulation for n=2, k=9: 44\n",
      "Starting simulation for n=2, k=10\n"
     ]
    },
    {
     "name": "stderr",
     "output_type": "stream",
     "text": [
      " 11%|█         | 25/225 [00:15<03:16,  1.02it/s]"
     ]
    },
    {
     "name": "stdout",
     "output_type": "stream",
     "text": [
      "Starting simulation for n=2, k=11\n"
     ]
    },
    {
     "name": "stderr",
     "output_type": "stream",
     "text": [
      " 12%|█▏        | 26/225 [00:16<03:51,  1.16s/it]"
     ]
    },
    {
     "name": "stdout",
     "output_type": "stream",
     "text": [
      "Starting simulation for n=2, k=12\n",
      "Error in simulation for n=2, k=12: 44\n",
      "Starting simulation for n=2, k=13\n"
     ]
    },
    {
     "name": "stderr",
     "output_type": "stream",
     "text": [
      " 12%|█▏        | 28/225 [00:18<03:21,  1.02s/it]"
     ]
    },
    {
     "name": "stdout",
     "output_type": "stream",
     "text": [
      "Starting simulation for n=2, k=14\n",
      "Error in simulation for n=2, k=14: 40\n",
      "Starting simulation for n=2, k=15\n",
      "Error in simulation for n=2, k=15: 48\n",
      "Starting simulation for n=3, k=1\n"
     ]
    },
    {
     "name": "stderr",
     "output_type": "stream",
     "text": [
      " 14%|█▍        | 31/225 [00:21<03:06,  1.04it/s]"
     ]
    },
    {
     "name": "stdout",
     "output_type": "stream",
     "text": [
      "Starting simulation for n=3, k=2\n"
     ]
    },
    {
     "name": "stderr",
     "output_type": "stream",
     "text": [
      " 14%|█▍        | 32/225 [00:24<04:10,  1.30s/it]"
     ]
    },
    {
     "name": "stdout",
     "output_type": "stream",
     "text": [
      "Starting simulation for n=3, k=3\n"
     ]
    },
    {
     "name": "stderr",
     "output_type": "stream",
     "text": [
      " 15%|█▍        | 33/225 [00:26<05:10,  1.62s/it]"
     ]
    },
    {
     "name": "stdout",
     "output_type": "stream",
     "text": [
      "Starting simulation for n=3, k=4\n"
     ]
    },
    {
     "name": "stderr",
     "output_type": "stream",
     "text": [
      " 15%|█▌        | 34/225 [00:29<06:04,  1.91s/it]"
     ]
    },
    {
     "name": "stdout",
     "output_type": "stream",
     "text": [
      "Starting simulation for n=3, k=5\n"
     ]
    },
    {
     "name": "stderr",
     "output_type": "stream",
     "text": [
      " 16%|█▌        | 35/225 [00:32<06:52,  2.17s/it]"
     ]
    },
    {
     "name": "stdout",
     "output_type": "stream",
     "text": [
      "Starting simulation for n=3, k=6\n"
     ]
    },
    {
     "name": "stderr",
     "output_type": "stream",
     "text": [
      " 16%|█▌        | 36/225 [00:35<07:37,  2.42s/it]"
     ]
    },
    {
     "name": "stdout",
     "output_type": "stream",
     "text": [
      "Starting simulation for n=3, k=7\n"
     ]
    },
    {
     "name": "stderr",
     "output_type": "stream",
     "text": [
      " 16%|█▋        | 37/225 [00:39<08:10,  2.61s/it]"
     ]
    },
    {
     "name": "stdout",
     "output_type": "stream",
     "text": [
      "Starting simulation for n=3, k=8\n"
     ]
    },
    {
     "name": "stderr",
     "output_type": "stream",
     "text": [
      " 17%|█▋        | 38/225 [00:42<08:36,  2.76s/it]"
     ]
    },
    {
     "name": "stdout",
     "output_type": "stream",
     "text": [
      "Starting simulation for n=3, k=9\n"
     ]
    },
    {
     "name": "stderr",
     "output_type": "stream",
     "text": [
      " 17%|█▋        | 39/225 [00:45<09:04,  2.93s/it]"
     ]
    },
    {
     "name": "stdout",
     "output_type": "stream",
     "text": [
      "Starting simulation for n=3, k=10\n"
     ]
    },
    {
     "name": "stderr",
     "output_type": "stream",
     "text": [
      " 18%|█▊        | 40/225 [00:48<09:23,  3.05s/it]"
     ]
    },
    {
     "name": "stdout",
     "output_type": "stream",
     "text": [
      "Starting simulation for n=3, k=11\n"
     ]
    },
    {
     "name": "stderr",
     "output_type": "stream",
     "text": [
      " 18%|█▊        | 41/225 [00:52<09:39,  3.15s/it]"
     ]
    },
    {
     "name": "stdout",
     "output_type": "stream",
     "text": [
      "Starting simulation for n=3, k=12\n"
     ]
    },
    {
     "name": "stderr",
     "output_type": "stream",
     "text": [
      " 19%|█▊        | 42/225 [00:55<09:53,  3.24s/it]"
     ]
    },
    {
     "name": "stdout",
     "output_type": "stream",
     "text": [
      "Starting simulation for n=3, k=13\n"
     ]
    },
    {
     "name": "stderr",
     "output_type": "stream",
     "text": [
      " 19%|█▉        | 43/225 [00:59<10:04,  3.32s/it]"
     ]
    },
    {
     "name": "stdout",
     "output_type": "stream",
     "text": [
      "Starting simulation for n=3, k=14\n"
     ]
    },
    {
     "name": "stderr",
     "output_type": "stream",
     "text": [
      " 20%|█▉        | 44/225 [01:02<10:14,  3.39s/it]"
     ]
    },
    {
     "name": "stdout",
     "output_type": "stream",
     "text": [
      "Starting simulation for n=3, k=15\n",
      "Error in simulation for n=3, k=15: 94\n",
      "Starting simulation for n=4, k=1\n"
     ]
    },
    {
     "name": "stderr",
     "output_type": "stream",
     "text": [
      " 20%|██        | 46/225 [01:07<08:46,  2.94s/it]"
     ]
    },
    {
     "name": "stdout",
     "output_type": "stream",
     "text": [
      "Starting simulation for n=4, k=2\n"
     ]
    },
    {
     "name": "stderr",
     "output_type": "stream",
     "text": [
      " 21%|██        | 47/225 [01:12<09:59,  3.37s/it]"
     ]
    },
    {
     "name": "stdout",
     "output_type": "stream",
     "text": [
      "Starting simulation for n=4, k=3\n"
     ]
    },
    {
     "name": "stderr",
     "output_type": "stream",
     "text": [
      " 21%|██▏       | 48/225 [01:17<11:08,  3.78s/it]"
     ]
    },
    {
     "name": "stdout",
     "output_type": "stream",
     "text": [
      "Starting simulation for n=4, k=4\n"
     ]
    },
    {
     "name": "stderr",
     "output_type": "stream",
     "text": [
      " 22%|██▏       | 49/225 [01:22<12:06,  4.13s/it]"
     ]
    },
    {
     "name": "stdout",
     "output_type": "stream",
     "text": [
      "Starting simulation for n=4, k=5\n"
     ]
    },
    {
     "name": "stderr",
     "output_type": "stream",
     "text": [
      " 22%|██▏       | 50/225 [01:27<12:53,  4.42s/it]"
     ]
    },
    {
     "name": "stdout",
     "output_type": "stream",
     "text": [
      "Starting simulation for n=4, k=6\n"
     ]
    },
    {
     "name": "stderr",
     "output_type": "stream",
     "text": [
      " 23%|██▎       | 51/225 [01:32<13:37,  4.70s/it]"
     ]
    },
    {
     "name": "stdout",
     "output_type": "stream",
     "text": [
      "Starting simulation for n=4, k=7\n"
     ]
    },
    {
     "name": "stderr",
     "output_type": "stream",
     "text": [
      " 23%|██▎       | 52/225 [01:38<14:12,  4.93s/it]"
     ]
    },
    {
     "name": "stdout",
     "output_type": "stream",
     "text": [
      "Starting simulation for n=4, k=8\n"
     ]
    },
    {
     "name": "stderr",
     "output_type": "stream",
     "text": [
      " 24%|██▎       | 53/225 [01:43<14:40,  5.12s/it]"
     ]
    },
    {
     "name": "stdout",
     "output_type": "stream",
     "text": [
      "Starting simulation for n=4, k=9\n"
     ]
    },
    {
     "name": "stderr",
     "output_type": "stream",
     "text": [
      " 24%|██▍       | 54/225 [01:49<15:06,  5.30s/it]"
     ]
    },
    {
     "name": "stdout",
     "output_type": "stream",
     "text": [
      "Starting simulation for n=4, k=10\n"
     ]
    },
    {
     "name": "stderr",
     "output_type": "stream",
     "text": [
      " 24%|██▍       | 55/225 [01:55<15:30,  5.47s/it]"
     ]
    },
    {
     "name": "stdout",
     "output_type": "stream",
     "text": [
      "Starting simulation for n=4, k=11\n"
     ]
    },
    {
     "name": "stderr",
     "output_type": "stream",
     "text": [
      " 25%|██▍       | 56/225 [02:01<15:52,  5.64s/it]"
     ]
    },
    {
     "name": "stdout",
     "output_type": "stream",
     "text": [
      "Starting simulation for n=4, k=12\n"
     ]
    },
    {
     "name": "stderr",
     "output_type": "stream",
     "text": [
      " 25%|██▌       | 57/225 [02:07<16:16,  5.81s/it]"
     ]
    },
    {
     "name": "stdout",
     "output_type": "stream",
     "text": [
      "Starting simulation for n=4, k=13\n"
     ]
    },
    {
     "name": "stderr",
     "output_type": "stream",
     "text": [
      " 26%|██▌       | 58/225 [02:13<16:28,  5.92s/it]"
     ]
    },
    {
     "name": "stdout",
     "output_type": "stream",
     "text": [
      "Starting simulation for n=4, k=14\n"
     ]
    },
    {
     "name": "stderr",
     "output_type": "stream",
     "text": [
      " 26%|██▌       | 59/225 [02:20<16:44,  6.05s/it]"
     ]
    },
    {
     "name": "stdout",
     "output_type": "stream",
     "text": [
      "Starting simulation for n=4, k=15\n"
     ]
    },
    {
     "name": "stderr",
     "output_type": "stream",
     "text": [
      " 27%|██▋       | 60/225 [02:26<17:01,  6.19s/it]"
     ]
    },
    {
     "name": "stdout",
     "output_type": "stream",
     "text": [
      "Starting simulation for n=5, k=1\n"
     ]
    },
    {
     "name": "stderr",
     "output_type": "stream",
     "text": [
      " 27%|██▋       | 61/225 [02:33<17:28,  6.39s/it]"
     ]
    },
    {
     "name": "stdout",
     "output_type": "stream",
     "text": [
      "Starting simulation for n=5, k=2\n"
     ]
    },
    {
     "name": "stderr",
     "output_type": "stream",
     "text": [
      " 28%|██▊       | 62/225 [02:40<18:01,  6.63s/it]"
     ]
    },
    {
     "name": "stdout",
     "output_type": "stream",
     "text": [
      "Starting simulation for n=5, k=3\n"
     ]
    },
    {
     "name": "stderr",
     "output_type": "stream",
     "text": [
      " 28%|██▊       | 63/225 [02:48<18:54,  7.00s/it]"
     ]
    },
    {
     "name": "stdout",
     "output_type": "stream",
     "text": [
      "Starting simulation for n=5, k=4\n"
     ]
    },
    {
     "name": "stderr",
     "output_type": "stream",
     "text": [
      " 28%|██▊       | 64/225 [02:57<20:02,  7.47s/it]"
     ]
    },
    {
     "name": "stdout",
     "output_type": "stream",
     "text": [
      "Starting simulation for n=5, k=5\n"
     ]
    },
    {
     "name": "stderr",
     "output_type": "stream",
     "text": [
      " 29%|██▉       | 65/225 [03:05<20:38,  7.74s/it]"
     ]
    },
    {
     "name": "stdout",
     "output_type": "stream",
     "text": [
      "Starting simulation for n=5, k=6\n"
     ]
    },
    {
     "name": "stderr",
     "output_type": "stream",
     "text": [
      " 29%|██▉       | 66/225 [03:14<21:22,  8.06s/it]"
     ]
    },
    {
     "name": "stdout",
     "output_type": "stream",
     "text": [
      "Starting simulation for n=5, k=7\n"
     ]
    },
    {
     "name": "stderr",
     "output_type": "stream",
     "text": [
      " 30%|██▉       | 67/225 [03:23<22:00,  8.36s/it]"
     ]
    },
    {
     "name": "stdout",
     "output_type": "stream",
     "text": [
      "Starting simulation for n=5, k=8\n"
     ]
    },
    {
     "name": "stderr",
     "output_type": "stream",
     "text": [
      " 30%|███       | 68/225 [03:32<22:34,  8.63s/it]"
     ]
    },
    {
     "name": "stdout",
     "output_type": "stream",
     "text": [
      "Starting simulation for n=5, k=9\n"
     ]
    },
    {
     "name": "stderr",
     "output_type": "stream",
     "text": [
      " 31%|███       | 69/225 [03:42<23:15,  8.95s/it]"
     ]
    },
    {
     "name": "stdout",
     "output_type": "stream",
     "text": [
      "Starting simulation for n=5, k=10\n"
     ]
    },
    {
     "name": "stderr",
     "output_type": "stream",
     "text": [
      " 31%|███       | 70/225 [03:52<23:48,  9.22s/it]"
     ]
    },
    {
     "name": "stdout",
     "output_type": "stream",
     "text": [
      "Starting simulation for n=5, k=11\n"
     ]
    },
    {
     "name": "stderr",
     "output_type": "stream",
     "text": [
      " 32%|███▏      | 71/225 [04:02<24:26,  9.52s/it]"
     ]
    },
    {
     "name": "stdout",
     "output_type": "stream",
     "text": [
      "Starting simulation for n=5, k=12\n"
     ]
    },
    {
     "name": "stderr",
     "output_type": "stream",
     "text": [
      " 32%|███▏      | 72/225 [04:13<24:57,  9.79s/it]"
     ]
    },
    {
     "name": "stdout",
     "output_type": "stream",
     "text": [
      "Starting simulation for n=5, k=13\n"
     ]
    },
    {
     "name": "stderr",
     "output_type": "stream",
     "text": [
      " 32%|███▏      | 73/225 [04:23<25:27, 10.05s/it]"
     ]
    },
    {
     "name": "stdout",
     "output_type": "stream",
     "text": [
      "Starting simulation for n=5, k=14\n"
     ]
    },
    {
     "name": "stderr",
     "output_type": "stream",
     "text": [
      " 33%|███▎      | 74/225 [04:34<25:57, 10.31s/it]"
     ]
    },
    {
     "name": "stdout",
     "output_type": "stream",
     "text": [
      "Starting simulation for n=5, k=15\n"
     ]
    },
    {
     "name": "stderr",
     "output_type": "stream",
     "text": [
      " 33%|███▎      | 75/225 [04:46<26:41, 10.68s/it]"
     ]
    },
    {
     "name": "stdout",
     "output_type": "stream",
     "text": [
      "Starting simulation for n=6, k=1\n"
     ]
    },
    {
     "name": "stderr",
     "output_type": "stream",
     "text": [
      " 34%|███▍      | 76/225 [04:56<26:04, 10.50s/it]"
     ]
    },
    {
     "name": "stdout",
     "output_type": "stream",
     "text": [
      "Starting simulation for n=6, k=2\n"
     ]
    },
    {
     "name": "stderr",
     "output_type": "stream",
     "text": [
      " 34%|███▍      | 77/225 [05:07<26:17, 10.66s/it]"
     ]
    },
    {
     "name": "stdout",
     "output_type": "stream",
     "text": [
      "Starting simulation for n=6, k=3\n"
     ]
    },
    {
     "name": "stderr",
     "output_type": "stream",
     "text": [
      " 35%|███▍      | 78/225 [05:19<27:27, 11.21s/it]"
     ]
    },
    {
     "name": "stdout",
     "output_type": "stream",
     "text": [
      "Starting simulation for n=6, k=4\n"
     ]
    },
    {
     "name": "stderr",
     "output_type": "stream",
     "text": [
      " 35%|███▌      | 79/225 [05:32<28:25, 11.68s/it]"
     ]
    },
    {
     "name": "stdout",
     "output_type": "stream",
     "text": [
      "Starting simulation for n=6, k=5\n"
     ]
    },
    {
     "name": "stderr",
     "output_type": "stream",
     "text": [
      " 36%|███▌      | 80/225 [05:45<29:25, 12.18s/it]"
     ]
    },
    {
     "name": "stdout",
     "output_type": "stream",
     "text": [
      "Starting simulation for n=6, k=6\n"
     ]
    },
    {
     "name": "stderr",
     "output_type": "stream",
     "text": [
      " 36%|███▌      | 81/225 [05:59<30:25, 12.68s/it]"
     ]
    },
    {
     "name": "stdout",
     "output_type": "stream",
     "text": [
      "Starting simulation for n=6, k=7\n"
     ]
    },
    {
     "name": "stderr",
     "output_type": "stream",
     "text": [
      " 36%|███▋      | 82/225 [06:13<31:18, 13.14s/it]"
     ]
    },
    {
     "name": "stdout",
     "output_type": "stream",
     "text": [
      "Starting simulation for n=6, k=8\n"
     ]
    },
    {
     "name": "stderr",
     "output_type": "stream",
     "text": [
      " 37%|███▋      | 83/225 [06:28<32:14, 13.62s/it]"
     ]
    },
    {
     "name": "stdout",
     "output_type": "stream",
     "text": [
      "Starting simulation for n=6, k=9\n"
     ]
    },
    {
     "name": "stderr",
     "output_type": "stream",
     "text": [
      " 37%|███▋      | 84/225 [06:43<33:07, 14.10s/it]"
     ]
    },
    {
     "name": "stdout",
     "output_type": "stream",
     "text": [
      "Starting simulation for n=6, k=10\n"
     ]
    },
    {
     "name": "stderr",
     "output_type": "stream",
     "text": [
      " 38%|███▊      | 85/225 [06:59<34:00, 14.58s/it]"
     ]
    },
    {
     "name": "stdout",
     "output_type": "stream",
     "text": [
      "Starting simulation for n=6, k=11\n"
     ]
    },
    {
     "name": "stderr",
     "output_type": "stream",
     "text": [
      " 38%|███▊      | 86/225 [07:16<35:03, 15.13s/it]"
     ]
    },
    {
     "name": "stdout",
     "output_type": "stream",
     "text": [
      "Starting simulation for n=6, k=12\n"
     ]
    },
    {
     "name": "stderr",
     "output_type": "stream",
     "text": [
      " 39%|███▊      | 87/225 [07:32<36:04, 15.68s/it]"
     ]
    },
    {
     "name": "stdout",
     "output_type": "stream",
     "text": [
      "Starting simulation for n=6, k=13\n"
     ]
    },
    {
     "name": "stderr",
     "output_type": "stream",
     "text": [
      " 39%|███▉      | 88/225 [07:50<37:15, 16.32s/it]"
     ]
    },
    {
     "name": "stdout",
     "output_type": "stream",
     "text": [
      "Starting simulation for n=6, k=14\n"
     ]
    },
    {
     "name": "stderr",
     "output_type": "stream",
     "text": [
      " 40%|███▉      | 89/225 [08:08<38:11, 16.85s/it]"
     ]
    },
    {
     "name": "stdout",
     "output_type": "stream",
     "text": [
      "Starting simulation for n=6, k=15\n"
     ]
    },
    {
     "name": "stderr",
     "output_type": "stream",
     "text": [
      " 40%|████      | 90/225 [08:28<39:29, 17.55s/it]"
     ]
    },
    {
     "name": "stdout",
     "output_type": "stream",
     "text": [
      "Starting simulation for n=7, k=1\n"
     ]
    },
    {
     "name": "stderr",
     "output_type": "stream",
     "text": [
      " 40%|████      | 91/225 [08:41<36:31, 16.36s/it]"
     ]
    },
    {
     "name": "stdout",
     "output_type": "stream",
     "text": [
      "Starting simulation for n=7, k=2\n"
     ]
    },
    {
     "name": "stderr",
     "output_type": "stream",
     "text": [
      " 41%|████      | 92/225 [08:58<36:32, 16.48s/it]"
     ]
    },
    {
     "name": "stdout",
     "output_type": "stream",
     "text": [
      "Starting simulation for n=7, k=3\n"
     ]
    },
    {
     "name": "stderr",
     "output_type": "stream",
     "text": [
      " 41%|████▏     | 93/225 [09:16<37:25, 17.01s/it]"
     ]
    },
    {
     "name": "stdout",
     "output_type": "stream",
     "text": [
      "Starting simulation for n=7, k=4\n"
     ]
    },
    {
     "name": "stderr",
     "output_type": "stream",
     "text": [
      " 42%|████▏     | 94/225 [09:35<38:12, 17.50s/it]"
     ]
    },
    {
     "name": "stdout",
     "output_type": "stream",
     "text": [
      "Starting simulation for n=7, k=5\n"
     ]
    },
    {
     "name": "stderr",
     "output_type": "stream",
     "text": [
      " 42%|████▏     | 95/225 [09:54<39:19, 18.15s/it]"
     ]
    },
    {
     "name": "stdout",
     "output_type": "stream",
     "text": [
      "Starting simulation for n=7, k=6\n"
     ]
    },
    {
     "name": "stderr",
     "output_type": "stream",
     "text": [
      " 43%|████▎     | 96/225 [10:15<40:28, 18.82s/it]"
     ]
    },
    {
     "name": "stdout",
     "output_type": "stream",
     "text": [
      "Starting simulation for n=7, k=7\n"
     ]
    },
    {
     "name": "stderr",
     "output_type": "stream",
     "text": [
      " 43%|████▎     | 97/225 [10:36<41:36, 19.50s/it]"
     ]
    },
    {
     "name": "stdout",
     "output_type": "stream",
     "text": [
      "Starting simulation for n=7, k=8\n"
     ]
    },
    {
     "name": "stderr",
     "output_type": "stream",
     "text": [
      " 44%|████▎     | 98/225 [10:58<42:51, 20.25s/it]"
     ]
    },
    {
     "name": "stdout",
     "output_type": "stream",
     "text": [
      "Starting simulation for n=7, k=9\n"
     ]
    },
    {
     "name": "stderr",
     "output_type": "stream",
     "text": [
      " 44%|████▍     | 99/225 [11:20<43:51, 20.88s/it]"
     ]
    },
    {
     "name": "stdout",
     "output_type": "stream",
     "text": [
      "Starting simulation for n=7, k=10\n"
     ]
    },
    {
     "name": "stderr",
     "output_type": "stream",
     "text": [
      " 44%|████▍     | 100/225 [11:44<45:07, 21.66s/it]"
     ]
    },
    {
     "name": "stdout",
     "output_type": "stream",
     "text": [
      "Starting simulation for n=7, k=11\n"
     ]
    },
    {
     "name": "stderr",
     "output_type": "stream",
     "text": [
      " 45%|████▍     | 101/225 [12:08<46:31, 22.51s/it]"
     ]
    },
    {
     "name": "stdout",
     "output_type": "stream",
     "text": [
      "Starting simulation for n=7, k=12\n"
     ]
    },
    {
     "name": "stderr",
     "output_type": "stream",
     "text": [
      " 45%|████▌     | 102/225 [12:34<48:22, 23.59s/it]"
     ]
    },
    {
     "name": "stdout",
     "output_type": "stream",
     "text": [
      "Starting simulation for n=7, k=13\n"
     ]
    },
    {
     "name": "stderr",
     "output_type": "stream",
     "text": [
      " 46%|████▌     | 103/225 [13:02<50:07, 24.65s/it]"
     ]
    },
    {
     "name": "stdout",
     "output_type": "stream",
     "text": [
      "Starting simulation for n=7, k=14\n"
     ]
    },
    {
     "name": "stderr",
     "output_type": "stream",
     "text": [
      " 46%|████▌     | 104/225 [13:30<52:14, 25.90s/it]"
     ]
    },
    {
     "name": "stdout",
     "output_type": "stream",
     "text": [
      "Starting simulation for n=7, k=15\n"
     ]
    },
    {
     "name": "stderr",
     "output_type": "stream",
     "text": [
      " 47%|████▋     | 105/225 [14:00<54:14, 27.12s/it]"
     ]
    },
    {
     "name": "stdout",
     "output_type": "stream",
     "text": [
      "Starting simulation for n=8, k=1\n"
     ]
    },
    {
     "name": "stderr",
     "output_type": "stream",
     "text": [
      " 47%|████▋     | 106/225 [14:18<48:14, 24.32s/it]"
     ]
    },
    {
     "name": "stdout",
     "output_type": "stream",
     "text": [
      "Starting simulation for n=8, k=2\n"
     ]
    },
    {
     "name": "stderr",
     "output_type": "stream",
     "text": [
      " 48%|████▊     | 107/225 [14:41<46:54, 23.85s/it]"
     ]
    },
    {
     "name": "stdout",
     "output_type": "stream",
     "text": [
      "Starting simulation for n=8, k=3\n"
     ]
    },
    {
     "name": "stderr",
     "output_type": "stream",
     "text": [
      " 48%|████▊     | 108/225 [15:06<47:33, 24.39s/it]"
     ]
    },
    {
     "name": "stdout",
     "output_type": "stream",
     "text": [
      "Starting simulation for n=8, k=4\n"
     ]
    },
    {
     "name": "stderr",
     "output_type": "stream",
     "text": [
      " 48%|████▊     | 109/225 [15:32<47:53, 24.77s/it]"
     ]
    },
    {
     "name": "stdout",
     "output_type": "stream",
     "text": [
      "Starting simulation for n=8, k=5\n"
     ]
    },
    {
     "name": "stderr",
     "output_type": "stream",
     "text": [
      " 49%|████▉     | 110/225 [16:01<49:34, 25.87s/it]"
     ]
    },
    {
     "name": "stdout",
     "output_type": "stream",
     "text": [
      "Starting simulation for n=8, k=6\n"
     ]
    },
    {
     "name": "stderr",
     "output_type": "stream",
     "text": [
      " 49%|████▉     | 111/225 [16:30<51:11, 26.94s/it]"
     ]
    },
    {
     "name": "stdout",
     "output_type": "stream",
     "text": [
      "Starting simulation for n=8, k=7\n"
     ]
    },
    {
     "name": "stderr",
     "output_type": "stream",
     "text": [
      " 50%|████▉     | 112/225 [17:01<52:54, 28.09s/it]"
     ]
    },
    {
     "name": "stdout",
     "output_type": "stream",
     "text": [
      "Starting simulation for n=8, k=8\n"
     ]
    },
    {
     "name": "stderr",
     "output_type": "stream",
     "text": [
      " 50%|█████     | 113/225 [17:32<54:20, 29.12s/it]"
     ]
    },
    {
     "name": "stdout",
     "output_type": "stream",
     "text": [
      "Starting simulation for n=8, k=9\n"
     ]
    },
    {
     "name": "stderr",
     "output_type": "stream",
     "text": [
      " 51%|█████     | 114/225 [18:06<56:24, 30.50s/it]"
     ]
    },
    {
     "name": "stdout",
     "output_type": "stream",
     "text": [
      "Starting simulation for n=8, k=10\n"
     ]
    },
    {
     "name": "stderr",
     "output_type": "stream",
     "text": [
      " 51%|█████     | 115/225 [18:41<58:36, 31.97s/it]"
     ]
    },
    {
     "name": "stdout",
     "output_type": "stream",
     "text": [
      "Starting simulation for n=8, k=11\n"
     ]
    },
    {
     "name": "stderr",
     "output_type": "stream",
     "text": [
      " 52%|█████▏    | 116/225 [19:19<1:00:57, 33.55s/it]"
     ]
    },
    {
     "name": "stdout",
     "output_type": "stream",
     "text": [
      "Starting simulation for n=8, k=12\n"
     ]
    },
    {
     "name": "stderr",
     "output_type": "stream",
     "text": [
      " 52%|█████▏    | 117/225 [19:57<1:03:03, 35.03s/it]"
     ]
    },
    {
     "name": "stdout",
     "output_type": "stream",
     "text": [
      "Starting simulation for n=8, k=13\n"
     ]
    },
    {
     "name": "stderr",
     "output_type": "stream",
     "text": [
      " 52%|█████▏    | 118/225 [20:38<1:05:22, 36.66s/it]"
     ]
    },
    {
     "name": "stdout",
     "output_type": "stream",
     "text": [
      "Starting simulation for n=8, k=14\n"
     ]
    },
    {
     "name": "stderr",
     "output_type": "stream",
     "text": [
      " 53%|█████▎    | 119/225 [21:20<1:07:41, 38.32s/it]"
     ]
    },
    {
     "name": "stdout",
     "output_type": "stream",
     "text": [
      "Starting simulation for n=8, k=15\n"
     ]
    },
    {
     "name": "stderr",
     "output_type": "stream",
     "text": [
      " 53%|█████▎    | 120/225 [22:07<1:11:32, 40.88s/it]"
     ]
    },
    {
     "name": "stdout",
     "output_type": "stream",
     "text": [
      "Starting simulation for n=9, k=1\n"
     ]
    },
    {
     "name": "stderr",
     "output_type": "stream",
     "text": [
      " 54%|█████▍    | 121/225 [22:34<1:04:03, 36.96s/it]"
     ]
    },
    {
     "name": "stdout",
     "output_type": "stream",
     "text": [
      "Starting simulation for n=9, k=2\n"
     ]
    },
    {
     "name": "stderr",
     "output_type": "stream",
     "text": [
      " 54%|█████▍    | 122/225 [23:19<1:07:08, 39.11s/it]"
     ]
    },
    {
     "name": "stdout",
     "output_type": "stream",
     "text": [
      "Starting simulation for n=9, k=3\n"
     ]
    },
    {
     "name": "stderr",
     "output_type": "stream",
     "text": [
      " 55%|█████▍    | 123/225 [24:04<1:09:57, 41.15s/it]"
     ]
    },
    {
     "name": "stdout",
     "output_type": "stream",
     "text": [
      "Starting simulation for n=9, k=4\n"
     ]
    },
    {
     "name": "stderr",
     "output_type": "stream",
     "text": [
      " 55%|█████▌    | 124/225 [24:52<1:12:18, 42.96s/it]"
     ]
    },
    {
     "name": "stdout",
     "output_type": "stream",
     "text": [
      "Starting simulation for n=9, k=5\n"
     ]
    },
    {
     "name": "stderr",
     "output_type": "stream",
     "text": [
      " 56%|█████▌    | 125/225 [25:42<1:15:18, 45.18s/it]"
     ]
    },
    {
     "name": "stdout",
     "output_type": "stream",
     "text": [
      "Starting simulation for n=9, k=6\n"
     ]
    },
    {
     "name": "stderr",
     "output_type": "stream",
     "text": [
      " 56%|█████▌    | 126/225 [26:43<1:22:21, 49.91s/it]"
     ]
    },
    {
     "name": "stdout",
     "output_type": "stream",
     "text": [
      "Starting simulation for n=9, k=7\n"
     ]
    },
    {
     "name": "stderr",
     "output_type": "stream",
     "text": [
      " 56%|█████▋    | 127/225 [27:43<1:26:37, 53.04s/it]"
     ]
    },
    {
     "name": "stdout",
     "output_type": "stream",
     "text": [
      "Starting simulation for n=9, k=8\n"
     ]
    },
    {
     "name": "stderr",
     "output_type": "stream",
     "text": [
      " 57%|█████▋    | 128/225 [28:49<1:31:46, 56.77s/it]"
     ]
    },
    {
     "name": "stdout",
     "output_type": "stream",
     "text": [
      "Starting simulation for n=9, k=9\n"
     ]
    },
    {
     "name": "stderr",
     "output_type": "stream",
     "text": [
      " 57%|█████▋    | 129/225 [29:57<1:36:17, 60.18s/it]"
     ]
    },
    {
     "name": "stdout",
     "output_type": "stream",
     "text": [
      "Starting simulation for n=9, k=10\n"
     ]
    },
    {
     "name": "stderr",
     "output_type": "stream",
     "text": [
      " 58%|█████▊    | 130/225 [31:09<1:41:02, 63.82s/it]"
     ]
    },
    {
     "name": "stdout",
     "output_type": "stream",
     "text": [
      "Starting simulation for n=9, k=11\n"
     ]
    },
    {
     "name": "stderr",
     "output_type": "stream",
     "text": [
      " 58%|█████▊    | 131/225 [32:31<1:48:15, 69.10s/it]"
     ]
    },
    {
     "name": "stdout",
     "output_type": "stream",
     "text": [
      "Starting simulation for n=9, k=12\n"
     ]
    },
    {
     "name": "stderr",
     "output_type": "stream",
     "text": [
      " 59%|█████▊    | 132/225 [33:56<1:54:36, 73.94s/it]"
     ]
    },
    {
     "name": "stdout",
     "output_type": "stream",
     "text": [
      "Starting simulation for n=9, k=13\n"
     ]
    },
    {
     "name": "stderr",
     "output_type": "stream",
     "text": [
      " 59%|█████▉    | 133/225 [35:35<2:04:58, 81.51s/it]"
     ]
    },
    {
     "name": "stdout",
     "output_type": "stream",
     "text": [
      "Starting simulation for n=9, k=14\n"
     ]
    },
    {
     "name": "stderr",
     "output_type": "stream",
     "text": [
      " 60%|█████▉    | 134/225 [37:37<2:21:55, 93.58s/it]"
     ]
    },
    {
     "name": "stdout",
     "output_type": "stream",
     "text": [
      "Starting simulation for n=9, k=15\n"
     ]
    },
    {
     "name": "stderr",
     "output_type": "stream",
     "text": [
      " 60%|██████    | 135/225 [39:44<2:35:24, 103.60s/it]"
     ]
    },
    {
     "name": "stdout",
     "output_type": "stream",
     "text": [
      "Starting simulation for n=10, k=1\n"
     ]
    },
    {
     "name": "stderr",
     "output_type": "stream",
     "text": [
      " 60%|██████    | 136/225 [40:46<2:15:18, 91.22s/it] "
     ]
    },
    {
     "name": "stdout",
     "output_type": "stream",
     "text": [
      "Starting simulation for n=10, k=2\n"
     ]
    },
    {
     "name": "stderr",
     "output_type": "stream",
     "text": [
      " 61%|██████    | 137/225 [42:13<2:11:44, 89.82s/it]"
     ]
    },
    {
     "name": "stdout",
     "output_type": "stream",
     "text": [
      "Starting simulation for n=10, k=3\n"
     ]
    },
    {
     "name": "stderr",
     "output_type": "stream",
     "text": [
      " 61%|██████▏   | 138/225 [43:31<2:05:02, 86.24s/it]"
     ]
    },
    {
     "name": "stdout",
     "output_type": "stream",
     "text": [
      "Starting simulation for n=10, k=4\n"
     ]
    },
    {
     "name": "stderr",
     "output_type": "stream",
     "text": [
      " 62%|██████▏   | 139/225 [45:04<2:06:45, 88.44s/it]"
     ]
    },
    {
     "name": "stdout",
     "output_type": "stream",
     "text": [
      "Starting simulation for n=10, k=5\n"
     ]
    },
    {
     "name": "stderr",
     "output_type": "stream",
     "text": [
      " 62%|██████▏   | 140/225 [46:38<2:07:34, 90.05s/it]"
     ]
    },
    {
     "name": "stdout",
     "output_type": "stream",
     "text": [
      "Starting simulation for n=10, k=6\n"
     ]
    },
    {
     "name": "stderr",
     "output_type": "stream",
     "text": [
      " 63%|██████▎   | 141/225 [48:26<2:13:35, 95.42s/it]"
     ]
    },
    {
     "name": "stdout",
     "output_type": "stream",
     "text": [
      "Starting simulation for n=10, k=7\n"
     ]
    },
    {
     "name": "stderr",
     "output_type": "stream",
     "text": [
      " 63%|██████▎   | 142/225 [50:17<2:18:41, 100.25s/it]"
     ]
    },
    {
     "name": "stdout",
     "output_type": "stream",
     "text": [
      "Starting simulation for n=10, k=8\n"
     ]
    },
    {
     "name": "stderr",
     "output_type": "stream",
     "text": [
      " 64%|██████▎   | 143/225 [52:15<2:24:09, 105.48s/it]"
     ]
    },
    {
     "name": "stdout",
     "output_type": "stream",
     "text": [
      "Starting simulation for n=10, k=9\n"
     ]
    },
    {
     "name": "stderr",
     "output_type": "stream",
     "text": [
      " 64%|██████▍   | 144/225 [54:23<2:31:20, 112.10s/it]"
     ]
    },
    {
     "name": "stdout",
     "output_type": "stream",
     "text": [
      "Starting simulation for n=10, k=10\n"
     ]
    },
    {
     "name": "stderr",
     "output_type": "stream",
     "text": [
      " 64%|██████▍   | 145/225 [56:36<2:37:56, 118.45s/it]"
     ]
    },
    {
     "name": "stdout",
     "output_type": "stream",
     "text": [
      "Starting simulation for n=10, k=11\n"
     ]
    },
    {
     "name": "stderr",
     "output_type": "stream",
     "text": [
      " 65%|██████▍   | 146/225 [58:52<2:42:59, 123.78s/it]"
     ]
    },
    {
     "name": "stdout",
     "output_type": "stream",
     "text": [
      "Starting simulation for n=10, k=12\n"
     ]
    },
    {
     "name": "stderr",
     "output_type": "stream",
     "text": [
      " 65%|██████▌   | 147/225 [1:01:22<2:50:55, 131.49s/it]"
     ]
    },
    {
     "name": "stdout",
     "output_type": "stream",
     "text": [
      "Starting simulation for n=10, k=13\n"
     ]
    },
    {
     "name": "stderr",
     "output_type": "stream",
     "text": [
      " 66%|██████▌   | 148/225 [1:03:57<2:58:07, 138.80s/it]"
     ]
    },
    {
     "name": "stdout",
     "output_type": "stream",
     "text": [
      "Starting simulation for n=10, k=14\n"
     ]
    },
    {
     "name": "stderr",
     "output_type": "stream",
     "text": [
      " 66%|██████▌   | 149/225 [1:06:42<3:05:38, 146.56s/it]"
     ]
    },
    {
     "name": "stdout",
     "output_type": "stream",
     "text": [
      "Starting simulation for n=10, k=15\n"
     ]
    },
    {
     "name": "stderr",
     "output_type": "stream",
     "text": [
      " 67%|██████▋   | 150/225 [1:09:36<3:13:22, 154.69s/it]"
     ]
    },
    {
     "name": "stdout",
     "output_type": "stream",
     "text": [
      "Starting simulation for n=11, k=1\n"
     ]
    },
    {
     "name": "stderr",
     "output_type": "stream",
     "text": [
      " 67%|██████▋   | 151/225 [1:10:49<2:40:33, 130.19s/it]"
     ]
    },
    {
     "name": "stdout",
     "output_type": "stream",
     "text": [
      "Starting simulation for n=11, k=2\n"
     ]
    },
    {
     "name": "stderr",
     "output_type": "stream",
     "text": [
      " 68%|██████▊   | 152/225 [1:12:06<2:19:12, 114.42s/it]"
     ]
    },
    {
     "name": "stdout",
     "output_type": "stream",
     "text": [
      "Starting simulation for n=11, k=3\n"
     ]
    },
    {
     "name": "stderr",
     "output_type": "stream",
     "text": [
      " 68%|██████▊   | 153/225 [1:13:35<2:07:56, 106.62s/it]"
     ]
    },
    {
     "name": "stdout",
     "output_type": "stream",
     "text": [
      "Starting simulation for n=11, k=4\n"
     ]
    },
    {
     "name": "stderr",
     "output_type": "stream",
     "text": [
      " 68%|██████▊   | 154/225 [1:15:08<2:01:30, 102.68s/it]"
     ]
    },
    {
     "name": "stdout",
     "output_type": "stream",
     "text": [
      "Starting simulation for n=11, k=5\n"
     ]
    },
    {
     "name": "stderr",
     "output_type": "stream",
     "text": [
      " 69%|██████▉   | 155/225 [1:17:19<2:09:37, 111.11s/it]"
     ]
    },
    {
     "name": "stdout",
     "output_type": "stream",
     "text": [
      "Starting simulation for n=11, k=6\n"
     ]
    },
    {
     "name": "stderr",
     "output_type": "stream",
     "text": [
      " 69%|██████▉   | 156/225 [1:19:43<2:19:01, 120.88s/it]"
     ]
    },
    {
     "name": "stdout",
     "output_type": "stream",
     "text": [
      "Starting simulation for n=11, k=7\n"
     ]
    },
    {
     "name": "stderr",
     "output_type": "stream",
     "text": [
      " 70%|██████▉   | 157/225 [1:22:20<2:29:23, 131.82s/it]"
     ]
    },
    {
     "name": "stdout",
     "output_type": "stream",
     "text": [
      "Starting simulation for n=11, k=8\n"
     ]
    },
    {
     "name": "stderr",
     "output_type": "stream",
     "text": [
      " 70%|███████   | 158/225 [1:25:06<2:38:27, 141.90s/it]"
     ]
    },
    {
     "name": "stdout",
     "output_type": "stream",
     "text": [
      "Starting simulation for n=11, k=9\n"
     ]
    },
    {
     "name": "stderr",
     "output_type": "stream",
     "text": [
      " 71%|███████   | 159/225 [1:27:58<2:46:16, 151.15s/it]"
     ]
    },
    {
     "name": "stdout",
     "output_type": "stream",
     "text": [
      "Starting simulation for n=11, k=10\n"
     ]
    },
    {
     "name": "stderr",
     "output_type": "stream",
     "text": [
      " 71%|███████   | 160/225 [1:31:05<2:55:15, 161.77s/it]"
     ]
    },
    {
     "name": "stdout",
     "output_type": "stream",
     "text": [
      "Starting simulation for n=11, k=11\n"
     ]
    },
    {
     "name": "stderr",
     "output_type": "stream",
     "text": [
      " 72%|███████▏  | 161/225 [1:34:18<3:02:41, 171.27s/it]"
     ]
    },
    {
     "name": "stdout",
     "output_type": "stream",
     "text": [
      "Starting simulation for n=11, k=12\n"
     ]
    },
    {
     "name": "stderr",
     "output_type": "stream",
     "text": [
      " 72%|███████▏  | 162/225 [1:37:47<3:11:29, 182.37s/it]"
     ]
    },
    {
     "name": "stdout",
     "output_type": "stream",
     "text": [
      "Starting simulation for n=11, k=13\n"
     ]
    },
    {
     "name": "stderr",
     "output_type": "stream",
     "text": [
      " 72%|███████▏  | 163/225 [1:41:26<3:19:56, 193.49s/it]"
     ]
    },
    {
     "name": "stdout",
     "output_type": "stream",
     "text": [
      "Starting simulation for n=11, k=14\n"
     ]
    },
    {
     "name": "stderr",
     "output_type": "stream",
     "text": [
      " 73%|███████▎  | 164/225 [1:45:21<3:29:22, 205.94s/it]"
     ]
    },
    {
     "name": "stdout",
     "output_type": "stream",
     "text": [
      "Starting simulation for n=11, k=15\n"
     ]
    },
    {
     "name": "stderr",
     "output_type": "stream",
     "text": [
      " 73%|███████▎  | 165/225 [1:49:27<3:38:01, 218.02s/it]"
     ]
    },
    {
     "name": "stdout",
     "output_type": "stream",
     "text": [
      "Starting simulation for n=12, k=1\n"
     ]
    },
    {
     "name": "stderr",
     "output_type": "stream",
     "text": [
      " 74%|███████▍  | 166/225 [1:50:56<2:56:15, 179.25s/it]"
     ]
    },
    {
     "name": "stdout",
     "output_type": "stream",
     "text": [
      "Starting simulation for n=12, k=2\n"
     ]
    },
    {
     "name": "stderr",
     "output_type": "stream",
     "text": [
      " 74%|███████▍  | 167/225 [1:53:15<2:41:27, 167.02s/it]"
     ]
    },
    {
     "name": "stdout",
     "output_type": "stream",
     "text": [
      "Starting simulation for n=12, k=3\n"
     ]
    },
    {
     "name": "stderr",
     "output_type": "stream",
     "text": [
      " 75%|███████▍  | 168/225 [1:55:28<2:28:59, 156.83s/it]"
     ]
    },
    {
     "name": "stdout",
     "output_type": "stream",
     "text": [
      "Starting simulation for n=12, k=4\n"
     ]
    },
    {
     "name": "stderr",
     "output_type": "stream",
     "text": [
      " 75%|███████▌  | 169/225 [1:57:31<2:17:06, 146.89s/it]"
     ]
    },
    {
     "name": "stdout",
     "output_type": "stream",
     "text": [
      "Starting simulation for n=12, k=5\n"
     ]
    },
    {
     "name": "stderr",
     "output_type": "stream",
     "text": [
      " 76%|███████▌  | 170/225 [1:59:46<2:11:17, 143.23s/it]"
     ]
    },
    {
     "name": "stdout",
     "output_type": "stream",
     "text": [
      "Starting simulation for n=12, k=6\n"
     ]
    },
    {
     "name": "stderr",
     "output_type": "stream",
     "text": [
      " 76%|███████▌  | 171/225 [2:02:52<2:20:25, 156.03s/it]"
     ]
    },
    {
     "name": "stdout",
     "output_type": "stream",
     "text": [
      "Starting simulation for n=12, k=7\n"
     ]
    },
    {
     "name": "stderr",
     "output_type": "stream",
     "text": [
      " 76%|███████▋  | 172/225 [2:06:11<2:29:17, 169.02s/it]"
     ]
    },
    {
     "name": "stdout",
     "output_type": "stream",
     "text": [
      "Starting simulation for n=12, k=8\n"
     ]
    },
    {
     "name": "stderr",
     "output_type": "stream",
     "text": [
      " 77%|███████▋  | 173/225 [2:09:46<2:38:24, 182.79s/it]"
     ]
    },
    {
     "name": "stdout",
     "output_type": "stream",
     "text": [
      "Starting simulation for n=12, k=9\n"
     ]
    },
    {
     "name": "stderr",
     "output_type": "stream",
     "text": [
      " 77%|███████▋  | 174/225 [2:13:33<2:46:44, 196.17s/it]"
     ]
    },
    {
     "name": "stdout",
     "output_type": "stream",
     "text": [
      "Starting simulation for n=12, k=10\n"
     ]
    },
    {
     "name": "stderr",
     "output_type": "stream",
     "text": [
      " 78%|███████▊  | 175/225 [2:17:35<2:54:43, 209.67s/it]"
     ]
    },
    {
     "name": "stdout",
     "output_type": "stream",
     "text": [
      "Starting simulation for n=12, k=11\n"
     ]
    },
    {
     "name": "stderr",
     "output_type": "stream",
     "text": [
      " 78%|███████▊  | 176/225 [2:21:55<3:03:39, 224.88s/it]"
     ]
    },
    {
     "name": "stdout",
     "output_type": "stream",
     "text": [
      "Starting simulation for n=12, k=12\n"
     ]
    },
    {
     "name": "stderr",
     "output_type": "stream",
     "text": [
      " 79%|███████▊  | 177/225 [2:26:28<3:11:21, 239.20s/it]"
     ]
    },
    {
     "name": "stdout",
     "output_type": "stream",
     "text": [
      "Starting simulation for n=12, k=13\n"
     ]
    },
    {
     "name": "stderr",
     "output_type": "stream",
     "text": [
      " 79%|███████▉  | 178/225 [2:31:15<3:18:40, 253.63s/it]"
     ]
    },
    {
     "name": "stdout",
     "output_type": "stream",
     "text": [
      "Starting simulation for n=12, k=14\n"
     ]
    },
    {
     "name": "stderr",
     "output_type": "stream",
     "text": [
      " 80%|███████▉  | 179/225 [2:36:21<3:26:31, 269.39s/it]"
     ]
    },
    {
     "name": "stdout",
     "output_type": "stream",
     "text": [
      "Starting simulation for n=12, k=15\n"
     ]
    },
    {
     "name": "stderr",
     "output_type": "stream",
     "text": [
      " 80%|████████  | 180/225 [2:41:40<3:33:15, 284.34s/it]"
     ]
    },
    {
     "name": "stdout",
     "output_type": "stream",
     "text": [
      "Starting simulation for n=13, k=1\n"
     ]
    },
    {
     "name": "stderr",
     "output_type": "stream",
     "text": [
      " 80%|████████  | 181/225 [2:42:38<2:38:41, 216.40s/it]"
     ]
    },
    {
     "name": "stdout",
     "output_type": "stream",
     "text": [
      "Starting simulation for n=13, k=2\n"
     ]
    },
    {
     "name": "stderr",
     "output_type": "stream",
     "text": [
      " 81%|████████  | 182/225 [2:43:36<2:01:00, 168.85s/it]"
     ]
    },
    {
     "name": "stdout",
     "output_type": "stream",
     "text": [
      "Starting simulation for n=13, k=3\n"
     ]
    },
    {
     "name": "stderr",
     "output_type": "stream",
     "text": [
      " 81%|████████▏ | 183/225 [2:45:21<1:44:47, 149.71s/it]"
     ]
    },
    {
     "name": "stdout",
     "output_type": "stream",
     "text": [
      "Starting simulation for n=13, k=4\n"
     ]
    },
    {
     "name": "stderr",
     "output_type": "stream",
     "text": [
      " 82%|████████▏ | 184/225 [2:47:10<1:33:58, 137.53s/it]"
     ]
    },
    {
     "name": "stdout",
     "output_type": "stream",
     "text": [
      "Starting simulation for n=13, k=5\n"
     ]
    },
    {
     "name": "stderr",
     "output_type": "stream",
     "text": [
      " 82%|████████▏ | 185/225 [2:49:09<1:28:01, 132.03s/it]"
     ]
    },
    {
     "name": "stdout",
     "output_type": "stream",
     "text": [
      "Starting simulation for n=13, k=6\n"
     ]
    },
    {
     "name": "stderr",
     "output_type": "stream",
     "text": [
      " 83%|████████▎ | 186/225 [2:51:14<1:24:17, 129.68s/it]"
     ]
    },
    {
     "name": "stdout",
     "output_type": "stream",
     "text": [
      "Starting simulation for n=13, k=7\n"
     ]
    },
    {
     "name": "stderr",
     "output_type": "stream",
     "text": [
      " 83%|████████▎ | 187/225 [2:53:33<1:24:03, 132.73s/it]"
     ]
    },
    {
     "name": "stdout",
     "output_type": "stream",
     "text": [
      "Starting simulation for n=13, k=8\n"
     ]
    },
    {
     "name": "stderr",
     "output_type": "stream",
     "text": [
      " 84%|████████▎ | 188/225 [2:56:37<1:31:09, 147.83s/it]"
     ]
    },
    {
     "name": "stdout",
     "output_type": "stream",
     "text": [
      "Starting simulation for n=13, k=9\n"
     ]
    },
    {
     "name": "stderr",
     "output_type": "stream",
     "text": [
      " 84%|████████▍ | 189/225 [3:00:00<1:38:37, 164.37s/it]"
     ]
    },
    {
     "name": "stdout",
     "output_type": "stream",
     "text": [
      "Starting simulation for n=13, k=10\n"
     ]
    },
    {
     "name": "stderr",
     "output_type": "stream",
     "text": [
      " 84%|████████▍ | 190/225 [3:03:24<1:42:49, 176.26s/it]"
     ]
    },
    {
     "name": "stdout",
     "output_type": "stream",
     "text": [
      "Starting simulation for n=13, k=11\n"
     ]
    },
    {
     "name": "stderr",
     "output_type": "stream",
     "text": [
      " 85%|████████▍ | 191/225 [3:07:05<1:47:29, 189.68s/it]"
     ]
    },
    {
     "name": "stdout",
     "output_type": "stream",
     "text": [
      "Starting simulation for n=13, k=12\n"
     ]
    },
    {
     "name": "stderr",
     "output_type": "stream",
     "text": [
      " 85%|████████▌ | 192/225 [3:11:10<1:53:27, 206.29s/it]"
     ]
    },
    {
     "name": "stdout",
     "output_type": "stream",
     "text": [
      "Starting simulation for n=13, k=13\n"
     ]
    },
    {
     "name": "stderr",
     "output_type": "stream",
     "text": [
      " 86%|████████▌ | 193/225 [3:15:26<1:58:06, 221.44s/it]"
     ]
    },
    {
     "name": "stdout",
     "output_type": "stream",
     "text": [
      "Starting simulation for n=13, k=14\n"
     ]
    },
    {
     "name": "stderr",
     "output_type": "stream",
     "text": [
      " 86%|████████▌ | 194/225 [3:20:01<2:02:37, 237.35s/it]"
     ]
    },
    {
     "name": "stdout",
     "output_type": "stream",
     "text": [
      "Starting simulation for n=13, k=15\n"
     ]
    },
    {
     "name": "stderr",
     "output_type": "stream",
     "text": [
      " 87%|████████▋ | 195/225 [3:25:00<2:07:56, 255.89s/it]"
     ]
    },
    {
     "name": "stdout",
     "output_type": "stream",
     "text": [
      "Starting simulation for n=14, k=1\n"
     ]
    },
    {
     "name": "stderr",
     "output_type": "stream",
     "text": [
      " 87%|████████▋ | 196/225 [3:26:19<1:38:03, 202.89s/it]"
     ]
    },
    {
     "name": "stdout",
     "output_type": "stream",
     "text": [
      "Starting simulation for n=14, k=2\n"
     ]
    },
    {
     "name": "stderr",
     "output_type": "stream",
     "text": [
      " 88%|████████▊ | 197/225 [3:27:49<1:18:51, 168.97s/it]"
     ]
    },
    {
     "name": "stdout",
     "output_type": "stream",
     "text": [
      "Starting simulation for n=14, k=3\n"
     ]
    },
    {
     "name": "stderr",
     "output_type": "stream",
     "text": [
      " 88%|████████▊ | 198/225 [3:30:27<1:14:29, 165.52s/it]"
     ]
    },
    {
     "name": "stdout",
     "output_type": "stream",
     "text": [
      "Starting simulation for n=14, k=4\n"
     ]
    },
    {
     "name": "stderr",
     "output_type": "stream",
     "text": [
      " 88%|████████▊ | 199/225 [3:33:14<1:11:57, 166.06s/it]"
     ]
    },
    {
     "name": "stdout",
     "output_type": "stream",
     "text": [
      "Starting simulation for n=14, k=5\n"
     ]
    },
    {
     "name": "stderr",
     "output_type": "stream",
     "text": [
      " 89%|████████▉ | 200/225 [3:36:23<1:12:04, 172.98s/it]"
     ]
    },
    {
     "name": "stdout",
     "output_type": "stream",
     "text": [
      "Starting simulation for n=14, k=6\n"
     ]
    },
    {
     "name": "stderr",
     "output_type": "stream",
     "text": [
      " 89%|████████▉ | 201/225 [3:39:52<1:13:30, 183.76s/it]"
     ]
    },
    {
     "name": "stdout",
     "output_type": "stream",
     "text": [
      "Starting simulation for n=14, k=7\n"
     ]
    },
    {
     "name": "stderr",
     "output_type": "stream",
     "text": [
      " 90%|████████▉ | 202/225 [3:43:36<1:15:07, 195.96s/it]"
     ]
    },
    {
     "name": "stdout",
     "output_type": "stream",
     "text": [
      "Starting simulation for n=14, k=8\n"
     ]
    },
    {
     "name": "stderr",
     "output_type": "stream",
     "text": [
      " 90%|█████████ | 203/225 [3:47:30<1:16:02, 207.39s/it]"
     ]
    },
    {
     "name": "stdout",
     "output_type": "stream",
     "text": [
      "Starting simulation for n=14, k=9\n"
     ]
    },
    {
     "name": "stderr",
     "output_type": "stream",
     "text": [
      " 90%|█████████ | 203/225 [3:48:31<24:46, 67.55s/it]   \n"
     ]
    },
    {
     "ename": "KeyboardInterrupt",
     "evalue": "",
     "output_type": "error",
     "traceback": [
      "\u001b[1;31m---------------------------------------------------------------------------\u001b[0m",
      "\u001b[1;31mKeyError\u001b[0m                                  Traceback (most recent call last)",
      "File \u001b[1;32mc:\\Users\\Saeed\\archive\\Documents\\GitHub\\election_research\\gerry\\lib\\site-packages\\pandas\\core\\indexes\\base.py:3805\u001b[0m, in \u001b[0;36mIndex.get_loc\u001b[1;34m(self, key)\u001b[0m\n\u001b[0;32m   3804\u001b[0m \u001b[38;5;28;01mtry\u001b[39;00m:\n\u001b[1;32m-> 3805\u001b[0m     \u001b[38;5;28;01mreturn\u001b[39;00m \u001b[38;5;28;43mself\u001b[39;49m\u001b[38;5;241;43m.\u001b[39;49m\u001b[43m_engine\u001b[49m\u001b[38;5;241;43m.\u001b[39;49m\u001b[43mget_loc\u001b[49m\u001b[43m(\u001b[49m\u001b[43mcasted_key\u001b[49m\u001b[43m)\u001b[49m\n\u001b[0;32m   3806\u001b[0m \u001b[38;5;28;01mexcept\u001b[39;00m \u001b[38;5;167;01mKeyError\u001b[39;00m \u001b[38;5;28;01mas\u001b[39;00m err:\n",
      "File \u001b[1;32mindex.pyx:167\u001b[0m, in \u001b[0;36mpandas._libs.index.IndexEngine.get_loc\u001b[1;34m()\u001b[0m\n",
      "File \u001b[1;32mindex.pyx:196\u001b[0m, in \u001b[0;36mpandas._libs.index.IndexEngine.get_loc\u001b[1;34m()\u001b[0m\n",
      "File \u001b[1;32mpandas\\\\_libs\\\\hashtable_class_helper.pxi:2606\u001b[0m, in \u001b[0;36mpandas._libs.hashtable.Int64HashTable.get_item\u001b[1;34m()\u001b[0m\n",
      "File \u001b[1;32mpandas\\\\_libs\\\\hashtable_class_helper.pxi:2630\u001b[0m, in \u001b[0;36mpandas._libs.hashtable.Int64HashTable.get_item\u001b[1;34m()\u001b[0m\n",
      "\u001b[1;31mKeyError\u001b[0m: 824",
      "\nDuring handling of the above exception, another exception occurred:\n",
      "\u001b[1;31mKeyboardInterrupt\u001b[0m                         Traceback (most recent call last)",
      "Cell \u001b[1;32mIn[83], line 37\u001b[0m\n\u001b[0;32m     35\u001b[0m \u001b[38;5;28;01mfor\u001b[39;00m params \u001b[38;5;129;01min\u001b[39;00m tqdm(examples):\n\u001b[0;32m     36\u001b[0m     \u001b[38;5;28;01mtry\u001b[39;00m:\n\u001b[1;32m---> 37\u001b[0m         result \u001b[38;5;241m=\u001b[39m \u001b[43mrun_simulation\u001b[49m\u001b[43m(\u001b[49m\u001b[43mparams\u001b[49m\u001b[43m)\u001b[49m\n\u001b[0;32m     38\u001b[0m         \u001b[38;5;28;01mif\u001b[39;00m result \u001b[38;5;129;01mis\u001b[39;00m \u001b[38;5;129;01mnot\u001b[39;00m \u001b[38;5;28;01mNone\u001b[39;00m \u001b[38;5;129;01mand\u001b[39;00m \u001b[38;5;129;01mnot\u001b[39;00m result\u001b[38;5;241m.\u001b[39mempty:\n\u001b[0;32m     39\u001b[0m             results\u001b[38;5;241m.\u001b[39mappend(result)\n",
      "Cell \u001b[1;32mIn[83], line 14\u001b[0m, in \u001b[0;36mrun_simulation\u001b[1;34m(params)\u001b[0m\n\u001b[0;32m     11\u001b[0m left_side, right_side \u001b[38;5;241m=\u001b[39m step_five_finder(delta, gamma, k, p_0, n, c, r)\n\u001b[0;32m     12\u001b[0m refined_left_side, refined_right_side \u001b[38;5;241m=\u001b[39m refined_step_five_finder(delta, gamma, k, p_0, n, c, r)\n\u001b[1;32m---> 14\u001b[0m district_data, pp_each_iter \u001b[38;5;241m=\u001b[39m \u001b[43mdist_assgin\u001b[49m\u001b[43m(\u001b[49m\u001b[43miterations\u001b[49m\u001b[43m,\u001b[49m\u001b[43m \u001b[49m\u001b[43mgrid_length\u001b[49m\u001b[43m,\u001b[49m\u001b[43m \u001b[49m\u001b[43mk\u001b[49m\u001b[43m,\u001b[49m\u001b[43m \u001b[49m\u001b[43mn\u001b[49m\u001b[43m,\u001b[49m\u001b[43m \u001b[49m\u001b[43mr\u001b[49m\u001b[43m,\u001b[49m\u001b[43m \u001b[49m\u001b[43mc\u001b[49m\u001b[43m,\u001b[49m\u001b[43m \u001b[49m\u001b[43mp_0\u001b[49m\u001b[43m)\u001b[49m\n\u001b[0;32m     16\u001b[0m extra \u001b[38;5;241m=\u001b[39m [n, L, (c\u001b[38;5;241m*\u001b[39mr), k, p_0, left_side, right_side, refined_left_side, refined_right_side, delta, gamma]\n\u001b[0;32m     17\u001b[0m df \u001b[38;5;241m=\u001b[39m create_dataFrame(district_data, extra, pp_each_iter)\n",
      "Cell \u001b[1;32mIn[76], line 51\u001b[0m, in \u001b[0;36mdist_assgin\u001b[1;34m(iterations, grid_size, dist_num, n, r, c, p_0)\u001b[0m\n\u001b[0;32m     47\u001b[0m \u001b[38;5;66;03m# need to set up nodes once and reuse in iterations\u001b[39;00m\n\u001b[0;32m     48\u001b[0m start_nodes, end_nodes, capacities, costs, supplies, source, sink, pops, total_pop\u001b[38;5;241m=\u001b[39m\\\n\u001b[0;32m     49\u001b[0m     setup(districts,grid_size,district_centers,pops)\n\u001b[1;32m---> 51\u001b[0m Block_Assignments \u001b[38;5;241m=\u001b[39m \u001b[43moptimize\u001b[49m\u001b[43m(\u001b[49m\u001b[43mstart_nodes\u001b[49m\u001b[43m,\u001b[49m\u001b[43m \u001b[49m\u001b[43mend_nodes\u001b[49m\u001b[43m,\u001b[49m\u001b[43m \u001b[49m\u001b[43mcapacities\u001b[49m\u001b[43m,\u001b[49m\u001b[43m \u001b[49m\u001b[43mcosts\u001b[49m\u001b[43m,\u001b[49m\u001b[43m \u001b[49m\u001b[43msupplies\u001b[49m\u001b[43m,\u001b[49m\u001b[43m \u001b[49m\u001b[43msource\u001b[49m\u001b[43m,\u001b[49m\u001b[43m \u001b[49m\u001b[43msink\u001b[49m\u001b[43m,\u001b[49m\u001b[43m \u001b[49m\u001b[43mgrid\u001b[49m\u001b[43m,\u001b[49m\u001b[43m \u001b[49m\u001b[43mgrid_size\u001b[49m\u001b[43m)\u001b[49m\n\u001b[0;32m     53\u001b[0m dist_area \u001b[38;5;241m=\u001b[39m {}\n\u001b[0;32m     54\u001b[0m district_dict \u001b[38;5;241m=\u001b[39m {}\n",
      "Cell \u001b[1;32mIn[72], line 49\u001b[0m, in \u001b[0;36moptimize\u001b[1;34m(start_nodes, end_nodes, capacities, costs, supplies, source, sink, grid, grid_size)\u001b[0m\n\u001b[0;32m     45\u001b[0m \u001b[38;5;28;01mif\u001b[39;00m min_cost_flow\u001b[38;5;241m.\u001b[39mCapacity(arc)\u001b[38;5;241m==\u001b[39mmin_cost_flow\u001b[38;5;241m.\u001b[39mFlow(arc):\n\u001b[0;32m     46\u001b[0m   grid\u001b[38;5;241m.\u001b[39mnodes[(\u001b[38;5;28mint\u001b[39m(((min_cost_flow\u001b[38;5;241m.\u001b[39mTail(arc)\u001b[38;5;241m-\u001b[39m\u001b[38;5;241m1\u001b[39m)\u001b[38;5;241m/\u001b[39mgrid_size)),\n\u001b[0;32m     47\u001b[0m           (min_cost_flow\u001b[38;5;241m.\u001b[39mTail(arc)\u001b[38;5;241m-\u001b[39m\u001b[38;5;241m1\u001b[39m)\u001b[38;5;241m%\u001b[39mgrid_size)][\u001b[38;5;124m\"\u001b[39m\u001b[38;5;124mdistrict\u001b[39m\u001b[38;5;124m\"\u001b[39m]\u001b[38;5;241m=\u001b[39mmin_cost_flow\u001b[38;5;241m.\u001b[39mHead(arc)\n\u001b[1;32m---> 49\u001b[0m   \u001b[43mBlock_Assignments\u001b[49m\u001b[38;5;241;43m.\u001b[39;49m\u001b[43mloc\u001b[49m\u001b[43m[\u001b[49m\u001b[43mmin_cost_flow\u001b[49m\u001b[38;5;241;43m.\u001b[39;49m\u001b[43mTail\u001b[49m\u001b[43m(\u001b[49m\u001b[43marc\u001b[49m\u001b[43m)\u001b[49m\u001b[43m]\u001b[49m\u001b[38;5;241m=\u001b[39m[min_cost_flow\u001b[38;5;241m.\u001b[39mHead(arc),min_cost_flow\u001b[38;5;241m.\u001b[39mFlow(arc),\n\u001b[0;32m     50\u001b[0m                                               min_cost_flow\u001b[38;5;241m.\u001b[39mCapacity(arc)]\n\u001b[0;32m     52\u001b[0m \u001b[38;5;28;01melse\u001b[39;00m:\n\u001b[0;32m     54\u001b[0m   \u001b[38;5;28;01mif\u001b[39;00m flag\u001b[38;5;241m==\u001b[39m\u001b[38;5;241m0\u001b[39m:\n",
      "File \u001b[1;32mc:\\Users\\Saeed\\archive\\Documents\\GitHub\\election_research\\gerry\\lib\\site-packages\\pandas\\core\\indexing.py:907\u001b[0m, in \u001b[0;36m_LocationIndexer.__setitem__\u001b[1;34m(self, key, value)\u001b[0m\n\u001b[0;32m    905\u001b[0m     maybe_callable \u001b[38;5;241m=\u001b[39m com\u001b[38;5;241m.\u001b[39mapply_if_callable(key, \u001b[38;5;28mself\u001b[39m\u001b[38;5;241m.\u001b[39mobj)\n\u001b[0;32m    906\u001b[0m     key \u001b[38;5;241m=\u001b[39m \u001b[38;5;28mself\u001b[39m\u001b[38;5;241m.\u001b[39m_check_deprecated_callable_usage(key, maybe_callable)\n\u001b[1;32m--> 907\u001b[0m indexer \u001b[38;5;241m=\u001b[39m \u001b[38;5;28;43mself\u001b[39;49m\u001b[38;5;241;43m.\u001b[39;49m\u001b[43m_get_setitem_indexer\u001b[49m\u001b[43m(\u001b[49m\u001b[43mkey\u001b[49m\u001b[43m)\u001b[49m\n\u001b[0;32m    908\u001b[0m \u001b[38;5;28mself\u001b[39m\u001b[38;5;241m.\u001b[39m_has_valid_setitem_indexer(key)\n\u001b[0;32m    910\u001b[0m iloc \u001b[38;5;241m=\u001b[39m \u001b[38;5;28mself\u001b[39m \u001b[38;5;28;01mif\u001b[39;00m \u001b[38;5;28mself\u001b[39m\u001b[38;5;241m.\u001b[39mname \u001b[38;5;241m==\u001b[39m \u001b[38;5;124m\"\u001b[39m\u001b[38;5;124miloc\u001b[39m\u001b[38;5;124m\"\u001b[39m \u001b[38;5;28;01melse\u001b[39;00m \u001b[38;5;28mself\u001b[39m\u001b[38;5;241m.\u001b[39mobj\u001b[38;5;241m.\u001b[39miloc\n",
      "File \u001b[1;32mc:\\Users\\Saeed\\archive\\Documents\\GitHub\\election_research\\gerry\\lib\\site-packages\\pandas\\core\\indexing.py:780\u001b[0m, in \u001b[0;36m_LocationIndexer._get_setitem_indexer\u001b[1;34m(self, key)\u001b[0m\n\u001b[0;32m    776\u001b[0m \u001b[38;5;28;01mif\u001b[39;00m \u001b[38;5;28misinstance\u001b[39m(key, \u001b[38;5;28mrange\u001b[39m):\n\u001b[0;32m    777\u001b[0m     \u001b[38;5;66;03m# GH#45479 test_loc_setitem_range_key\u001b[39;00m\n\u001b[0;32m    778\u001b[0m     key \u001b[38;5;241m=\u001b[39m \u001b[38;5;28mlist\u001b[39m(key)\n\u001b[1;32m--> 780\u001b[0m \u001b[38;5;28;01mreturn\u001b[39;00m \u001b[38;5;28;43mself\u001b[39;49m\u001b[38;5;241;43m.\u001b[39;49m\u001b[43m_convert_to_indexer\u001b[49m\u001b[43m(\u001b[49m\u001b[43mkey\u001b[49m\u001b[43m,\u001b[49m\u001b[43m \u001b[49m\u001b[43maxis\u001b[49m\u001b[38;5;241;43m=\u001b[39;49m\u001b[38;5;241;43m0\u001b[39;49m\u001b[43m)\u001b[49m\n",
      "File \u001b[1;32mc:\\Users\\Saeed\\archive\\Documents\\GitHub\\election_research\\gerry\\lib\\site-packages\\pandas\\core\\indexing.py:1493\u001b[0m, in \u001b[0;36m_LocIndexer._convert_to_indexer\u001b[1;34m(self, key, axis)\u001b[0m\n\u001b[0;32m   1486\u001b[0m \u001b[38;5;28;01mif\u001b[39;00m is_scalar(key) \u001b[38;5;129;01mor\u001b[39;00m (\n\u001b[0;32m   1487\u001b[0m     \u001b[38;5;28misinstance\u001b[39m(labels, MultiIndex) \u001b[38;5;129;01mand\u001b[39;00m is_hashable(key) \u001b[38;5;129;01mand\u001b[39;00m \u001b[38;5;129;01mnot\u001b[39;00m contains_slice\n\u001b[0;32m   1488\u001b[0m ):\n\u001b[0;32m   1489\u001b[0m     \u001b[38;5;66;03m# Otherwise get_loc will raise InvalidIndexError\u001b[39;00m\n\u001b[0;32m   1490\u001b[0m \n\u001b[0;32m   1491\u001b[0m     \u001b[38;5;66;03m# if we are a label return me\u001b[39;00m\n\u001b[0;32m   1492\u001b[0m     \u001b[38;5;28;01mtry\u001b[39;00m:\n\u001b[1;32m-> 1493\u001b[0m         \u001b[38;5;28;01mreturn\u001b[39;00m \u001b[43mlabels\u001b[49m\u001b[38;5;241;43m.\u001b[39;49m\u001b[43mget_loc\u001b[49m\u001b[43m(\u001b[49m\u001b[43mkey\u001b[49m\u001b[43m)\u001b[49m\n\u001b[0;32m   1494\u001b[0m     \u001b[38;5;28;01mexcept\u001b[39;00m \u001b[38;5;167;01mLookupError\u001b[39;00m:\n\u001b[0;32m   1495\u001b[0m         \u001b[38;5;28;01mif\u001b[39;00m \u001b[38;5;28misinstance\u001b[39m(key, \u001b[38;5;28mtuple\u001b[39m) \u001b[38;5;129;01mand\u001b[39;00m \u001b[38;5;28misinstance\u001b[39m(labels, MultiIndex):\n",
      "File \u001b[1;32mc:\\Users\\Saeed\\archive\\Documents\\GitHub\\election_research\\gerry\\lib\\site-packages\\pandas\\core\\indexes\\base.py:3805\u001b[0m, in \u001b[0;36mIndex.get_loc\u001b[1;34m(self, key)\u001b[0m\n\u001b[0;32m   3803\u001b[0m casted_key \u001b[38;5;241m=\u001b[39m \u001b[38;5;28mself\u001b[39m\u001b[38;5;241m.\u001b[39m_maybe_cast_indexer(key)\n\u001b[0;32m   3804\u001b[0m \u001b[38;5;28;01mtry\u001b[39;00m:\n\u001b[1;32m-> 3805\u001b[0m     \u001b[38;5;28;01mreturn\u001b[39;00m \u001b[38;5;28;43mself\u001b[39;49m\u001b[38;5;241;43m.\u001b[39;49m\u001b[43m_engine\u001b[49m\u001b[38;5;241;43m.\u001b[39;49m\u001b[43mget_loc\u001b[49m\u001b[43m(\u001b[49m\u001b[43mcasted_key\u001b[49m\u001b[43m)\u001b[49m\n\u001b[0;32m   3806\u001b[0m \u001b[38;5;28;01mexcept\u001b[39;00m \u001b[38;5;167;01mKeyError\u001b[39;00m \u001b[38;5;28;01mas\u001b[39;00m err:\n\u001b[0;32m   3807\u001b[0m     \u001b[38;5;28;01mif\u001b[39;00m \u001b[38;5;28misinstance\u001b[39m(casted_key, \u001b[38;5;28mslice\u001b[39m) \u001b[38;5;129;01mor\u001b[39;00m (\n\u001b[0;32m   3808\u001b[0m         \u001b[38;5;28misinstance\u001b[39m(casted_key, abc\u001b[38;5;241m.\u001b[39mIterable)\n\u001b[0;32m   3809\u001b[0m         \u001b[38;5;129;01mand\u001b[39;00m \u001b[38;5;28many\u001b[39m(\u001b[38;5;28misinstance\u001b[39m(x, \u001b[38;5;28mslice\u001b[39m) \u001b[38;5;28;01mfor\u001b[39;00m x \u001b[38;5;129;01min\u001b[39;00m casted_key)\n\u001b[0;32m   3810\u001b[0m     ):\n",
      "\u001b[1;31mKeyboardInterrupt\u001b[0m: "
     ]
    },
    {
     "ename": "",
     "evalue": "",
     "output_type": "error",
     "traceback": [
      "\u001b[1;31mThe Kernel crashed while executing code in the current cell or a previous cell. \n",
      "\u001b[1;31mPlease review the code in the cell(s) to identify a possible cause of the failure. \n",
      "\u001b[1;31mClick <a href='https://aka.ms/vscodeJupyterKernelCrash'>here</a> for more info. \n",
      "\u001b[1;31mView Jupyter <a href='command:jupyter.viewOutput'>log</a> for further details."
     ]
    }
   ],
   "source": [
    "import time\n",
    "from tqdm import tqdm\n",
    "\n",
    "def run_simulation(params):\n",
    "    n, k, delta, gamma = params\n",
    "    grid_length = n * c  # entire grid length\n",
    "    print(f\"Starting simulation for n={n}, k={k}, delta={delta}, gamma={gamma}\")\n",
    "\n",
    "    L = math.sqrt(c * r)\n",
    "    left_side, right_side = step_five_finder(delta, gamma, k, p_0, n, c, r)\n",
    "    refined_left_side, refined_right_side = refined_step_five_finder(delta, gamma, k, p_0, n, c, r)\n",
    "    \n",
    "    district_data, pp_each_iter = dist_assgin(iterations, grid_length, k, n, r, c, p_0)\n",
    "    \n",
    "    extra = [n, L, k, p_0, left_side, right_side, refined_left_side, refined_right_side, delta, gamma, c*r]\n",
    "    df = create_dataFrame(district_data, extra, pp_each_iter)\n",
    "    \n",
    "    return df\n",
    "\n",
    "if __name__ == '__main__':\n",
    "    # Define constants\n",
    "    p_0 = 0.5\n",
    "    c = 3\n",
    "    r = 3\n",
    "    iterations = 100\n",
    "\n",
    "    # Generate all combinations of n, k, delta, and gamma\n",
    "    examples = [\n",
    "        (n, k, delta, gamma)\n",
    "        for n in range(1, 16)\n",
    "        for k in range(1, 16)\n",
    "        for delta in [round(d, 2) for d in np.arange(0.01, 0.10, 0.01)]\n",
    "        for gamma in [round(g, 1) for g in np.arange(0.1, 0.8, 0.1)]\n",
    "    ]\n",
    "    \n",
    "    start_time = time.time()\n",
    "    \n",
    "    results = []\n",
    "    for params in tqdm(examples):\n",
    "        try:\n",
    "            n, k, delta, gamma = params\n",
    "            result = run_simulation((n, k, delta, gamma))\n",
    "            if result is not None and not result.empty:\n",
    "                results.append(result)\n",
    "        except Exception as e:\n",
    "            print(f\"Error in simulation for n={n}, k={k}, delta={delta}, gamma={gamma}: {str(e)}\")\n",
    "            continue\n",
    "\n",
    "    if results:\n",
    "        main = pa.concat(results, ignore_index=True)\n",
    "        \n",
    "        end_time = time.time()\n",
    "        print(f\"Total execution time: {end_time - start_time:.2f} seconds\")\n",
    "        \n",
    "        csvDir = 'simulation_data_varied_params.csv'\n",
    "        main.to_csv(csvDir, index=False)\n",
    "        print(f\"Results saved to {csvDir}\")\n",
    "    else:\n",
    "        print(\"No valid results were produced.\")\n",
    "\n",
    "    print(\"Simulation completed.\")"
   ]
  }
 ],
 "metadata": {
  "kernelspec": {
   "display_name": "gerry",
   "language": "python",
   "name": "gerry"
  },
  "language_info": {
   "codemirror_mode": {
    "name": "ipython",
    "version": 3
   },
   "file_extension": ".py",
   "mimetype": "text/x-python",
   "name": "python",
   "nbconvert_exporter": "python",
   "pygments_lexer": "ipython3",
   "version": "3.10.10"
  }
 },
 "nbformat": 4,
 "nbformat_minor": 4
}
