{
 "cells": [
  {
   "cell_type": "code",
   "execution_count": 4,
   "metadata": {},
   "outputs": [
    {
     "name": "stdout",
     "output_type": "stream",
     "text": [
      "+--------+--------+-------+-----------+--------------------+--------------------+----------+-------------+-------------+-------------+---------------+---------------+--------------------+--------------------+--------------------+--------------------+-------------------+--------------------+-----+-----+------+--------------+-----------+---------------------+-------------------+---------------------+--------------------+\n",
      "| votesA | votesB | area  | perimeter |   pp_compactness   |         eg         | imp_flag | win_count_a | win_count_b | total_votes | state_votes_a | state_votes_b |        P_a         |        P_b         |        p_a         |        p_b         |     pOverP_a      |      pOverP_b      |  n  |  L  |  K   | proportion_a | left_side |     right_side      | refined_left_side | refinded_right_side | refined_right_side |\n",
      "+--------+--------+-------+-----------+--------------------+--------------------+----------+-------------+-------------+-------------+---------------+---------------+--------------------+--------------------+--------------------+--------------------+-------------------+--------------------+-----+-----+------+--------------+-----------+---------------------+-------------------+---------------------+--------------------+\n",
      "|  17.0  |  16.0  | 8.25  |   20.0    |       0.2512       | 0.2993827160493827 |   1.0    |     1.0     |     9.0     |    324.0    |     144.0     |     180.0     | 0.4444444444444444 | 0.5555555555555556 |        0.1         |        0.9         | 4.444444444444444 | 0.6172839506172839 | 6.0 | 9.0 | 10.0 |    0.555     |    0.8    | -0.9933233321249691 |        0.8        | 0.7423725765256073  |        nan         |\n",
      "|  19.0  |  18.0  | 9.25  |   18.0    | 0.3488888888888889 | 0.2839506172839506 |   1.0    |     1.0     |     8.0     |    324.0    |     144.0     |     180.0     | 0.4444444444444444 | 0.5555555555555556 | 0.1111111111111111 | 0.8888888888888888 |        4.0        | 0.6250000000000001 | 6.0 | 9.0 | 9.0  |    0.555     |    0.8    | -0.9926740454537848 |        0.8        | 0.7078244789990272  |        nan         |\n",
      "|  22.0  |  19.0  | 10.25 |   20.0    |       0.314        | 0.2685185185185185 |   1.0    |     1.0     |     7.0     |    324.0    |     144.0     |     180.0     | 0.4444444444444444 | 0.5555555555555556 |       0.125        |       0.875        | 3.555555555555556 | 0.634920634920635  | 6.0 | 9.0 | 8.0  |    0.555     |    0.8    | -0.991878293933843  |        0.8        | 0.6715012611776837  |        nan         |\n",
      "|  24.0  |  23.0  | 11.75 |   24.0    | 0.2398611111111111 | 0.1790123456790123 |   0.0    |     1.0     |     5.0     |    324.0    |     144.0     |     180.0     | 0.4444444444444444 | 0.5555555555555556 | 0.1428571428571428 | 0.7142857142857143 | 3.111111111111111 | 0.7777777777777778 | 6.0 | 9.0 | 7.0  |    0.555     |    0.8    | -0.9908786975723204 |        0.8        | 0.6330974604720788  |        nan         |\n",
      "+--------+--------+-------+-----------+--------------------+--------------------+----------+-------------+-------------+-------------+---------------+---------------+--------------------+--------------------+--------------------+--------------------+-------------------+--------------------+-----+-----+------+--------------+-----------+---------------------+-------------------+---------------------+--------------------+\n"
     ]
    },
    {
     "ename": "",
     "evalue": "",
     "output_type": "error",
     "traceback": [
      "\u001b[1;31mThe Kernel crashed while executing code in the current cell or a previous cell. \n",
      "\u001b[1;31mPlease review the code in the cell(s) to identify a possible cause of the failure. \n",
      "\u001b[1;31mClick <a href='https://aka.ms/vscodeJupyterKernelCrash'>here</a> for more info. \n",
      "\u001b[1;31mView Jupyter <a href='command:jupyter.viewOutput'>log</a> for further details."
     ]
    }
   ],
   "source": [
    "import pandas as pd\n",
    "from tabulate import tabulate\n",
    "\n",
    "# Read the CSV file\n",
    "df = pd.read_csv('may_output.csv')\n",
    "\n",
    "# Filter rows where votesA > votesB\n",
    "filtered_df = df[df['votesA'] > df['votesB']]\n",
    "\n",
    "# Display the filtered rows in a pretty table format\n",
    "print(tabulate(filtered_df, headers='keys', tablefmt='pretty', showindex=False))\n",
    "\n",
    "# Optionally, you can save the filtered results to a new CSV file\n",
    "# filtered_df.to_csv('filtered_may_output.csv', index=False)"
   ]
  },
  {
   "cell_type": "code",
   "execution_count": null,
   "metadata": {},
   "outputs": [],
   "source": []
  }
 ],
 "metadata": {
  "kernelspec": {
   "display_name": "Python (gerry_venv)",
   "language": "python",
   "name": "gerry"
  },
  "language_info": {
   "codemirror_mode": {
    "name": "ipython",
    "version": 3
   },
   "file_extension": ".py",
   "mimetype": "text/x-python",
   "name": "python",
   "nbconvert_exporter": "python",
   "pygments_lexer": "ipython3",
   "version": "3.10.10"
  }
 },
 "nbformat": 4,
 "nbformat_minor": 4
}
