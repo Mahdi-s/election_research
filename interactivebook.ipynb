{
 "cells": [
  {
   "cell_type": "code",
   "execution_count": 1,
   "id": "9cc87297-7485-4216-8156-9afe86c6966a",
   "metadata": {},
   "outputs": [
    {
     "data": {
      "application/vnd.plotly.v1+json": {
       "config": {
        "plotlyServerURL": "https://plot.ly"
       },
       "data": [
        {
         "marker": {
          "color": "blue"
         },
         "mode": "markers",
         "name": "District 102",
         "type": "scatter",
         "x": [
          0
         ],
         "y": [
          0
         ]
        },
        {
         "marker": {
          "color": "red"
         },
         "mode": "markers",
         "name": "District 102",
         "type": "scatter",
         "x": [
          0
         ],
         "y": [
          1
         ]
        },
        {
         "marker": {
          "color": "red"
         },
         "mode": "markers",
         "name": "District 102",
         "type": "scatter",
         "x": [
          0
         ],
         "y": [
          2
         ]
        },
        {
         "marker": {
          "color": "red"
         },
         "mode": "markers",
         "name": "District 102",
         "type": "scatter",
         "x": [
          0
         ],
         "y": [
          3
         ]
        },
        {
         "marker": {
          "color": "blue"
         },
         "mode": "markers",
         "name": "District 102",
         "type": "scatter",
         "x": [
          0
         ],
         "y": [
          4
         ]
        },
        {
         "marker": {
          "color": "blue"
         },
         "mode": "markers",
         "name": "District 101",
         "type": "scatter",
         "x": [
          0
         ],
         "y": [
          5
         ]
        },
        {
         "marker": {
          "color": "blue"
         },
         "mode": "markers",
         "name": "District 101",
         "type": "scatter",
         "x": [
          0
         ],
         "y": [
          6
         ]
        },
        {
         "marker": {
          "color": "red"
         },
         "mode": "markers",
         "name": "District 101",
         "type": "scatter",
         "x": [
          0
         ],
         "y": [
          7
         ]
        },
        {
         "marker": {
          "color": "blue"
         },
         "mode": "markers",
         "name": "District 101",
         "type": "scatter",
         "x": [
          0
         ],
         "y": [
          8
         ]
        },
        {
         "marker": {
          "color": "blue"
         },
         "mode": "markers",
         "name": "District 101",
         "type": "scatter",
         "x": [
          0
         ],
         "y": [
          9
         ]
        },
        {
         "marker": {
          "color": "blue"
         },
         "mode": "markers",
         "name": "District 102",
         "type": "scatter",
         "x": [
          1
         ],
         "y": [
          0
         ]
        },
        {
         "marker": {
          "color": "blue"
         },
         "mode": "markers",
         "name": "District 102",
         "type": "scatter",
         "x": [
          1
         ],
         "y": [
          1
         ]
        },
        {
         "marker": {
          "color": "red"
         },
         "mode": "markers",
         "name": "District 102",
         "type": "scatter",
         "x": [
          1
         ],
         "y": [
          2
         ]
        },
        {
         "marker": {
          "color": "blue"
         },
         "mode": "markers",
         "name": "District 102",
         "type": "scatter",
         "x": [
          1
         ],
         "y": [
          3
         ]
        },
        {
         "marker": {
          "color": "blue"
         },
         "mode": "markers",
         "name": "District 102",
         "type": "scatter",
         "x": [
          1
         ],
         "y": [
          4
         ]
        },
        {
         "marker": {
          "color": "red"
         },
         "mode": "markers",
         "name": "District 101",
         "type": "scatter",
         "x": [
          1
         ],
         "y": [
          5
         ]
        },
        {
         "marker": {
          "color": "red"
         },
         "mode": "markers",
         "name": "District 101",
         "type": "scatter",
         "x": [
          1
         ],
         "y": [
          6
         ]
        },
        {
         "marker": {
          "color": "red"
         },
         "mode": "markers",
         "name": "District 101",
         "type": "scatter",
         "x": [
          1
         ],
         "y": [
          7
         ]
        },
        {
         "marker": {
          "color": "blue"
         },
         "mode": "markers",
         "name": "District 101",
         "type": "scatter",
         "x": [
          1
         ],
         "y": [
          8
         ]
        },
        {
         "marker": {
          "color": "red"
         },
         "mode": "markers",
         "name": "District 101",
         "type": "scatter",
         "x": [
          1
         ],
         "y": [
          9
         ]
        },
        {
         "marker": {
          "color": "red"
         },
         "mode": "markers",
         "name": "District 102",
         "type": "scatter",
         "x": [
          2
         ],
         "y": [
          0
         ]
        },
        {
         "marker": {
          "color": "red"
         },
         "mode": "markers",
         "name": "District 102",
         "type": "scatter",
         "x": [
          2
         ],
         "y": [
          1
         ]
        },
        {
         "marker": {
          "color": "red"
         },
         "mode": "markers",
         "name": "District 102",
         "type": "scatter",
         "x": [
          2
         ],
         "y": [
          2
         ]
        },
        {
         "marker": {
          "color": "blue"
         },
         "mode": "markers",
         "name": "District 102",
         "type": "scatter",
         "x": [
          2
         ],
         "y": [
          3
         ]
        },
        {
         "marker": {
          "color": "blue"
         },
         "mode": "markers",
         "name": "District 102",
         "type": "scatter",
         "x": [
          2
         ],
         "y": [
          4
         ]
        },
        {
         "marker": {
          "color": "blue"
         },
         "mode": "markers",
         "name": "District 103",
         "type": "scatter",
         "x": [
          2
         ],
         "y": [
          5
         ]
        },
        {
         "marker": {
          "color": "red"
         },
         "mode": "markers",
         "name": "District 101",
         "type": "scatter",
         "x": [
          2
         ],
         "y": [
          6
         ]
        },
        {
         "marker": {
          "color": "blue"
         },
         "mode": "markers",
         "name": "District 101",
         "type": "scatter",
         "x": [
          2
         ],
         "y": [
          7
         ]
        },
        {
         "marker": {
          "color": "red"
         },
         "mode": "markers",
         "name": "District 101",
         "type": "scatter",
         "x": [
          2
         ],
         "y": [
          8
         ]
        },
        {
         "marker": {
          "color": "red"
         },
         "mode": "markers",
         "name": "District 101",
         "type": "scatter",
         "x": [
          2
         ],
         "y": [
          9
         ]
        },
        {
         "marker": {
          "color": "red"
         },
         "mode": "markers",
         "name": "District 102",
         "type": "scatter",
         "x": [
          3
         ],
         "y": [
          0
         ]
        },
        {
         "marker": {
          "color": "red"
         },
         "mode": "markers",
         "name": "District 102",
         "type": "scatter",
         "x": [
          3
         ],
         "y": [
          1
         ]
        },
        {
         "marker": {
          "color": "blue"
         },
         "mode": "markers",
         "name": "District 102",
         "type": "scatter",
         "x": [
          3
         ],
         "y": [
          2
         ]
        },
        {
         "marker": {
          "color": "red"
         },
         "mode": "markers",
         "name": "District 102",
         "type": "scatter",
         "x": [
          3
         ],
         "y": [
          3
         ]
        },
        {
         "marker": {
          "color": "red"
         },
         "mode": "markers",
         "name": "District 103",
         "type": "scatter",
         "x": [
          3
         ],
         "y": [
          4
         ]
        },
        {
         "marker": {
          "color": "red"
         },
         "mode": "markers",
         "name": "District 103",
         "type": "scatter",
         "x": [
          3
         ],
         "y": [
          5
         ]
        },
        {
         "marker": {
          "color": "red"
         },
         "mode": "markers",
         "name": "District 103",
         "type": "scatter",
         "x": [
          3
         ],
         "y": [
          6
         ]
        },
        {
         "marker": {
          "color": "red"
         },
         "mode": "markers",
         "name": "District 101",
         "type": "scatter",
         "x": [
          3
         ],
         "y": [
          7
         ]
        },
        {
         "marker": {
          "color": "red"
         },
         "mode": "markers",
         "name": "District 101",
         "type": "scatter",
         "x": [
          3
         ],
         "y": [
          8
         ]
        },
        {
         "marker": {
          "color": "red"
         },
         "mode": "markers",
         "name": "District 101",
         "type": "scatter",
         "x": [
          3
         ],
         "y": [
          9
         ]
        },
        {
         "marker": {
          "color": "red"
         },
         "mode": "markers",
         "name": "District 102",
         "type": "scatter",
         "x": [
          4
         ],
         "y": [
          0
         ]
        },
        {
         "marker": {
          "color": "blue"
         },
         "mode": "markers",
         "name": "District 102",
         "type": "scatter",
         "x": [
          4
         ],
         "y": [
          1
         ]
        },
        {
         "marker": {
          "color": "red"
         },
         "mode": "markers",
         "name": "District 103",
         "type": "scatter",
         "x": [
          4
         ],
         "y": [
          2
         ]
        },
        {
         "marker": {
          "color": "blue"
         },
         "mode": "markers",
         "name": "District 103",
         "type": "scatter",
         "x": [
          4
         ],
         "y": [
          3
         ]
        },
        {
         "marker": {
          "color": "red"
         },
         "mode": "markers",
         "name": "District 103",
         "type": "scatter",
         "x": [
          4
         ],
         "y": [
          4
         ]
        },
        {
         "marker": {
          "color": "blue"
         },
         "mode": "markers",
         "name": "District 103",
         "type": "scatter",
         "x": [
          4
         ],
         "y": [
          5
         ]
        },
        {
         "marker": {
          "color": "red"
         },
         "mode": "markers",
         "name": "District 103",
         "type": "scatter",
         "x": [
          4
         ],
         "y": [
          6
         ]
        },
        {
         "marker": {
          "color": "blue"
         },
         "mode": "markers",
         "name": "District 101",
         "type": "scatter",
         "x": [
          4
         ],
         "y": [
          7
         ]
        },
        {
         "marker": {
          "color": "red"
         },
         "mode": "markers",
         "name": "District 101",
         "type": "scatter",
         "x": [
          4
         ],
         "y": [
          8
         ]
        },
        {
         "marker": {
          "color": "blue"
         },
         "mode": "markers",
         "name": "District 101",
         "type": "scatter",
         "x": [
          4
         ],
         "y": [
          9
         ]
        },
        {
         "marker": {
          "color": "blue"
         },
         "mode": "markers",
         "name": "District 104",
         "type": "scatter",
         "x": [
          5
         ],
         "y": [
          0
         ]
        },
        {
         "marker": {
          "color": "red"
         },
         "mode": "markers",
         "name": "District 104",
         "type": "scatter",
         "x": [
          5
         ],
         "y": [
          1
         ]
        },
        {
         "marker": {
          "color": "blue"
         },
         "mode": "markers",
         "name": "District 103",
         "type": "scatter",
         "x": [
          5
         ],
         "y": [
          2
         ]
        },
        {
         "marker": {
          "color": "red"
         },
         "mode": "markers",
         "name": "District 103",
         "type": "scatter",
         "x": [
          5
         ],
         "y": [
          3
         ]
        },
        {
         "marker": {
          "color": "red"
         },
         "mode": "markers",
         "name": "District 103",
         "type": "scatter",
         "x": [
          5
         ],
         "y": [
          4
         ]
        },
        {
         "marker": {
          "color": "blue"
         },
         "mode": "markers",
         "name": "District 103",
         "type": "scatter",
         "x": [
          5
         ],
         "y": [
          5
         ]
        },
        {
         "marker": {
          "color": "blue"
         },
         "mode": "markers",
         "name": "District 103",
         "type": "scatter",
         "x": [
          5
         ],
         "y": [
          6
         ]
        },
        {
         "marker": {
          "color": "blue"
         },
         "mode": "markers",
         "name": "District 103",
         "type": "scatter",
         "x": [
          5
         ],
         "y": [
          7
         ]
        },
        {
         "marker": {
          "color": "blue"
         },
         "mode": "markers",
         "name": "District 105",
         "type": "scatter",
         "x": [
          5
         ],
         "y": [
          8
         ]
        },
        {
         "marker": {
          "color": "blue"
         },
         "mode": "markers",
         "name": "District 101",
         "type": "scatter",
         "x": [
          5
         ],
         "y": [
          9
         ]
        },
        {
         "marker": {
          "color": "red"
         },
         "mode": "markers",
         "name": "District 104",
         "type": "scatter",
         "x": [
          6
         ],
         "y": [
          0
         ]
        },
        {
         "marker": {
          "color": "red"
         },
         "mode": "markers",
         "name": "District 104",
         "type": "scatter",
         "x": [
          6
         ],
         "y": [
          1
         ]
        },
        {
         "marker": {
          "color": "red"
         },
         "mode": "markers",
         "name": "District 104",
         "type": "scatter",
         "x": [
          6
         ],
         "y": [
          2
         ]
        },
        {
         "marker": {
          "color": "red"
         },
         "mode": "markers",
         "name": "District 103",
         "type": "scatter",
         "x": [
          6
         ],
         "y": [
          3
         ]
        },
        {
         "marker": {
          "color": "blue"
         },
         "mode": "markers",
         "name": "District 103",
         "type": "scatter",
         "x": [
          6
         ],
         "y": [
          4
         ]
        },
        {
         "marker": {
          "color": "red"
         },
         "mode": "markers",
         "name": "District 103",
         "type": "scatter",
         "x": [
          6
         ],
         "y": [
          5
         ]
        },
        {
         "marker": {
          "color": "red"
         },
         "mode": "markers",
         "name": "District 103",
         "type": "scatter",
         "x": [
          6
         ],
         "y": [
          6
         ]
        },
        {
         "marker": {
          "color": "blue"
         },
         "mode": "markers",
         "name": "District 105",
         "type": "scatter",
         "x": [
          6
         ],
         "y": [
          7
         ]
        },
        {
         "marker": {
          "color": "blue"
         },
         "mode": "markers",
         "name": "District 105",
         "type": "scatter",
         "x": [
          6
         ],
         "y": [
          8
         ]
        },
        {
         "marker": {
          "color": "red"
         },
         "mode": "markers",
         "name": "District 105",
         "type": "scatter",
         "x": [
          6
         ],
         "y": [
          9
         ]
        },
        {
         "marker": {
          "color": "red"
         },
         "mode": "markers",
         "name": "District 104",
         "type": "scatter",
         "x": [
          7
         ],
         "y": [
          0
         ]
        },
        {
         "marker": {
          "color": "blue"
         },
         "mode": "markers",
         "name": "District 104",
         "type": "scatter",
         "x": [
          7
         ],
         "y": [
          1
         ]
        },
        {
         "marker": {
          "color": "blue"
         },
         "mode": "markers",
         "name": "District 104",
         "type": "scatter",
         "x": [
          7
         ],
         "y": [
          2
         ]
        },
        {
         "marker": {
          "color": "red"
         },
         "mode": "markers",
         "name": "District 104",
         "type": "scatter",
         "x": [
          7
         ],
         "y": [
          3
         ]
        },
        {
         "marker": {
          "color": "blue"
         },
         "mode": "markers",
         "name": "District 103",
         "type": "scatter",
         "x": [
          7
         ],
         "y": [
          4
         ]
        },
        {
         "marker": {
          "color": "blue"
         },
         "mode": "markers",
         "name": "District 103",
         "type": "scatter",
         "x": [
          7
         ],
         "y": [
          5
         ]
        },
        {
         "marker": {
          "color": "blue"
         },
         "mode": "markers",
         "name": "District 105",
         "type": "scatter",
         "x": [
          7
         ],
         "y": [
          6
         ]
        },
        {
         "marker": {
          "color": "red"
         },
         "mode": "markers",
         "name": "District 105",
         "type": "scatter",
         "x": [
          7
         ],
         "y": [
          7
         ]
        },
        {
         "marker": {
          "color": "blue"
         },
         "mode": "markers",
         "name": "District 105",
         "type": "scatter",
         "x": [
          7
         ],
         "y": [
          8
         ]
        },
        {
         "marker": {
          "color": "blue"
         },
         "mode": "markers",
         "name": "District 105",
         "type": "scatter",
         "x": [
          7
         ],
         "y": [
          9
         ]
        },
        {
         "marker": {
          "color": "red"
         },
         "mode": "markers",
         "name": "District 104",
         "type": "scatter",
         "x": [
          8
         ],
         "y": [
          0
         ]
        },
        {
         "marker": {
          "color": "blue"
         },
         "mode": "markers",
         "name": "District 104",
         "type": "scatter",
         "x": [
          8
         ],
         "y": [
          1
         ]
        },
        {
         "marker": {
          "color": "blue"
         },
         "mode": "markers",
         "name": "District 104",
         "type": "scatter",
         "x": [
          8
         ],
         "y": [
          2
         ]
        },
        {
         "marker": {
          "color": "red"
         },
         "mode": "markers",
         "name": "District 104",
         "type": "scatter",
         "x": [
          8
         ],
         "y": [
          3
         ]
        },
        {
         "marker": {
          "color": "red"
         },
         "mode": "markers",
         "name": "District 104",
         "type": "scatter",
         "x": [
          8
         ],
         "y": [
          4
         ]
        },
        {
         "marker": {
          "color": "blue"
         },
         "mode": "markers",
         "name": "District 105",
         "type": "scatter",
         "x": [
          8
         ],
         "y": [
          5
         ]
        },
        {
         "marker": {
          "color": "red"
         },
         "mode": "markers",
         "name": "District 105",
         "type": "scatter",
         "x": [
          8
         ],
         "y": [
          6
         ]
        },
        {
         "marker": {
          "color": "red"
         },
         "mode": "markers",
         "name": "District 105",
         "type": "scatter",
         "x": [
          8
         ],
         "y": [
          7
         ]
        },
        {
         "marker": {
          "color": "red"
         },
         "mode": "markers",
         "name": "District 105",
         "type": "scatter",
         "x": [
          8
         ],
         "y": [
          8
         ]
        },
        {
         "marker": {
          "color": "red"
         },
         "mode": "markers",
         "name": "District 105",
         "type": "scatter",
         "x": [
          8
         ],
         "y": [
          9
         ]
        },
        {
         "marker": {
          "color": "blue"
         },
         "mode": "markers",
         "name": "District 104",
         "type": "scatter",
         "x": [
          9
         ],
         "y": [
          0
         ]
        },
        {
         "marker": {
          "color": "red"
         },
         "mode": "markers",
         "name": "District 104",
         "type": "scatter",
         "x": [
          9
         ],
         "y": [
          1
         ]
        },
        {
         "marker": {
          "color": "red"
         },
         "mode": "markers",
         "name": "District 104",
         "type": "scatter",
         "x": [
          9
         ],
         "y": [
          2
         ]
        },
        {
         "marker": {
          "color": "red"
         },
         "mode": "markers",
         "name": "District 104",
         "type": "scatter",
         "x": [
          9
         ],
         "y": [
          3
         ]
        },
        {
         "marker": {
          "color": "red"
         },
         "mode": "markers",
         "name": "District 104",
         "type": "scatter",
         "x": [
          9
         ],
         "y": [
          4
         ]
        },
        {
         "marker": {
          "color": "blue"
         },
         "mode": "markers",
         "name": "District 105",
         "type": "scatter",
         "x": [
          9
         ],
         "y": [
          5
         ]
        },
        {
         "marker": {
          "color": "red"
         },
         "mode": "markers",
         "name": "District 105",
         "type": "scatter",
         "x": [
          9
         ],
         "y": [
          6
         ]
        },
        {
         "marker": {
          "color": "blue"
         },
         "mode": "markers",
         "name": "District 105",
         "type": "scatter",
         "x": [
          9
         ],
         "y": [
          7
         ]
        },
        {
         "marker": {
          "color": "blue"
         },
         "mode": "markers",
         "name": "District 105",
         "type": "scatter",
         "x": [
          9
         ],
         "y": [
          8
         ]
        },
        {
         "marker": {
          "color": "blue"
         },
         "mode": "markers",
         "name": "District 105",
         "type": "scatter",
         "x": [
          9
         ],
         "y": [
          9
         ]
        }
       ],
       "layout": {
        "template": {
         "data": {
          "bar": [
           {
            "error_x": {
             "color": "#2a3f5f"
            },
            "error_y": {
             "color": "#2a3f5f"
            },
            "marker": {
             "line": {
              "color": "#E5ECF6",
              "width": 0.5
             },
             "pattern": {
              "fillmode": "overlay",
              "size": 10,
              "solidity": 0.2
             }
            },
            "type": "bar"
           }
          ],
          "barpolar": [
           {
            "marker": {
             "line": {
              "color": "#E5ECF6",
              "width": 0.5
             },
             "pattern": {
              "fillmode": "overlay",
              "size": 10,
              "solidity": 0.2
             }
            },
            "type": "barpolar"
           }
          ],
          "carpet": [
           {
            "aaxis": {
             "endlinecolor": "#2a3f5f",
             "gridcolor": "white",
             "linecolor": "white",
             "minorgridcolor": "white",
             "startlinecolor": "#2a3f5f"
            },
            "baxis": {
             "endlinecolor": "#2a3f5f",
             "gridcolor": "white",
             "linecolor": "white",
             "minorgridcolor": "white",
             "startlinecolor": "#2a3f5f"
            },
            "type": "carpet"
           }
          ],
          "choropleth": [
           {
            "colorbar": {
             "outlinewidth": 0,
             "ticks": ""
            },
            "type": "choropleth"
           }
          ],
          "contour": [
           {
            "colorbar": {
             "outlinewidth": 0,
             "ticks": ""
            },
            "colorscale": [
             [
              0,
              "#0d0887"
             ],
             [
              0.1111111111111111,
              "#46039f"
             ],
             [
              0.2222222222222222,
              "#7201a8"
             ],
             [
              0.3333333333333333,
              "#9c179e"
             ],
             [
              0.4444444444444444,
              "#bd3786"
             ],
             [
              0.5555555555555556,
              "#d8576b"
             ],
             [
              0.6666666666666666,
              "#ed7953"
             ],
             [
              0.7777777777777778,
              "#fb9f3a"
             ],
             [
              0.8888888888888888,
              "#fdca26"
             ],
             [
              1,
              "#f0f921"
             ]
            ],
            "type": "contour"
           }
          ],
          "contourcarpet": [
           {
            "colorbar": {
             "outlinewidth": 0,
             "ticks": ""
            },
            "type": "contourcarpet"
           }
          ],
          "heatmap": [
           {
            "colorbar": {
             "outlinewidth": 0,
             "ticks": ""
            },
            "colorscale": [
             [
              0,
              "#0d0887"
             ],
             [
              0.1111111111111111,
              "#46039f"
             ],
             [
              0.2222222222222222,
              "#7201a8"
             ],
             [
              0.3333333333333333,
              "#9c179e"
             ],
             [
              0.4444444444444444,
              "#bd3786"
             ],
             [
              0.5555555555555556,
              "#d8576b"
             ],
             [
              0.6666666666666666,
              "#ed7953"
             ],
             [
              0.7777777777777778,
              "#fb9f3a"
             ],
             [
              0.8888888888888888,
              "#fdca26"
             ],
             [
              1,
              "#f0f921"
             ]
            ],
            "type": "heatmap"
           }
          ],
          "heatmapgl": [
           {
            "colorbar": {
             "outlinewidth": 0,
             "ticks": ""
            },
            "colorscale": [
             [
              0,
              "#0d0887"
             ],
             [
              0.1111111111111111,
              "#46039f"
             ],
             [
              0.2222222222222222,
              "#7201a8"
             ],
             [
              0.3333333333333333,
              "#9c179e"
             ],
             [
              0.4444444444444444,
              "#bd3786"
             ],
             [
              0.5555555555555556,
              "#d8576b"
             ],
             [
              0.6666666666666666,
              "#ed7953"
             ],
             [
              0.7777777777777778,
              "#fb9f3a"
             ],
             [
              0.8888888888888888,
              "#fdca26"
             ],
             [
              1,
              "#f0f921"
             ]
            ],
            "type": "heatmapgl"
           }
          ],
          "histogram": [
           {
            "marker": {
             "pattern": {
              "fillmode": "overlay",
              "size": 10,
              "solidity": 0.2
             }
            },
            "type": "histogram"
           }
          ],
          "histogram2d": [
           {
            "colorbar": {
             "outlinewidth": 0,
             "ticks": ""
            },
            "colorscale": [
             [
              0,
              "#0d0887"
             ],
             [
              0.1111111111111111,
              "#46039f"
             ],
             [
              0.2222222222222222,
              "#7201a8"
             ],
             [
              0.3333333333333333,
              "#9c179e"
             ],
             [
              0.4444444444444444,
              "#bd3786"
             ],
             [
              0.5555555555555556,
              "#d8576b"
             ],
             [
              0.6666666666666666,
              "#ed7953"
             ],
             [
              0.7777777777777778,
              "#fb9f3a"
             ],
             [
              0.8888888888888888,
              "#fdca26"
             ],
             [
              1,
              "#f0f921"
             ]
            ],
            "type": "histogram2d"
           }
          ],
          "histogram2dcontour": [
           {
            "colorbar": {
             "outlinewidth": 0,
             "ticks": ""
            },
            "colorscale": [
             [
              0,
              "#0d0887"
             ],
             [
              0.1111111111111111,
              "#46039f"
             ],
             [
              0.2222222222222222,
              "#7201a8"
             ],
             [
              0.3333333333333333,
              "#9c179e"
             ],
             [
              0.4444444444444444,
              "#bd3786"
             ],
             [
              0.5555555555555556,
              "#d8576b"
             ],
             [
              0.6666666666666666,
              "#ed7953"
             ],
             [
              0.7777777777777778,
              "#fb9f3a"
             ],
             [
              0.8888888888888888,
              "#fdca26"
             ],
             [
              1,
              "#f0f921"
             ]
            ],
            "type": "histogram2dcontour"
           }
          ],
          "mesh3d": [
           {
            "colorbar": {
             "outlinewidth": 0,
             "ticks": ""
            },
            "type": "mesh3d"
           }
          ],
          "parcoords": [
           {
            "line": {
             "colorbar": {
              "outlinewidth": 0,
              "ticks": ""
             }
            },
            "type": "parcoords"
           }
          ],
          "pie": [
           {
            "automargin": true,
            "type": "pie"
           }
          ],
          "scatter": [
           {
            "fillpattern": {
             "fillmode": "overlay",
             "size": 10,
             "solidity": 0.2
            },
            "type": "scatter"
           }
          ],
          "scatter3d": [
           {
            "line": {
             "colorbar": {
              "outlinewidth": 0,
              "ticks": ""
             }
            },
            "marker": {
             "colorbar": {
              "outlinewidth": 0,
              "ticks": ""
             }
            },
            "type": "scatter3d"
           }
          ],
          "scattercarpet": [
           {
            "marker": {
             "colorbar": {
              "outlinewidth": 0,
              "ticks": ""
             }
            },
            "type": "scattercarpet"
           }
          ],
          "scattergeo": [
           {
            "marker": {
             "colorbar": {
              "outlinewidth": 0,
              "ticks": ""
             }
            },
            "type": "scattergeo"
           }
          ],
          "scattergl": [
           {
            "marker": {
             "colorbar": {
              "outlinewidth": 0,
              "ticks": ""
             }
            },
            "type": "scattergl"
           }
          ],
          "scattermapbox": [
           {
            "marker": {
             "colorbar": {
              "outlinewidth": 0,
              "ticks": ""
             }
            },
            "type": "scattermapbox"
           }
          ],
          "scatterpolar": [
           {
            "marker": {
             "colorbar": {
              "outlinewidth": 0,
              "ticks": ""
             }
            },
            "type": "scatterpolar"
           }
          ],
          "scatterpolargl": [
           {
            "marker": {
             "colorbar": {
              "outlinewidth": 0,
              "ticks": ""
             }
            },
            "type": "scatterpolargl"
           }
          ],
          "scatterternary": [
           {
            "marker": {
             "colorbar": {
              "outlinewidth": 0,
              "ticks": ""
             }
            },
            "type": "scatterternary"
           }
          ],
          "surface": [
           {
            "colorbar": {
             "outlinewidth": 0,
             "ticks": ""
            },
            "colorscale": [
             [
              0,
              "#0d0887"
             ],
             [
              0.1111111111111111,
              "#46039f"
             ],
             [
              0.2222222222222222,
              "#7201a8"
             ],
             [
              0.3333333333333333,
              "#9c179e"
             ],
             [
              0.4444444444444444,
              "#bd3786"
             ],
             [
              0.5555555555555556,
              "#d8576b"
             ],
             [
              0.6666666666666666,
              "#ed7953"
             ],
             [
              0.7777777777777778,
              "#fb9f3a"
             ],
             [
              0.8888888888888888,
              "#fdca26"
             ],
             [
              1,
              "#f0f921"
             ]
            ],
            "type": "surface"
           }
          ],
          "table": [
           {
            "cells": {
             "fill": {
              "color": "#EBF0F8"
             },
             "line": {
              "color": "white"
             }
            },
            "header": {
             "fill": {
              "color": "#C8D4E3"
             },
             "line": {
              "color": "white"
             }
            },
            "type": "table"
           }
          ]
         },
         "layout": {
          "annotationdefaults": {
           "arrowcolor": "#2a3f5f",
           "arrowhead": 0,
           "arrowwidth": 1
          },
          "autotypenumbers": "strict",
          "coloraxis": {
           "colorbar": {
            "outlinewidth": 0,
            "ticks": ""
           }
          },
          "colorscale": {
           "diverging": [
            [
             0,
             "#8e0152"
            ],
            [
             0.1,
             "#c51b7d"
            ],
            [
             0.2,
             "#de77ae"
            ],
            [
             0.3,
             "#f1b6da"
            ],
            [
             0.4,
             "#fde0ef"
            ],
            [
             0.5,
             "#f7f7f7"
            ],
            [
             0.6,
             "#e6f5d0"
            ],
            [
             0.7,
             "#b8e186"
            ],
            [
             0.8,
             "#7fbc41"
            ],
            [
             0.9,
             "#4d9221"
            ],
            [
             1,
             "#276419"
            ]
           ],
           "sequential": [
            [
             0,
             "#0d0887"
            ],
            [
             0.1111111111111111,
             "#46039f"
            ],
            [
             0.2222222222222222,
             "#7201a8"
            ],
            [
             0.3333333333333333,
             "#9c179e"
            ],
            [
             0.4444444444444444,
             "#bd3786"
            ],
            [
             0.5555555555555556,
             "#d8576b"
            ],
            [
             0.6666666666666666,
             "#ed7953"
            ],
            [
             0.7777777777777778,
             "#fb9f3a"
            ],
            [
             0.8888888888888888,
             "#fdca26"
            ],
            [
             1,
             "#f0f921"
            ]
           ],
           "sequentialminus": [
            [
             0,
             "#0d0887"
            ],
            [
             0.1111111111111111,
             "#46039f"
            ],
            [
             0.2222222222222222,
             "#7201a8"
            ],
            [
             0.3333333333333333,
             "#9c179e"
            ],
            [
             0.4444444444444444,
             "#bd3786"
            ],
            [
             0.5555555555555556,
             "#d8576b"
            ],
            [
             0.6666666666666666,
             "#ed7953"
            ],
            [
             0.7777777777777778,
             "#fb9f3a"
            ],
            [
             0.8888888888888888,
             "#fdca26"
            ],
            [
             1,
             "#f0f921"
            ]
           ]
          },
          "colorway": [
           "#636efa",
           "#EF553B",
           "#00cc96",
           "#ab63fa",
           "#FFA15A",
           "#19d3f3",
           "#FF6692",
           "#B6E880",
           "#FF97FF",
           "#FECB52"
          ],
          "font": {
           "color": "#2a3f5f"
          },
          "geo": {
           "bgcolor": "white",
           "lakecolor": "white",
           "landcolor": "#E5ECF6",
           "showlakes": true,
           "showland": true,
           "subunitcolor": "white"
          },
          "hoverlabel": {
           "align": "left"
          },
          "hovermode": "closest",
          "mapbox": {
           "style": "light"
          },
          "paper_bgcolor": "white",
          "plot_bgcolor": "#E5ECF6",
          "polar": {
           "angularaxis": {
            "gridcolor": "white",
            "linecolor": "white",
            "ticks": ""
           },
           "bgcolor": "#E5ECF6",
           "radialaxis": {
            "gridcolor": "white",
            "linecolor": "white",
            "ticks": ""
           }
          },
          "scene": {
           "xaxis": {
            "backgroundcolor": "#E5ECF6",
            "gridcolor": "white",
            "gridwidth": 2,
            "linecolor": "white",
            "showbackground": true,
            "ticks": "",
            "zerolinecolor": "white"
           },
           "yaxis": {
            "backgroundcolor": "#E5ECF6",
            "gridcolor": "white",
            "gridwidth": 2,
            "linecolor": "white",
            "showbackground": true,
            "ticks": "",
            "zerolinecolor": "white"
           },
           "zaxis": {
            "backgroundcolor": "#E5ECF6",
            "gridcolor": "white",
            "gridwidth": 2,
            "linecolor": "white",
            "showbackground": true,
            "ticks": "",
            "zerolinecolor": "white"
           }
          },
          "shapedefaults": {
           "line": {
            "color": "#2a3f5f"
           }
          },
          "ternary": {
           "aaxis": {
            "gridcolor": "white",
            "linecolor": "white",
            "ticks": ""
           },
           "baxis": {
            "gridcolor": "white",
            "linecolor": "white",
            "ticks": ""
           },
           "bgcolor": "#E5ECF6",
           "caxis": {
            "gridcolor": "white",
            "linecolor": "white",
            "ticks": ""
           }
          },
          "title": {
           "x": 0.05
          },
          "xaxis": {
           "automargin": true,
           "gridcolor": "white",
           "linecolor": "white",
           "ticks": "",
           "title": {
            "standoff": 15
           },
           "zerolinecolor": "white",
           "zerolinewidth": 2
          },
          "yaxis": {
           "automargin": true,
           "gridcolor": "white",
           "linecolor": "white",
           "ticks": "",
           "title": {
            "standoff": 15
           },
           "zerolinecolor": "white",
           "zerolinewidth": 2
          }
         }
        },
        "title": {
         "text": "District Map"
        },
        "xaxis": {
         "title": {
          "text": "X"
         }
        },
        "yaxis": {
         "title": {
          "text": "Y"
         }
        }
       }
      }
     },
     "metadata": {},
     "output_type": "display_data"
    },
    {
     "data": {
      "application/vnd.jupyter.widget-view+json": {
       "model_id": "be446516441847599e4efcd592a6694c",
       "version_major": 2,
       "version_minor": 0
      },
      "text/plain": [
       "interactive(children=(IntSlider(value=10, description='grid_size', max=20, min=5), IntSlider(value=5, descript…"
      ]
     },
     "metadata": {},
     "output_type": "display_data"
    },
    {
     "data": {
      "application/vnd.plotly.v1+json": {
       "config": {
        "plotlyServerURL": "https://plot.ly"
       },
       "data": [
        {
         "marker": {
          "color": "red"
         },
         "mode": "markers",
         "name": "District 197",
         "type": "scatter",
         "x": [
          0
         ],
         "y": [
          0
         ]
        },
        {
         "marker": {
          "color": "red"
         },
         "mode": "markers",
         "name": "District 197",
         "type": "scatter",
         "x": [
          0
         ],
         "y": [
          1
         ]
        },
        {
         "marker": {
          "color": "red"
         },
         "mode": "markers",
         "name": "District 197",
         "type": "scatter",
         "x": [
          0
         ],
         "y": [
          2
         ]
        },
        {
         "marker": {
          "color": "red"
         },
         "mode": "markers",
         "name": "District 197",
         "type": "scatter",
         "x": [
          0
         ],
         "y": [
          3
         ]
        },
        {
         "marker": {
          "color": "blue"
         },
         "mode": "markers",
         "name": "District 197",
         "type": "scatter",
         "x": [
          0
         ],
         "y": [
          4
         ]
        },
        {
         "marker": {
          "color": "red"
         },
         "mode": "markers",
         "name": "District 197",
         "type": "scatter",
         "x": [
          0
         ],
         "y": [
          5
         ]
        },
        {
         "marker": {
          "color": "red"
         },
         "mode": "markers",
         "name": "District 197",
         "type": "scatter",
         "x": [
          0
         ],
         "y": [
          6
         ]
        },
        {
         "marker": {
          "color": "red"
         },
         "mode": "markers",
         "name": "District 197",
         "type": "scatter",
         "x": [
          0
         ],
         "y": [
          7
         ]
        },
        {
         "marker": {
          "color": "red"
         },
         "mode": "markers",
         "name": "District 197",
         "type": "scatter",
         "x": [
          0
         ],
         "y": [
          8
         ]
        },
        {
         "marker": {
          "color": "red"
         },
         "mode": "markers",
         "name": "District 197",
         "type": "scatter",
         "x": [
          0
         ],
         "y": [
          9
         ]
        },
        {
         "marker": {
          "color": "red"
         },
         "mode": "markers",
         "name": "District 197",
         "type": "scatter",
         "x": [
          0
         ],
         "y": [
          10
         ]
        },
        {
         "marker": {
          "color": "red"
         },
         "mode": "markers",
         "name": "District 197",
         "type": "scatter",
         "x": [
          0
         ],
         "y": [
          11
         ]
        },
        {
         "marker": {
          "color": "blue"
         },
         "mode": "markers",
         "name": "District 198",
         "type": "scatter",
         "x": [
          0
         ],
         "y": [
          12
         ]
        },
        {
         "marker": {
          "color": "red"
         },
         "mode": "markers",
         "name": "District 200",
         "type": "scatter",
         "x": [
          0
         ],
         "y": [
          13
         ]
        },
        {
         "marker": {
          "color": "red"
         },
         "mode": "markers",
         "name": "District 199",
         "type": "scatter",
         "x": [
          1
         ],
         "y": [
          0
         ]
        },
        {
         "marker": {
          "color": "blue"
         },
         "mode": "markers",
         "name": "District 197",
         "type": "scatter",
         "x": [
          1
         ],
         "y": [
          1
         ]
        },
        {
         "marker": {
          "color": "red"
         },
         "mode": "markers",
         "name": "District 197",
         "type": "scatter",
         "x": [
          1
         ],
         "y": [
          2
         ]
        },
        {
         "marker": {
          "color": "red"
         },
         "mode": "markers",
         "name": "District 197",
         "type": "scatter",
         "x": [
          1
         ],
         "y": [
          3
         ]
        },
        {
         "marker": {
          "color": "red"
         },
         "mode": "markers",
         "name": "District 197",
         "type": "scatter",
         "x": [
          1
         ],
         "y": [
          4
         ]
        },
        {
         "marker": {
          "color": "red"
         },
         "mode": "markers",
         "name": "District 197",
         "type": "scatter",
         "x": [
          1
         ],
         "y": [
          5
         ]
        },
        {
         "marker": {
          "color": "red"
         },
         "mode": "markers",
         "name": "District 197",
         "type": "scatter",
         "x": [
          1
         ],
         "y": [
          6
         ]
        },
        {
         "marker": {
          "color": "blue"
         },
         "mode": "markers",
         "name": "District 197",
         "type": "scatter",
         "x": [
          1
         ],
         "y": [
          7
         ]
        },
        {
         "marker": {
          "color": "red"
         },
         "mode": "markers",
         "name": "District 197",
         "type": "scatter",
         "x": [
          1
         ],
         "y": [
          8
         ]
        },
        {
         "marker": {
          "color": "blue"
         },
         "mode": "markers",
         "name": "District 197",
         "type": "scatter",
         "x": [
          1
         ],
         "y": [
          9
         ]
        },
        {
         "marker": {
          "color": "red"
         },
         "mode": "markers",
         "name": "District 198",
         "type": "scatter",
         "x": [
          1
         ],
         "y": [
          10
         ]
        },
        {
         "marker": {
          "color": "red"
         },
         "mode": "markers",
         "name": "District 198",
         "type": "scatter",
         "x": [
          1
         ],
         "y": [
          11
         ]
        },
        {
         "marker": {
          "color": "red"
         },
         "mode": "markers",
         "name": "District 200",
         "type": "scatter",
         "x": [
          1
         ],
         "y": [
          12
         ]
        },
        {
         "marker": {
          "color": "blue"
         },
         "mode": "markers",
         "name": "District 200",
         "type": "scatter",
         "x": [
          1
         ],
         "y": [
          13
         ]
        },
        {
         "marker": {
          "color": "red"
         },
         "mode": "markers",
         "name": "District 199",
         "type": "scatter",
         "x": [
          2
         ],
         "y": [
          0
         ]
        },
        {
         "marker": {
          "color": "blue"
         },
         "mode": "markers",
         "name": "District 197",
         "type": "scatter",
         "x": [
          2
         ],
         "y": [
          1
         ]
        },
        {
         "marker": {
          "color": "red"
         },
         "mode": "markers",
         "name": "District 197",
         "type": "scatter",
         "x": [
          2
         ],
         "y": [
          2
         ]
        },
        {
         "marker": {
          "color": "red"
         },
         "mode": "markers",
         "name": "District 197",
         "type": "scatter",
         "x": [
          2
         ],
         "y": [
          3
         ]
        },
        {
         "marker": {
          "color": "red"
         },
         "mode": "markers",
         "name": "District 197",
         "type": "scatter",
         "x": [
          2
         ],
         "y": [
          4
         ]
        },
        {
         "marker": {
          "color": "red"
         },
         "mode": "markers",
         "name": "District 197",
         "type": "scatter",
         "x": [
          2
         ],
         "y": [
          5
         ]
        },
        {
         "marker": {
          "color": "red"
         },
         "mode": "markers",
         "name": "District 197",
         "type": "scatter",
         "x": [
          2
         ],
         "y": [
          6
         ]
        },
        {
         "marker": {
          "color": "red"
         },
         "mode": "markers",
         "name": "District 198",
         "type": "scatter",
         "x": [
          2
         ],
         "y": [
          7
         ]
        },
        {
         "marker": {
          "color": "red"
         },
         "mode": "markers",
         "name": "District 198",
         "type": "scatter",
         "x": [
          2
         ],
         "y": [
          8
         ]
        },
        {
         "marker": {
          "color": "blue"
         },
         "mode": "markers",
         "name": "District 198",
         "type": "scatter",
         "x": [
          2
         ],
         "y": [
          9
         ]
        },
        {
         "marker": {
          "color": "red"
         },
         "mode": "markers",
         "name": "District 198",
         "type": "scatter",
         "x": [
          2
         ],
         "y": [
          10
         ]
        },
        {
         "marker": {
          "color": "red"
         },
         "mode": "markers",
         "name": "District 200",
         "type": "scatter",
         "x": [
          2
         ],
         "y": [
          11
         ]
        },
        {
         "marker": {
          "color": "red"
         },
         "mode": "markers",
         "name": "District 200",
         "type": "scatter",
         "x": [
          2
         ],
         "y": [
          12
         ]
        },
        {
         "marker": {
          "color": "red"
         },
         "mode": "markers",
         "name": "District 200",
         "type": "scatter",
         "x": [
          2
         ],
         "y": [
          13
         ]
        },
        {
         "marker": {
          "color": "red"
         },
         "mode": "markers",
         "name": "District 199",
         "type": "scatter",
         "x": [
          3
         ],
         "y": [
          0
         ]
        },
        {
         "marker": {
          "color": "red"
         },
         "mode": "markers",
         "name": "District 199",
         "type": "scatter",
         "x": [
          3
         ],
         "y": [
          1
         ]
        },
        {
         "marker": {
          "color": "red"
         },
         "mode": "markers",
         "name": "District 197",
         "type": "scatter",
         "x": [
          3
         ],
         "y": [
          2
         ]
        },
        {
         "marker": {
          "color": "blue"
         },
         "mode": "markers",
         "name": "District 197",
         "type": "scatter",
         "x": [
          3
         ],
         "y": [
          3
         ]
        },
        {
         "marker": {
          "color": "red"
         },
         "mode": "markers",
         "name": "District 198",
         "type": "scatter",
         "x": [
          3
         ],
         "y": [
          4
         ]
        },
        {
         "marker": {
          "color": "red"
         },
         "mode": "markers",
         "name": "District 198",
         "type": "scatter",
         "x": [
          3
         ],
         "y": [
          5
         ]
        },
        {
         "marker": {
          "color": "blue"
         },
         "mode": "markers",
         "name": "District 198",
         "type": "scatter",
         "x": [
          3
         ],
         "y": [
          6
         ]
        },
        {
         "marker": {
          "color": "red"
         },
         "mode": "markers",
         "name": "District 198",
         "type": "scatter",
         "x": [
          3
         ],
         "y": [
          7
         ]
        },
        {
         "marker": {
          "color": "blue"
         },
         "mode": "markers",
         "name": "District 198",
         "type": "scatter",
         "x": [
          3
         ],
         "y": [
          8
         ]
        },
        {
         "marker": {
          "color": "red"
         },
         "mode": "markers",
         "name": "District 198",
         "type": "scatter",
         "x": [
          3
         ],
         "y": [
          9
         ]
        },
        {
         "marker": {
          "color": "blue"
         },
         "mode": "markers",
         "name": "District 200",
         "type": "scatter",
         "x": [
          3
         ],
         "y": [
          10
         ]
        },
        {
         "marker": {
          "color": "red"
         },
         "mode": "markers",
         "name": "District 200",
         "type": "scatter",
         "x": [
          3
         ],
         "y": [
          11
         ]
        },
        {
         "marker": {
          "color": "blue"
         },
         "mode": "markers",
         "name": "District 200",
         "type": "scatter",
         "x": [
          3
         ],
         "y": [
          12
         ]
        },
        {
         "marker": {
          "color": "red"
         },
         "mode": "markers",
         "name": "District 200",
         "type": "scatter",
         "x": [
          3
         ],
         "y": [
          13
         ]
        },
        {
         "marker": {
          "color": "blue"
         },
         "mode": "markers",
         "name": "District 199",
         "type": "scatter",
         "x": [
          4
         ],
         "y": [
          0
         ]
        },
        {
         "marker": {
          "color": "red"
         },
         "mode": "markers",
         "name": "District 199",
         "type": "scatter",
         "x": [
          4
         ],
         "y": [
          1
         ]
        },
        {
         "marker": {
          "color": "red"
         },
         "mode": "markers",
         "name": "District 199",
         "type": "scatter",
         "x": [
          4
         ],
         "y": [
          2
         ]
        },
        {
         "marker": {
          "color": "red"
         },
         "mode": "markers",
         "name": "District 198",
         "type": "scatter",
         "x": [
          4
         ],
         "y": [
          3
         ]
        },
        {
         "marker": {
          "color": "red"
         },
         "mode": "markers",
         "name": "District 198",
         "type": "scatter",
         "x": [
          4
         ],
         "y": [
          4
         ]
        },
        {
         "marker": {
          "color": "blue"
         },
         "mode": "markers",
         "name": "District 198",
         "type": "scatter",
         "x": [
          4
         ],
         "y": [
          5
         ]
        },
        {
         "marker": {
          "color": "blue"
         },
         "mode": "markers",
         "name": "District 198",
         "type": "scatter",
         "x": [
          4
         ],
         "y": [
          6
         ]
        },
        {
         "marker": {
          "color": "red"
         },
         "mode": "markers",
         "name": "District 198",
         "type": "scatter",
         "x": [
          4
         ],
         "y": [
          7
         ]
        },
        {
         "marker": {
          "color": "red"
         },
         "mode": "markers",
         "name": "District 198",
         "type": "scatter",
         "x": [
          4
         ],
         "y": [
          8
         ]
        },
        {
         "marker": {
          "color": "red"
         },
         "mode": "markers",
         "name": "District 200",
         "type": "scatter",
         "x": [
          4
         ],
         "y": [
          9
         ]
        },
        {
         "marker": {
          "color": "blue"
         },
         "mode": "markers",
         "name": "District 200",
         "type": "scatter",
         "x": [
          4
         ],
         "y": [
          10
         ]
        },
        {
         "marker": {
          "color": "red"
         },
         "mode": "markers",
         "name": "District 200",
         "type": "scatter",
         "x": [
          4
         ],
         "y": [
          11
         ]
        },
        {
         "marker": {
          "color": "blue"
         },
         "mode": "markers",
         "name": "District 200",
         "type": "scatter",
         "x": [
          4
         ],
         "y": [
          12
         ]
        },
        {
         "marker": {
          "color": "red"
         },
         "mode": "markers",
         "name": "District 200",
         "type": "scatter",
         "x": [
          4
         ],
         "y": [
          13
         ]
        },
        {
         "marker": {
          "color": "red"
         },
         "mode": "markers",
         "name": "District 199",
         "type": "scatter",
         "x": [
          5
         ],
         "y": [
          0
         ]
        },
        {
         "marker": {
          "color": "red"
         },
         "mode": "markers",
         "name": "District 199",
         "type": "scatter",
         "x": [
          5
         ],
         "y": [
          1
         ]
        },
        {
         "marker": {
          "color": "blue"
         },
         "mode": "markers",
         "name": "District 199",
         "type": "scatter",
         "x": [
          5
         ],
         "y": [
          2
         ]
        },
        {
         "marker": {
          "color": "red"
         },
         "mode": "markers",
         "name": "District 198",
         "type": "scatter",
         "x": [
          5
         ],
         "y": [
          3
         ]
        },
        {
         "marker": {
          "color": "blue"
         },
         "mode": "markers",
         "name": "District 198",
         "type": "scatter",
         "x": [
          5
         ],
         "y": [
          4
         ]
        },
        {
         "marker": {
          "color": "blue"
         },
         "mode": "markers",
         "name": "District 198",
         "type": "scatter",
         "x": [
          5
         ],
         "y": [
          5
         ]
        },
        {
         "marker": {
          "color": "red"
         },
         "mode": "markers",
         "name": "District 198",
         "type": "scatter",
         "x": [
          5
         ],
         "y": [
          6
         ]
        },
        {
         "marker": {
          "color": "red"
         },
         "mode": "markers",
         "name": "District 198",
         "type": "scatter",
         "x": [
          5
         ],
         "y": [
          7
         ]
        },
        {
         "marker": {
          "color": "red"
         },
         "mode": "markers",
         "name": "District 201",
         "type": "scatter",
         "x": [
          5
         ],
         "y": [
          8
         ]
        },
        {
         "marker": {
          "color": "red"
         },
         "mode": "markers",
         "name": "District 200",
         "type": "scatter",
         "x": [
          5
         ],
         "y": [
          9
         ]
        },
        {
         "marker": {
          "color": "red"
         },
         "mode": "markers",
         "name": "District 200",
         "type": "scatter",
         "x": [
          5
         ],
         "y": [
          10
         ]
        },
        {
         "marker": {
          "color": "blue"
         },
         "mode": "markers",
         "name": "District 200",
         "type": "scatter",
         "x": [
          5
         ],
         "y": [
          11
         ]
        },
        {
         "marker": {
          "color": "red"
         },
         "mode": "markers",
         "name": "District 200",
         "type": "scatter",
         "x": [
          5
         ],
         "y": [
          12
         ]
        },
        {
         "marker": {
          "color": "red"
         },
         "mode": "markers",
         "name": "District 200",
         "type": "scatter",
         "x": [
          5
         ],
         "y": [
          13
         ]
        },
        {
         "marker": {
          "color": "red"
         },
         "mode": "markers",
         "name": "District 199",
         "type": "scatter",
         "x": [
          6
         ],
         "y": [
          0
         ]
        },
        {
         "marker": {
          "color": "red"
         },
         "mode": "markers",
         "name": "District 199",
         "type": "scatter",
         "x": [
          6
         ],
         "y": [
          1
         ]
        },
        {
         "marker": {
          "color": "red"
         },
         "mode": "markers",
         "name": "District 199",
         "type": "scatter",
         "x": [
          6
         ],
         "y": [
          2
         ]
        },
        {
         "marker": {
          "color": "red"
         },
         "mode": "markers",
         "name": "District 198",
         "type": "scatter",
         "x": [
          6
         ],
         "y": [
          3
         ]
        },
        {
         "marker": {
          "color": "red"
         },
         "mode": "markers",
         "name": "District 198",
         "type": "scatter",
         "x": [
          6
         ],
         "y": [
          4
         ]
        },
        {
         "marker": {
          "color": "blue"
         },
         "mode": "markers",
         "name": "District 198",
         "type": "scatter",
         "x": [
          6
         ],
         "y": [
          5
         ]
        },
        {
         "marker": {
          "color": "red"
         },
         "mode": "markers",
         "name": "District 201",
         "type": "scatter",
         "x": [
          6
         ],
         "y": [
          6
         ]
        },
        {
         "marker": {
          "color": "blue"
         },
         "mode": "markers",
         "name": "District 201",
         "type": "scatter",
         "x": [
          6
         ],
         "y": [
          7
         ]
        },
        {
         "marker": {
          "color": "red"
         },
         "mode": "markers",
         "name": "District 201",
         "type": "scatter",
         "x": [
          6
         ],
         "y": [
          8
         ]
        },
        {
         "marker": {
          "color": "blue"
         },
         "mode": "markers",
         "name": "District 201",
         "type": "scatter",
         "x": [
          6
         ],
         "y": [
          9
         ]
        },
        {
         "marker": {
          "color": "blue"
         },
         "mode": "markers",
         "name": "District 200",
         "type": "scatter",
         "x": [
          6
         ],
         "y": [
          10
         ]
        },
        {
         "marker": {
          "color": "red"
         },
         "mode": "markers",
         "name": "District 200",
         "type": "scatter",
         "x": [
          6
         ],
         "y": [
          11
         ]
        },
        {
         "marker": {
          "color": "red"
         },
         "mode": "markers",
         "name": "District 200",
         "type": "scatter",
         "x": [
          6
         ],
         "y": [
          12
         ]
        },
        {
         "marker": {
          "color": "blue"
         },
         "mode": "markers",
         "name": "District 200",
         "type": "scatter",
         "x": [
          6
         ],
         "y": [
          13
         ]
        },
        {
         "marker": {
          "color": "red"
         },
         "mode": "markers",
         "name": "District 199",
         "type": "scatter",
         "x": [
          7
         ],
         "y": [
          0
         ]
        },
        {
         "marker": {
          "color": "blue"
         },
         "mode": "markers",
         "name": "District 199",
         "type": "scatter",
         "x": [
          7
         ],
         "y": [
          1
         ]
        },
        {
         "marker": {
          "color": "red"
         },
         "mode": "markers",
         "name": "District 199",
         "type": "scatter",
         "x": [
          7
         ],
         "y": [
          2
         ]
        },
        {
         "marker": {
          "color": "blue"
         },
         "mode": "markers",
         "name": "District 198",
         "type": "scatter",
         "x": [
          7
         ],
         "y": [
          3
         ]
        },
        {
         "marker": {
          "color": "blue"
         },
         "mode": "markers",
         "name": "District 198",
         "type": "scatter",
         "x": [
          7
         ],
         "y": [
          4
         ]
        },
        {
         "marker": {
          "color": "blue"
         },
         "mode": "markers",
         "name": "District 201",
         "type": "scatter",
         "x": [
          7
         ],
         "y": [
          5
         ]
        },
        {
         "marker": {
          "color": "red"
         },
         "mode": "markers",
         "name": "District 201",
         "type": "scatter",
         "x": [
          7
         ],
         "y": [
          6
         ]
        },
        {
         "marker": {
          "color": "red"
         },
         "mode": "markers",
         "name": "District 201",
         "type": "scatter",
         "x": [
          7
         ],
         "y": [
          7
         ]
        },
        {
         "marker": {
          "color": "red"
         },
         "mode": "markers",
         "name": "District 201",
         "type": "scatter",
         "x": [
          7
         ],
         "y": [
          8
         ]
        },
        {
         "marker": {
          "color": "red"
         },
         "mode": "markers",
         "name": "District 201",
         "type": "scatter",
         "x": [
          7
         ],
         "y": [
          9
         ]
        },
        {
         "marker": {
          "color": "blue"
         },
         "mode": "markers",
         "name": "District 200",
         "type": "scatter",
         "x": [
          7
         ],
         "y": [
          10
         ]
        },
        {
         "marker": {
          "color": "red"
         },
         "mode": "markers",
         "name": "District 200",
         "type": "scatter",
         "x": [
          7
         ],
         "y": [
          11
         ]
        },
        {
         "marker": {
          "color": "red"
         },
         "mode": "markers",
         "name": "District 200",
         "type": "scatter",
         "x": [
          7
         ],
         "y": [
          12
         ]
        },
        {
         "marker": {
          "color": "red"
         },
         "mode": "markers",
         "name": "District 200",
         "type": "scatter",
         "x": [
          7
         ],
         "y": [
          13
         ]
        },
        {
         "marker": {
          "color": "red"
         },
         "mode": "markers",
         "name": "District 199",
         "type": "scatter",
         "x": [
          8
         ],
         "y": [
          0
         ]
        },
        {
         "marker": {
          "color": "red"
         },
         "mode": "markers",
         "name": "District 199",
         "type": "scatter",
         "x": [
          8
         ],
         "y": [
          1
         ]
        },
        {
         "marker": {
          "color": "blue"
         },
         "mode": "markers",
         "name": "District 199",
         "type": "scatter",
         "x": [
          8
         ],
         "y": [
          2
         ]
        },
        {
         "marker": {
          "color": "red"
         },
         "mode": "markers",
         "name": "District 199",
         "type": "scatter",
         "x": [
          8
         ],
         "y": [
          3
         ]
        },
        {
         "marker": {
          "color": "red"
         },
         "mode": "markers",
         "name": "District 201",
         "type": "scatter",
         "x": [
          8
         ],
         "y": [
          4
         ]
        },
        {
         "marker": {
          "color": "red"
         },
         "mode": "markers",
         "name": "District 201",
         "type": "scatter",
         "x": [
          8
         ],
         "y": [
          5
         ]
        },
        {
         "marker": {
          "color": "blue"
         },
         "mode": "markers",
         "name": "District 201",
         "type": "scatter",
         "x": [
          8
         ],
         "y": [
          6
         ]
        },
        {
         "marker": {
          "color": "blue"
         },
         "mode": "markers",
         "name": "District 201",
         "type": "scatter",
         "x": [
          8
         ],
         "y": [
          7
         ]
        },
        {
         "marker": {
          "color": "red"
         },
         "mode": "markers",
         "name": "District 201",
         "type": "scatter",
         "x": [
          8
         ],
         "y": [
          8
         ]
        },
        {
         "marker": {
          "color": "red"
         },
         "mode": "markers",
         "name": "District 201",
         "type": "scatter",
         "x": [
          8
         ],
         "y": [
          9
         ]
        },
        {
         "marker": {
          "color": "blue"
         },
         "mode": "markers",
         "name": "District 201",
         "type": "scatter",
         "x": [
          8
         ],
         "y": [
          10
         ]
        },
        {
         "marker": {
          "color": "red"
         },
         "mode": "markers",
         "name": "District 200",
         "type": "scatter",
         "x": [
          8
         ],
         "y": [
          11
         ]
        },
        {
         "marker": {
          "color": "red"
         },
         "mode": "markers",
         "name": "District 202",
         "type": "scatter",
         "x": [
          8
         ],
         "y": [
          12
         ]
        },
        {
         "marker": {
          "color": "blue"
         },
         "mode": "markers",
         "name": "District 202",
         "type": "scatter",
         "x": [
          8
         ],
         "y": [
          13
         ]
        },
        {
         "marker": {
          "color": "red"
         },
         "mode": "markers",
         "name": "District 199",
         "type": "scatter",
         "x": [
          9
         ],
         "y": [
          0
         ]
        },
        {
         "marker": {
          "color": "red"
         },
         "mode": "markers",
         "name": "District 199",
         "type": "scatter",
         "x": [
          9
         ],
         "y": [
          1
         ]
        },
        {
         "marker": {
          "color": "red"
         },
         "mode": "markers",
         "name": "District 199",
         "type": "scatter",
         "x": [
          9
         ],
         "y": [
          2
         ]
        },
        {
         "marker": {
          "color": "blue"
         },
         "mode": "markers",
         "name": "District 201",
         "type": "scatter",
         "x": [
          9
         ],
         "y": [
          3
         ]
        },
        {
         "marker": {
          "color": "blue"
         },
         "mode": "markers",
         "name": "District 201",
         "type": "scatter",
         "x": [
          9
         ],
         "y": [
          4
         ]
        },
        {
         "marker": {
          "color": "red"
         },
         "mode": "markers",
         "name": "District 201",
         "type": "scatter",
         "x": [
          9
         ],
         "y": [
          5
         ]
        },
        {
         "marker": {
          "color": "red"
         },
         "mode": "markers",
         "name": "District 201",
         "type": "scatter",
         "x": [
          9
         ],
         "y": [
          6
         ]
        },
        {
         "marker": {
          "color": "blue"
         },
         "mode": "markers",
         "name": "District 201",
         "type": "scatter",
         "x": [
          9
         ],
         "y": [
          7
         ]
        },
        {
         "marker": {
          "color": "red"
         },
         "mode": "markers",
         "name": "District 201",
         "type": "scatter",
         "x": [
          9
         ],
         "y": [
          8
         ]
        },
        {
         "marker": {
          "color": "red"
         },
         "mode": "markers",
         "name": "District 201",
         "type": "scatter",
         "x": [
          9
         ],
         "y": [
          9
         ]
        },
        {
         "marker": {
          "color": "red"
         },
         "mode": "markers",
         "name": "District 202",
         "type": "scatter",
         "x": [
          9
         ],
         "y": [
          10
         ]
        },
        {
         "marker": {
          "color": "red"
         },
         "mode": "markers",
         "name": "District 202",
         "type": "scatter",
         "x": [
          9
         ],
         "y": [
          11
         ]
        },
        {
         "marker": {
          "color": "red"
         },
         "mode": "markers",
         "name": "District 202",
         "type": "scatter",
         "x": [
          9
         ],
         "y": [
          12
         ]
        },
        {
         "marker": {
          "color": "red"
         },
         "mode": "markers",
         "name": "District 202",
         "type": "scatter",
         "x": [
          9
         ],
         "y": [
          13
         ]
        },
        {
         "marker": {
          "color": "red"
         },
         "mode": "markers",
         "name": "District 199",
         "type": "scatter",
         "x": [
          10
         ],
         "y": [
          0
         ]
        },
        {
         "marker": {
          "color": "blue"
         },
         "mode": "markers",
         "name": "District 199",
         "type": "scatter",
         "x": [
          10
         ],
         "y": [
          1
         ]
        },
        {
         "marker": {
          "color": "blue"
         },
         "mode": "markers",
         "name": "District 199",
         "type": "scatter",
         "x": [
          10
         ],
         "y": [
          2
         ]
        },
        {
         "marker": {
          "color": "red"
         },
         "mode": "markers",
         "name": "District 203",
         "type": "scatter",
         "x": [
          10
         ],
         "y": [
          3
         ]
        },
        {
         "marker": {
          "color": "red"
         },
         "mode": "markers",
         "name": "District 203",
         "type": "scatter",
         "x": [
          10
         ],
         "y": [
          4
         ]
        },
        {
         "marker": {
          "color": "red"
         },
         "mode": "markers",
         "name": "District 201",
         "type": "scatter",
         "x": [
          10
         ],
         "y": [
          5
         ]
        },
        {
         "marker": {
          "color": "red"
         },
         "mode": "markers",
         "name": "District 201",
         "type": "scatter",
         "x": [
          10
         ],
         "y": [
          6
         ]
        },
        {
         "marker": {
          "color": "red"
         },
         "mode": "markers",
         "name": "District 201",
         "type": "scatter",
         "x": [
          10
         ],
         "y": [
          7
         ]
        },
        {
         "marker": {
          "color": "red"
         },
         "mode": "markers",
         "name": "District 201",
         "type": "scatter",
         "x": [
          10
         ],
         "y": [
          8
         ]
        },
        {
         "marker": {
          "color": "red"
         },
         "mode": "markers",
         "name": "District 201",
         "type": "scatter",
         "x": [
          10
         ],
         "y": [
          9
         ]
        },
        {
         "marker": {
          "color": "red"
         },
         "mode": "markers",
         "name": "District 202",
         "type": "scatter",
         "x": [
          10
         ],
         "y": [
          10
         ]
        },
        {
         "marker": {
          "color": "red"
         },
         "mode": "markers",
         "name": "District 202",
         "type": "scatter",
         "x": [
          10
         ],
         "y": [
          11
         ]
        },
        {
         "marker": {
          "color": "blue"
         },
         "mode": "markers",
         "name": "District 202",
         "type": "scatter",
         "x": [
          10
         ],
         "y": [
          12
         ]
        },
        {
         "marker": {
          "color": "blue"
         },
         "mode": "markers",
         "name": "District 202",
         "type": "scatter",
         "x": [
          10
         ],
         "y": [
          13
         ]
        },
        {
         "marker": {
          "color": "blue"
         },
         "mode": "markers",
         "name": "District 199",
         "type": "scatter",
         "x": [
          11
         ],
         "y": [
          0
         ]
        },
        {
         "marker": {
          "color": "red"
         },
         "mode": "markers",
         "name": "District 199",
         "type": "scatter",
         "x": [
          11
         ],
         "y": [
          1
         ]
        },
        {
         "marker": {
          "color": "blue"
         },
         "mode": "markers",
         "name": "District 203",
         "type": "scatter",
         "x": [
          11
         ],
         "y": [
          2
         ]
        },
        {
         "marker": {
          "color": "red"
         },
         "mode": "markers",
         "name": "District 203",
         "type": "scatter",
         "x": [
          11
         ],
         "y": [
          3
         ]
        },
        {
         "marker": {
          "color": "red"
         },
         "mode": "markers",
         "name": "District 203",
         "type": "scatter",
         "x": [
          11
         ],
         "y": [
          4
         ]
        },
        {
         "marker": {
          "color": "red"
         },
         "mode": "markers",
         "name": "District 203",
         "type": "scatter",
         "x": [
          11
         ],
         "y": [
          5
         ]
        },
        {
         "marker": {
          "color": "blue"
         },
         "mode": "markers",
         "name": "District 203",
         "type": "scatter",
         "x": [
          11
         ],
         "y": [
          6
         ]
        },
        {
         "marker": {
          "color": "red"
         },
         "mode": "markers",
         "name": "District 203",
         "type": "scatter",
         "x": [
          11
         ],
         "y": [
          7
         ]
        },
        {
         "marker": {
          "color": "blue"
         },
         "mode": "markers",
         "name": "District 203",
         "type": "scatter",
         "x": [
          11
         ],
         "y": [
          8
         ]
        },
        {
         "marker": {
          "color": "red"
         },
         "mode": "markers",
         "name": "District 202",
         "type": "scatter",
         "x": [
          11
         ],
         "y": [
          9
         ]
        },
        {
         "marker": {
          "color": "red"
         },
         "mode": "markers",
         "name": "District 202",
         "type": "scatter",
         "x": [
          11
         ],
         "y": [
          10
         ]
        },
        {
         "marker": {
          "color": "red"
         },
         "mode": "markers",
         "name": "District 202",
         "type": "scatter",
         "x": [
          11
         ],
         "y": [
          11
         ]
        },
        {
         "marker": {
          "color": "red"
         },
         "mode": "markers",
         "name": "District 202",
         "type": "scatter",
         "x": [
          11
         ],
         "y": [
          12
         ]
        },
        {
         "marker": {
          "color": "red"
         },
         "mode": "markers",
         "name": "District 202",
         "type": "scatter",
         "x": [
          11
         ],
         "y": [
          13
         ]
        },
        {
         "marker": {
          "color": "blue"
         },
         "mode": "markers",
         "name": "District 199",
         "type": "scatter",
         "x": [
          12
         ],
         "y": [
          0
         ]
        },
        {
         "marker": {
          "color": "blue"
         },
         "mode": "markers",
         "name": "District 203",
         "type": "scatter",
         "x": [
          12
         ],
         "y": [
          1
         ]
        },
        {
         "marker": {
          "color": "red"
         },
         "mode": "markers",
         "name": "District 203",
         "type": "scatter",
         "x": [
          12
         ],
         "y": [
          2
         ]
        },
        {
         "marker": {
          "color": "blue"
         },
         "mode": "markers",
         "name": "District 203",
         "type": "scatter",
         "x": [
          12
         ],
         "y": [
          3
         ]
        },
        {
         "marker": {
          "color": "red"
         },
         "mode": "markers",
         "name": "District 203",
         "type": "scatter",
         "x": [
          12
         ],
         "y": [
          4
         ]
        },
        {
         "marker": {
          "color": "red"
         },
         "mode": "markers",
         "name": "District 203",
         "type": "scatter",
         "x": [
          12
         ],
         "y": [
          5
         ]
        },
        {
         "marker": {
          "color": "blue"
         },
         "mode": "markers",
         "name": "District 203",
         "type": "scatter",
         "x": [
          12
         ],
         "y": [
          6
         ]
        },
        {
         "marker": {
          "color": "red"
         },
         "mode": "markers",
         "name": "District 203",
         "type": "scatter",
         "x": [
          12
         ],
         "y": [
          7
         ]
        },
        {
         "marker": {
          "color": "red"
         },
         "mode": "markers",
         "name": "District 203",
         "type": "scatter",
         "x": [
          12
         ],
         "y": [
          8
         ]
        },
        {
         "marker": {
          "color": "red"
         },
         "mode": "markers",
         "name": "District 203",
         "type": "scatter",
         "x": [
          12
         ],
         "y": [
          9
         ]
        },
        {
         "marker": {
          "color": "blue"
         },
         "mode": "markers",
         "name": "District 202",
         "type": "scatter",
         "x": [
          12
         ],
         "y": [
          10
         ]
        },
        {
         "marker": {
          "color": "red"
         },
         "mode": "markers",
         "name": "District 202",
         "type": "scatter",
         "x": [
          12
         ],
         "y": [
          11
         ]
        },
        {
         "marker": {
          "color": "red"
         },
         "mode": "markers",
         "name": "District 202",
         "type": "scatter",
         "x": [
          12
         ],
         "y": [
          12
         ]
        },
        {
         "marker": {
          "color": "red"
         },
         "mode": "markers",
         "name": "District 202",
         "type": "scatter",
         "x": [
          12
         ],
         "y": [
          13
         ]
        },
        {
         "marker": {
          "color": "blue"
         },
         "mode": "markers",
         "name": "District 203",
         "type": "scatter",
         "x": [
          13
         ],
         "y": [
          0
         ]
        },
        {
         "marker": {
          "color": "red"
         },
         "mode": "markers",
         "name": "District 203",
         "type": "scatter",
         "x": [
          13
         ],
         "y": [
          1
         ]
        },
        {
         "marker": {
          "color": "red"
         },
         "mode": "markers",
         "name": "District 203",
         "type": "scatter",
         "x": [
          13
         ],
         "y": [
          2
         ]
        },
        {
         "marker": {
          "color": "blue"
         },
         "mode": "markers",
         "name": "District 203",
         "type": "scatter",
         "x": [
          13
         ],
         "y": [
          3
         ]
        },
        {
         "marker": {
          "color": "red"
         },
         "mode": "markers",
         "name": "District 203",
         "type": "scatter",
         "x": [
          13
         ],
         "y": [
          4
         ]
        },
        {
         "marker": {
          "color": "red"
         },
         "mode": "markers",
         "name": "District 203",
         "type": "scatter",
         "x": [
          13
         ],
         "y": [
          5
         ]
        },
        {
         "marker": {
          "color": "blue"
         },
         "mode": "markers",
         "name": "District 203",
         "type": "scatter",
         "x": [
          13
         ],
         "y": [
          6
         ]
        },
        {
         "marker": {
          "color": "red"
         },
         "mode": "markers",
         "name": "District 203",
         "type": "scatter",
         "x": [
          13
         ],
         "y": [
          7
         ]
        },
        {
         "marker": {
          "color": "red"
         },
         "mode": "markers",
         "name": "District 203",
         "type": "scatter",
         "x": [
          13
         ],
         "y": [
          8
         ]
        },
        {
         "marker": {
          "color": "red"
         },
         "mode": "markers",
         "name": "District 203",
         "type": "scatter",
         "x": [
          13
         ],
         "y": [
          9
         ]
        },
        {
         "marker": {
          "color": "red"
         },
         "mode": "markers",
         "name": "District 203",
         "type": "scatter",
         "x": [
          13
         ],
         "y": [
          10
         ]
        },
        {
         "marker": {
          "color": "red"
         },
         "mode": "markers",
         "name": "District 202",
         "type": "scatter",
         "x": [
          13
         ],
         "y": [
          11
         ]
        },
        {
         "marker": {
          "color": "red"
         },
         "mode": "markers",
         "name": "District 202",
         "type": "scatter",
         "x": [
          13
         ],
         "y": [
          12
         ]
        },
        {
         "marker": {
          "color": "red"
         },
         "mode": "markers",
         "name": "District 202",
         "type": "scatter",
         "x": [
          13
         ],
         "y": [
          13
         ]
        }
       ],
       "layout": {
        "template": {
         "data": {
          "bar": [
           {
            "error_x": {
             "color": "#2a3f5f"
            },
            "error_y": {
             "color": "#2a3f5f"
            },
            "marker": {
             "line": {
              "color": "#E5ECF6",
              "width": 0.5
             },
             "pattern": {
              "fillmode": "overlay",
              "size": 10,
              "solidity": 0.2
             }
            },
            "type": "bar"
           }
          ],
          "barpolar": [
           {
            "marker": {
             "line": {
              "color": "#E5ECF6",
              "width": 0.5
             },
             "pattern": {
              "fillmode": "overlay",
              "size": 10,
              "solidity": 0.2
             }
            },
            "type": "barpolar"
           }
          ],
          "carpet": [
           {
            "aaxis": {
             "endlinecolor": "#2a3f5f",
             "gridcolor": "white",
             "linecolor": "white",
             "minorgridcolor": "white",
             "startlinecolor": "#2a3f5f"
            },
            "baxis": {
             "endlinecolor": "#2a3f5f",
             "gridcolor": "white",
             "linecolor": "white",
             "minorgridcolor": "white",
             "startlinecolor": "#2a3f5f"
            },
            "type": "carpet"
           }
          ],
          "choropleth": [
           {
            "colorbar": {
             "outlinewidth": 0,
             "ticks": ""
            },
            "type": "choropleth"
           }
          ],
          "contour": [
           {
            "colorbar": {
             "outlinewidth": 0,
             "ticks": ""
            },
            "colorscale": [
             [
              0,
              "#0d0887"
             ],
             [
              0.1111111111111111,
              "#46039f"
             ],
             [
              0.2222222222222222,
              "#7201a8"
             ],
             [
              0.3333333333333333,
              "#9c179e"
             ],
             [
              0.4444444444444444,
              "#bd3786"
             ],
             [
              0.5555555555555556,
              "#d8576b"
             ],
             [
              0.6666666666666666,
              "#ed7953"
             ],
             [
              0.7777777777777778,
              "#fb9f3a"
             ],
             [
              0.8888888888888888,
              "#fdca26"
             ],
             [
              1,
              "#f0f921"
             ]
            ],
            "type": "contour"
           }
          ],
          "contourcarpet": [
           {
            "colorbar": {
             "outlinewidth": 0,
             "ticks": ""
            },
            "type": "contourcarpet"
           }
          ],
          "heatmap": [
           {
            "colorbar": {
             "outlinewidth": 0,
             "ticks": ""
            },
            "colorscale": [
             [
              0,
              "#0d0887"
             ],
             [
              0.1111111111111111,
              "#46039f"
             ],
             [
              0.2222222222222222,
              "#7201a8"
             ],
             [
              0.3333333333333333,
              "#9c179e"
             ],
             [
              0.4444444444444444,
              "#bd3786"
             ],
             [
              0.5555555555555556,
              "#d8576b"
             ],
             [
              0.6666666666666666,
              "#ed7953"
             ],
             [
              0.7777777777777778,
              "#fb9f3a"
             ],
             [
              0.8888888888888888,
              "#fdca26"
             ],
             [
              1,
              "#f0f921"
             ]
            ],
            "type": "heatmap"
           }
          ],
          "heatmapgl": [
           {
            "colorbar": {
             "outlinewidth": 0,
             "ticks": ""
            },
            "colorscale": [
             [
              0,
              "#0d0887"
             ],
             [
              0.1111111111111111,
              "#46039f"
             ],
             [
              0.2222222222222222,
              "#7201a8"
             ],
             [
              0.3333333333333333,
              "#9c179e"
             ],
             [
              0.4444444444444444,
              "#bd3786"
             ],
             [
              0.5555555555555556,
              "#d8576b"
             ],
             [
              0.6666666666666666,
              "#ed7953"
             ],
             [
              0.7777777777777778,
              "#fb9f3a"
             ],
             [
              0.8888888888888888,
              "#fdca26"
             ],
             [
              1,
              "#f0f921"
             ]
            ],
            "type": "heatmapgl"
           }
          ],
          "histogram": [
           {
            "marker": {
             "pattern": {
              "fillmode": "overlay",
              "size": 10,
              "solidity": 0.2
             }
            },
            "type": "histogram"
           }
          ],
          "histogram2d": [
           {
            "colorbar": {
             "outlinewidth": 0,
             "ticks": ""
            },
            "colorscale": [
             [
              0,
              "#0d0887"
             ],
             [
              0.1111111111111111,
              "#46039f"
             ],
             [
              0.2222222222222222,
              "#7201a8"
             ],
             [
              0.3333333333333333,
              "#9c179e"
             ],
             [
              0.4444444444444444,
              "#bd3786"
             ],
             [
              0.5555555555555556,
              "#d8576b"
             ],
             [
              0.6666666666666666,
              "#ed7953"
             ],
             [
              0.7777777777777778,
              "#fb9f3a"
             ],
             [
              0.8888888888888888,
              "#fdca26"
             ],
             [
              1,
              "#f0f921"
             ]
            ],
            "type": "histogram2d"
           }
          ],
          "histogram2dcontour": [
           {
            "colorbar": {
             "outlinewidth": 0,
             "ticks": ""
            },
            "colorscale": [
             [
              0,
              "#0d0887"
             ],
             [
              0.1111111111111111,
              "#46039f"
             ],
             [
              0.2222222222222222,
              "#7201a8"
             ],
             [
              0.3333333333333333,
              "#9c179e"
             ],
             [
              0.4444444444444444,
              "#bd3786"
             ],
             [
              0.5555555555555556,
              "#d8576b"
             ],
             [
              0.6666666666666666,
              "#ed7953"
             ],
             [
              0.7777777777777778,
              "#fb9f3a"
             ],
             [
              0.8888888888888888,
              "#fdca26"
             ],
             [
              1,
              "#f0f921"
             ]
            ],
            "type": "histogram2dcontour"
           }
          ],
          "mesh3d": [
           {
            "colorbar": {
             "outlinewidth": 0,
             "ticks": ""
            },
            "type": "mesh3d"
           }
          ],
          "parcoords": [
           {
            "line": {
             "colorbar": {
              "outlinewidth": 0,
              "ticks": ""
             }
            },
            "type": "parcoords"
           }
          ],
          "pie": [
           {
            "automargin": true,
            "type": "pie"
           }
          ],
          "scatter": [
           {
            "fillpattern": {
             "fillmode": "overlay",
             "size": 10,
             "solidity": 0.2
            },
            "type": "scatter"
           }
          ],
          "scatter3d": [
           {
            "line": {
             "colorbar": {
              "outlinewidth": 0,
              "ticks": ""
             }
            },
            "marker": {
             "colorbar": {
              "outlinewidth": 0,
              "ticks": ""
             }
            },
            "type": "scatter3d"
           }
          ],
          "scattercarpet": [
           {
            "marker": {
             "colorbar": {
              "outlinewidth": 0,
              "ticks": ""
             }
            },
            "type": "scattercarpet"
           }
          ],
          "scattergeo": [
           {
            "marker": {
             "colorbar": {
              "outlinewidth": 0,
              "ticks": ""
             }
            },
            "type": "scattergeo"
           }
          ],
          "scattergl": [
           {
            "marker": {
             "colorbar": {
              "outlinewidth": 0,
              "ticks": ""
             }
            },
            "type": "scattergl"
           }
          ],
          "scattermapbox": [
           {
            "marker": {
             "colorbar": {
              "outlinewidth": 0,
              "ticks": ""
             }
            },
            "type": "scattermapbox"
           }
          ],
          "scatterpolar": [
           {
            "marker": {
             "colorbar": {
              "outlinewidth": 0,
              "ticks": ""
             }
            },
            "type": "scatterpolar"
           }
          ],
          "scatterpolargl": [
           {
            "marker": {
             "colorbar": {
              "outlinewidth": 0,
              "ticks": ""
             }
            },
            "type": "scatterpolargl"
           }
          ],
          "scatterternary": [
           {
            "marker": {
             "colorbar": {
              "outlinewidth": 0,
              "ticks": ""
             }
            },
            "type": "scatterternary"
           }
          ],
          "surface": [
           {
            "colorbar": {
             "outlinewidth": 0,
             "ticks": ""
            },
            "colorscale": [
             [
              0,
              "#0d0887"
             ],
             [
              0.1111111111111111,
              "#46039f"
             ],
             [
              0.2222222222222222,
              "#7201a8"
             ],
             [
              0.3333333333333333,
              "#9c179e"
             ],
             [
              0.4444444444444444,
              "#bd3786"
             ],
             [
              0.5555555555555556,
              "#d8576b"
             ],
             [
              0.6666666666666666,
              "#ed7953"
             ],
             [
              0.7777777777777778,
              "#fb9f3a"
             ],
             [
              0.8888888888888888,
              "#fdca26"
             ],
             [
              1,
              "#f0f921"
             ]
            ],
            "type": "surface"
           }
          ],
          "table": [
           {
            "cells": {
             "fill": {
              "color": "#EBF0F8"
             },
             "line": {
              "color": "white"
             }
            },
            "header": {
             "fill": {
              "color": "#C8D4E3"
             },
             "line": {
              "color": "white"
             }
            },
            "type": "table"
           }
          ]
         },
         "layout": {
          "annotationdefaults": {
           "arrowcolor": "#2a3f5f",
           "arrowhead": 0,
           "arrowwidth": 1
          },
          "autotypenumbers": "strict",
          "coloraxis": {
           "colorbar": {
            "outlinewidth": 0,
            "ticks": ""
           }
          },
          "colorscale": {
           "diverging": [
            [
             0,
             "#8e0152"
            ],
            [
             0.1,
             "#c51b7d"
            ],
            [
             0.2,
             "#de77ae"
            ],
            [
             0.3,
             "#f1b6da"
            ],
            [
             0.4,
             "#fde0ef"
            ],
            [
             0.5,
             "#f7f7f7"
            ],
            [
             0.6,
             "#e6f5d0"
            ],
            [
             0.7,
             "#b8e186"
            ],
            [
             0.8,
             "#7fbc41"
            ],
            [
             0.9,
             "#4d9221"
            ],
            [
             1,
             "#276419"
            ]
           ],
           "sequential": [
            [
             0,
             "#0d0887"
            ],
            [
             0.1111111111111111,
             "#46039f"
            ],
            [
             0.2222222222222222,
             "#7201a8"
            ],
            [
             0.3333333333333333,
             "#9c179e"
            ],
            [
             0.4444444444444444,
             "#bd3786"
            ],
            [
             0.5555555555555556,
             "#d8576b"
            ],
            [
             0.6666666666666666,
             "#ed7953"
            ],
            [
             0.7777777777777778,
             "#fb9f3a"
            ],
            [
             0.8888888888888888,
             "#fdca26"
            ],
            [
             1,
             "#f0f921"
            ]
           ],
           "sequentialminus": [
            [
             0,
             "#0d0887"
            ],
            [
             0.1111111111111111,
             "#46039f"
            ],
            [
             0.2222222222222222,
             "#7201a8"
            ],
            [
             0.3333333333333333,
             "#9c179e"
            ],
            [
             0.4444444444444444,
             "#bd3786"
            ],
            [
             0.5555555555555556,
             "#d8576b"
            ],
            [
             0.6666666666666666,
             "#ed7953"
            ],
            [
             0.7777777777777778,
             "#fb9f3a"
            ],
            [
             0.8888888888888888,
             "#fdca26"
            ],
            [
             1,
             "#f0f921"
            ]
           ]
          },
          "colorway": [
           "#636efa",
           "#EF553B",
           "#00cc96",
           "#ab63fa",
           "#FFA15A",
           "#19d3f3",
           "#FF6692",
           "#B6E880",
           "#FF97FF",
           "#FECB52"
          ],
          "font": {
           "color": "#2a3f5f"
          },
          "geo": {
           "bgcolor": "white",
           "lakecolor": "white",
           "landcolor": "#E5ECF6",
           "showlakes": true,
           "showland": true,
           "subunitcolor": "white"
          },
          "hoverlabel": {
           "align": "left"
          },
          "hovermode": "closest",
          "mapbox": {
           "style": "light"
          },
          "paper_bgcolor": "white",
          "plot_bgcolor": "#E5ECF6",
          "polar": {
           "angularaxis": {
            "gridcolor": "white",
            "linecolor": "white",
            "ticks": ""
           },
           "bgcolor": "#E5ECF6",
           "radialaxis": {
            "gridcolor": "white",
            "linecolor": "white",
            "ticks": ""
           }
          },
          "scene": {
           "xaxis": {
            "backgroundcolor": "#E5ECF6",
            "gridcolor": "white",
            "gridwidth": 2,
            "linecolor": "white",
            "showbackground": true,
            "ticks": "",
            "zerolinecolor": "white"
           },
           "yaxis": {
            "backgroundcolor": "#E5ECF6",
            "gridcolor": "white",
            "gridwidth": 2,
            "linecolor": "white",
            "showbackground": true,
            "ticks": "",
            "zerolinecolor": "white"
           },
           "zaxis": {
            "backgroundcolor": "#E5ECF6",
            "gridcolor": "white",
            "gridwidth": 2,
            "linecolor": "white",
            "showbackground": true,
            "ticks": "",
            "zerolinecolor": "white"
           }
          },
          "shapedefaults": {
           "line": {
            "color": "#2a3f5f"
           }
          },
          "ternary": {
           "aaxis": {
            "gridcolor": "white",
            "linecolor": "white",
            "ticks": ""
           },
           "baxis": {
            "gridcolor": "white",
            "linecolor": "white",
            "ticks": ""
           },
           "bgcolor": "#E5ECF6",
           "caxis": {
            "gridcolor": "white",
            "linecolor": "white",
            "ticks": ""
           }
          },
          "title": {
           "x": 0.05
          },
          "xaxis": {
           "automargin": true,
           "gridcolor": "white",
           "linecolor": "white",
           "ticks": "",
           "title": {
            "standoff": 15
           },
           "zerolinecolor": "white",
           "zerolinewidth": 2
          },
          "yaxis": {
           "automargin": true,
           "gridcolor": "white",
           "linecolor": "white",
           "ticks": "",
           "title": {
            "standoff": 15
           },
           "zerolinecolor": "white",
           "zerolinewidth": 2
          }
         }
        },
        "title": {
         "text": "District Map"
        },
        "xaxis": {
         "title": {
          "text": "X"
         }
        },
        "yaxis": {
         "title": {
          "text": "Y"
         }
        }
       }
      }
     },
     "metadata": {},
     "output_type": "display_data"
    },
    {
     "data": {
      "text/plain": [
       "<function __main__.interactive_plot(grid_size, districts, p_0, c, r, n)>"
      ]
     },
     "execution_count": 1,
     "metadata": {},
     "output_type": "execute_result"
    }
   ],
   "source": [
    "import pandas as pa\n",
    "import math\n",
    "import numpy as np\n",
    "import networkx as nx\n",
    "import matplotlib.pyplot as plt\n",
    "from ortools.graph import pywrapgraph\n",
    "import random\n",
    "import plotly.graph_objects as go\n",
    "from ipywidgets import interact, IntSlider, FloatSlider\n",
    "\n",
    "def print_info(data, name):\n",
    "    if isinstance(data, list):\n",
    "        print(' % ', name, ' ', data, ' -----type $len: ', len(data), ' ', type(data), ' * ')\n",
    "    else:\n",
    "        print(' % ', name, ' ', data, ' -----type ', type(data), ' * ')\n",
    "\n",
    "def setup(districts, grid_size, district_centers, pops): \n",
    "    tol = 1\n",
    "    start_nodes = [0] * (grid_size * grid_size)\n",
    "    for i in range(grid_size * grid_size):\n",
    "        start_nodes = start_nodes + [i + 1] * districts\n",
    "    for j in range(districts):\n",
    "        start_nodes = start_nodes + [(grid_size * grid_size) + 1 + j]\n",
    "    end_nodes = []\n",
    "    for i in range(grid_size * grid_size):\n",
    "        end_nodes = end_nodes + [i + 1]\n",
    "    for j in range(grid_size * grid_size):\n",
    "        for k in range(districts):\n",
    "            end_nodes = end_nodes + [(grid_size * grid_size) + 1 + k]\n",
    "    end_nodes = end_nodes + [(grid_size * grid_size) + districts + 1] * districts\n",
    "    total_pop = np.sum(np.array(pops))\n",
    "    capacities = np.array(pops).flatten().tolist()\n",
    "    for i in np.array(pops).flatten().tolist():\n",
    "        for j in range(districts):\n",
    "            capacities = capacities + [i]\n",
    "    for i in range(districts):\n",
    "        capacities = capacities + [int(total_pop / districts) + tol]\n",
    "    costs = [0] * (grid_size * grid_size)\n",
    "    for i in range(grid_size):\n",
    "        for j in range(grid_size):\n",
    "            for k in range(districts):\n",
    "                costs = costs + [int((((i - district_centers[k][0]) ** 2) + ((j - district_centers[k][1]) ** 2)))]\n",
    "    costs = costs + [0] * districts\n",
    "    supplies = [int(total_pop)] + ((grid_size * grid_size) + districts) * [0] + [-int(total_pop)]\n",
    "    source = 0\n",
    "    sink = districts + (grid_size * grid_size) + 1\n",
    "    return start_nodes, end_nodes, capacities, costs, supplies, source, sink, pops, total_pop\n",
    "\n",
    "def optimize(start_nodes, end_nodes, capacities, costs, supplies, source, sink, grid, grid_size):\n",
    "    Block_Assignments = pa.DataFrame(columns=['DIST_NO', 'ASSIGN_POP', 'ACTUAL_POP'])\n",
    "    min_cost_flow = pywrapgraph.SimpleMinCostFlow()\n",
    "    for i in range(len(start_nodes)):\n",
    "        min_cost_flow.AddArcWithCapacityAndUnitCost(start_nodes[i], end_nodes[i], capacities[i], costs[i])\n",
    "    for i in range(len(supplies)):\n",
    "        min_cost_flow.SetNodeSupply(i, supplies[i])\n",
    "    flag = 0    \n",
    "    if min_cost_flow.Solve() == min_cost_flow.OPTIMAL:\n",
    "        for arc in range(min_cost_flow.NumArcs()):\n",
    "            if min_cost_flow.Tail(arc) != source and min_cost_flow.Head(arc) != sink:\n",
    "                if min_cost_flow.Flow(arc) > 0:\n",
    "                    if min_cost_flow.Capacity(arc) == min_cost_flow.Flow(arc):\n",
    "                        grid.nodes[(int(((min_cost_flow.Tail(arc) - 1) / grid_size)), (min_cost_flow.Tail(arc) - 1) % grid_size)][\"district\"] = min_cost_flow.Head(arc)\n",
    "                        Block_Assignments.loc[min_cost_flow.Tail(arc)] = [min_cost_flow.Head(arc), min_cost_flow.Flow(arc), min_cost_flow.Capacity(arc)]\n",
    "                    else:\n",
    "                        if flag == 0:\n",
    "                            grid.nodes[(int(((min_cost_flow.Tail(arc) - 1) / grid_size)), (min_cost_flow.Tail(arc) - 1) % grid_size)][\"district\"] = min_cost_flow.Head(arc)\n",
    "                            Block_Assignments.loc[min_cost_flow.Tail(arc)] = [min_cost_flow.Head(arc), min_cost_flow.Flow(arc), min_cost_flow.Capacity(arc)]\n",
    "                            flag = min_cost_flow.Flow(arc)\n",
    "                        else: \n",
    "                            if Block_Assignments.loc[min_cost_flow.Tail(arc), 'ASSIGN_POP'] < min_cost_flow.Flow(arc):\n",
    "                                grid.nodes[(int(((min_cost_flow.Tail(arc) - 1) / grid_size)), (min_cost_flow.Tail(arc) - 1) % grid_size)][\"district\"] = min_cost_flow.Head(arc)\n",
    "                                Block_Assignments.loc[min_cost_flow.Tail(arc)] = [min_cost_flow.Head(arc), min_cost_flow.Flow(arc), min_cost_flow.Capacity(arc)]\n",
    "                                flag = flag + min_cost_flow.Flow(arc)\n",
    "                            else:\n",
    "                                flag = flag + min_cost_flow.Flow(arc)\n",
    "                            if flag == min_cost_flow.Capacity(arc):\n",
    "                                flag = 0\n",
    "    else:\n",
    "        print('There was an issue with the min cost flow input.')\n",
    "    return Block_Assignments\n",
    "\n",
    "def grid_setup(grid_s, dist, n, p_0, c, r):\n",
    "    \n",
    "\n",
    "    grid_size = grid_s\n",
    "    districts = dist\n",
    "    district_centers = []\n",
    "    spacing = int(grid_size / districts)\n",
    "    \n",
    "\n",
    "    for j in range(districts):\n",
    "        district_centers = district_centers + [[(j + 1) * spacing + random.randint(-1, 1), random.randint(0, grid_size - 1)]]\n",
    "    pops = []\n",
    "    row = []    \n",
    "    \n",
    "\n",
    "    for i in range(grid_size):\n",
    "        for j in range(grid_size):\n",
    "            row = row + [1]\n",
    "        pops = pops + [row]\n",
    "        row = []\n",
    "    grid = nx.grid_graph([grid_size, grid_size])\n",
    "    \n",
    "\n",
    "    for node in grid.nodes():\n",
    "        grid.nodes[node][\"population\"] = pops[node[0]][node[1]]\n",
    "    \n",
    "\n",
    "    add_party_preference(grid, n, grid_size, p_0, c, r)\n",
    "    return districts, grid_size, district_centers, pops, grid\n",
    "\n",
    "def add_party_preference(grid, n, grid_size, p_0, c, r):\n",
    "    squares_with_id = []\n",
    "    all_nodes = list(grid.nodes())\n",
    "    all_nodes_processed = []\n",
    "    voter_arr_ind = 0\n",
    "    row_tracker = 0\n",
    "    square = []\n",
    "    voter_arr_ind = 0\n",
    "    m_val_holder = 0\n",
    "    vertical_mover = 0\n",
    "    for i in range(n):\n",
    "        if i != 0:\n",
    "            vertical_mover += r * grid_size\n",
    "        for m in range(n):\n",
    "            row_tracker = (c * m) + vertical_mover\n",
    "            square = []            \n",
    "            for j in range(r):\n",
    "                row = all_nodes[row_tracker:row_tracker + c]\n",
    "                square = square + row\n",
    "                row_tracker += grid_size\n",
    "            all_nodes_processed += square\n",
    "            voter_ratios = np.ones(c * r)\n",
    "            proportion_of_a = math.floor((c * r) * p_0)\n",
    "            voter_ratios[:proportion_of_a] = 0\n",
    "            np.random.shuffle(voter_ratios)\n",
    "            for node in square:    \n",
    "                grid.nodes[node]['voter_pref'] = voter_ratios[voter_arr_ind]\n",
    "                voter_arr_ind = voter_arr_ind + 1\n",
    "            squares_with_id.append(square)       \n",
    "            voter_arr_ind = 0\n",
    "            square = []\n",
    "    missed_nodes = list(set(all_nodes).difference(all_nodes_processed))\n",
    "    if missed_nodes:   \n",
    "        print(\"missed_nodes = \" + str(missed_nodes))\n",
    "\n",
    "def interactive_plot(grid_size, districts, p_0, c, r, n):\n",
    "    try:\n",
    "\n",
    "        districts, grid_size, district_centers, pops, grid = grid_setup(grid_size, districts, n, p_0, c, r)\n",
    "\n",
    "        start_nodes, end_nodes, capacities, costs, supplies, source, sink, pops, total_pop = setup(districts, grid_size, district_centers, pops)\n",
    "\n",
    "        Block_Assignments = optimize(start_nodes, end_nodes, capacities, costs, supplies, source, sink, grid, grid_size)\n",
    "        \n",
    "\n",
    "        x_coords = []\n",
    "        y_coords = []\n",
    "        colors = []\n",
    "        districts_list = []\n",
    "\n",
    "        for node in grid.nodes():\n",
    "            x, y = node\n",
    "            x_coords.append(x)\n",
    "            y_coords.append(y)\n",
    "            district = grid.nodes[node][\"district\"]\n",
    "            districts_list.append(district)\n",
    "            \n",
    "            color = 'blue' if grid.nodes[node]['voter_pref'] == 0 else 'red'\n",
    "            colors.append(color)\n",
    "\n",
    "        fig = go.Figure()\n",
    "        for i in range(len(x_coords)):\n",
    "            fig.add_trace(go.Scatter(x=[x_coords[i]], y=[y_coords[i]], mode='markers', marker=dict(color=colors[i]), name=f'District {districts_list[i]}'))\n",
    "\n",
    "        fig.update_layout(title='District Map', xaxis_title='X', yaxis_title='Y')\n",
    "        fig.show()\n",
    "\n",
    "    except Exception as e:\n",
    "        print(f\"Error in interactive_plot function: {e}\")\n",
    "\n",
    "interact(interactive_plot, grid_size=IntSlider(min=5, max=20, step=1, value=10),\n",
    "         districts=IntSlider(min=2, max=10, step=1, value=5),\n",
    "         p_0=FloatSlider(min=0.1, max=0.9, step=0.1, value=0.5),\n",
    "         c=IntSlider(min=1, max=10, step=1, value=3),\n",
    "         r=IntSlider(min=1, max=10, step=1, value=3),\n",
    "         n=IntSlider(min=1, max=10, step=1, value=5))\n"
   ]
  },
  {
   "cell_type": "code",
   "execution_count": 1,
   "id": "f83d7efd",
   "metadata": {},
   "outputs": [
    {
     "data": {
      "image/png": "[encoded data removed]",
      "text/plain": [
       "<Figure size 640x480 with 1 Axes>"
      ]
     },
     "metadata": {},
     "output_type": "display_data"
    }
   ],
   "source": [
    "import pandas as pd\n",
    "import matplotlib.pyplot as plt\n",
    "import numpy as np\n",
    "\n",
    "# Sample data for demonstration\n",
    "data = {\n",
    "    'Party': ['A', 'B', 'A', 'B', 'A', 'B', 'A', 'B', 'A', 'B'],\n",
    "    'Votes': [100, 80, 150, 130, 120, 110, 160, 140, 180, 160],\n",
    "    'District': ['D1', 'D1', 'D2', 'D2', 'D3', 'D3', 'D4', 'D4', 'D5', 'D5']\n",
    "}\n",
    "\n",
    "df = pd.DataFrame(data)\n",
    "\n",
    "# Calculate the total votes for each party\n",
    "total_votes = df.groupby('Party')['Votes'].sum()\n",
    "\n",
    "# Plotting the voter distribution\n",
    "fig, ax = plt.subplots()\n",
    "\n",
    "for key, grp in df.groupby(['District']):\n",
    "    ax = grp.plot(ax=ax, kind='bar', x='Party', y='Votes', label=key)\n",
    "\n",
    "# Creating custom legend\n",
    "handles, labels = ax.get_legend_handles_labels()\n",
    "legend_labels = [f\"District {label} - Total A: {df[df['District']==label].loc[df['Party']=='A', 'Votes'].sum()}, Total B: {df[df['District']==label].loc[df['Party']=='B', 'Votes'].sum()}\" for label in labels]\n",
    "\n",
    "plt.legend(handles, legend_labels)\n",
    "plt.title(\"Voter Distribution by District\")\n",
    "plt.xlabel(\"Party\")\n",
    "plt.ylabel(\"Votes\")\n",
    "plt.show()\n"
   ]
  },
  {
   "cell_type": "code",
   "execution_count": 2,
   "id": "ffdf996c",
   "metadata": {},
   "outputs": [
    {
     "data": {
      "application/vnd.plotly.v1+json": {
       "config": {
        "plotlyServerURL": "https://plot.ly"
       },
       "data": [
        {
         "marker": {
          "color": "blue"
         },
         "mode": "markers",
         "name": "District 102",
         "type": "scatter",
         "x": [
          0
         ],
         "y": [
          0
         ]
        },
        {
         "marker": {
          "color": "blue"
         },
         "mode": "markers",
         "name": "District 102",
         "type": "scatter",
         "x": [
          0
         ],
         "y": [
          1
         ]
        },
        {
         "marker": {
          "color": "blue"
         },
         "mode": "markers",
         "name": "District 102",
         "type": "scatter",
         "x": [
          0
         ],
         "y": [
          2
         ]
        },
        {
         "marker": {
          "color": "blue"
         },
         "mode": "markers",
         "name": "District 102",
         "type": "scatter",
         "x": [
          0
         ],
         "y": [
          3
         ]
        },
        {
         "marker": {
          "color": "blue"
         },
         "mode": "markers",
         "name": "District 102",
         "type": "scatter",
         "x": [
          0
         ],
         "y": [
          4
         ]
        },
        {
         "marker": {
          "color": "red"
         },
         "mode": "markers",
         "name": "District 101",
         "type": "scatter",
         "x": [
          0
         ],
         "y": [
          5
         ]
        },
        {
         "marker": {
          "color": "red"
         },
         "mode": "markers",
         "name": "District 101",
         "type": "scatter",
         "x": [
          0
         ],
         "y": [
          6
         ]
        },
        {
         "marker": {
          "color": "red"
         },
         "mode": "markers",
         "name": "District 101",
         "type": "scatter",
         "x": [
          0
         ],
         "y": [
          7
         ]
        },
        {
         "marker": {
          "color": "red"
         },
         "mode": "markers",
         "name": "District 101",
         "type": "scatter",
         "x": [
          0
         ],
         "y": [
          8
         ]
        },
        {
         "marker": {
          "color": "blue"
         },
         "mode": "markers",
         "name": "District 101",
         "type": "scatter",
         "x": [
          0
         ],
         "y": [
          9
         ]
        },
        {
         "marker": {
          "color": "red"
         },
         "mode": "markers",
         "name": "District 102",
         "type": "scatter",
         "x": [
          1
         ],
         "y": [
          0
         ]
        },
        {
         "marker": {
          "color": "red"
         },
         "mode": "markers",
         "name": "District 102",
         "type": "scatter",
         "x": [
          1
         ],
         "y": [
          1
         ]
        },
        {
         "marker": {
          "color": "blue"
         },
         "mode": "markers",
         "name": "District 102",
         "type": "scatter",
         "x": [
          1
         ],
         "y": [
          2
         ]
        },
        {
         "marker": {
          "color": "blue"
         },
         "mode": "markers",
         "name": "District 102",
         "type": "scatter",
         "x": [
          1
         ],
         "y": [
          3
         ]
        },
        {
         "marker": {
          "color": "red"
         },
         "mode": "markers",
         "name": "District 102",
         "type": "scatter",
         "x": [
          1
         ],
         "y": [
          4
         ]
        },
        {
         "marker": {
          "color": "blue"
         },
         "mode": "markers",
         "name": "District 101",
         "type": "scatter",
         "x": [
          1
         ],
         "y": [
          5
         ]
        },
        {
         "marker": {
          "color": "blue"
         },
         "mode": "markers",
         "name": "District 101",
         "type": "scatter",
         "x": [
          1
         ],
         "y": [
          6
         ]
        },
        {
         "marker": {
          "color": "red"
         },
         "mode": "markers",
         "name": "District 101",
         "type": "scatter",
         "x": [
          1
         ],
         "y": [
          7
         ]
        },
        {
         "marker": {
          "color": "blue"
         },
         "mode": "markers",
         "name": "District 101",
         "type": "scatter",
         "x": [
          1
         ],
         "y": [
          8
         ]
        },
        {
         "marker": {
          "color": "blue"
         },
         "mode": "markers",
         "name": "District 101",
         "type": "scatter",
         "x": [
          1
         ],
         "y": [
          9
         ]
        },
        {
         "marker": {
          "color": "red"
         },
         "mode": "markers",
         "name": "District 102",
         "type": "scatter",
         "x": [
          2
         ],
         "y": [
          0
         ]
        },
        {
         "marker": {
          "color": "blue"
         },
         "mode": "markers",
         "name": "District 102",
         "type": "scatter",
         "x": [
          2
         ],
         "y": [
          1
         ]
        },
        {
         "marker": {
          "color": "blue"
         },
         "mode": "markers",
         "name": "District 102",
         "type": "scatter",
         "x": [
          2
         ],
         "y": [
          2
         ]
        },
        {
         "marker": {
          "color": "red"
         },
         "mode": "markers",
         "name": "District 102",
         "type": "scatter",
         "x": [
          2
         ],
         "y": [
          3
         ]
        },
        {
         "marker": {
          "color": "blue"
         },
         "mode": "markers",
         "name": "District 102",
         "type": "scatter",
         "x": [
          2
         ],
         "y": [
          4
         ]
        },
        {
         "marker": {
          "color": "red"
         },
         "mode": "markers",
         "name": "District 102",
         "type": "scatter",
         "x": [
          2
         ],
         "y": [
          5
         ]
        },
        {
         "marker": {
          "color": "blue"
         },
         "mode": "markers",
         "name": "District 101",
         "type": "scatter",
         "x": [
          2
         ],
         "y": [
          6
         ]
        },
        {
         "marker": {
          "color": "red"
         },
         "mode": "markers",
         "name": "District 101",
         "type": "scatter",
         "x": [
          2
         ],
         "y": [
          7
         ]
        },
        {
         "marker": {
          "color": "blue"
         },
         "mode": "markers",
         "name": "District 101",
         "type": "scatter",
         "x": [
          2
         ],
         "y": [
          8
         ]
        },
        {
         "marker": {
          "color": "blue"
         },
         "mode": "markers",
         "name": "District 101",
         "type": "scatter",
         "x": [
          2
         ],
         "y": [
          9
         ]
        },
        {
         "marker": {
          "color": "red"
         },
         "mode": "markers",
         "name": "District 104",
         "type": "scatter",
         "x": [
          3
         ],
         "y": [
          0
         ]
        },
        {
         "marker": {
          "color": "red"
         },
         "mode": "markers",
         "name": "District 104",
         "type": "scatter",
         "x": [
          3
         ],
         "y": [
          1
         ]
        },
        {
         "marker": {
          "color": "blue"
         },
         "mode": "markers",
         "name": "District 102",
         "type": "scatter",
         "x": [
          3
         ],
         "y": [
          2
         ]
        },
        {
         "marker": {
          "color": "blue"
         },
         "mode": "markers",
         "name": "District 102",
         "type": "scatter",
         "x": [
          3
         ],
         "y": [
          3
         ]
        },
        {
         "marker": {
          "color": "blue"
         },
         "mode": "markers",
         "name": "District 102",
         "type": "scatter",
         "x": [
          3
         ],
         "y": [
          4
         ]
        },
        {
         "marker": {
          "color": "red"
         },
         "mode": "markers",
         "name": "District 102",
         "type": "scatter",
         "x": [
          3
         ],
         "y": [
          5
         ]
        },
        {
         "marker": {
          "color": "blue"
         },
         "mode": "markers",
         "name": "District 101",
         "type": "scatter",
         "x": [
          3
         ],
         "y": [
          6
         ]
        },
        {
         "marker": {
          "color": "blue"
         },
         "mode": "markers",
         "name": "District 101",
         "type": "scatter",
         "x": [
          3
         ],
         "y": [
          7
         ]
        },
        {
         "marker": {
          "color": "red"
         },
         "mode": "markers",
         "name": "District 101",
         "type": "scatter",
         "x": [
          3
         ],
         "y": [
          8
         ]
        },
        {
         "marker": {
          "color": "blue"
         },
         "mode": "markers",
         "name": "District 101",
         "type": "scatter",
         "x": [
          3
         ],
         "y": [
          9
         ]
        },
        {
         "marker": {
          "color": "red"
         },
         "mode": "markers",
         "name": "District 104",
         "type": "scatter",
         "x": [
          4
         ],
         "y": [
          0
         ]
        },
        {
         "marker": {
          "color": "red"
         },
         "mode": "markers",
         "name": "District 104",
         "type": "scatter",
         "x": [
          4
         ],
         "y": [
          1
         ]
        },
        {
         "marker": {
          "color": "blue"
         },
         "mode": "markers",
         "name": "District 104",
         "type": "scatter",
         "x": [
          4
         ],
         "y": [
          2
         ]
        },
        {
         "marker": {
          "color": "red"
         },
         "mode": "markers",
         "name": "District 104",
         "type": "scatter",
         "x": [
          4
         ],
         "y": [
          3
         ]
        },
        {
         "marker": {
          "color": "blue"
         },
         "mode": "markers",
         "name": "District 102",
         "type": "scatter",
         "x": [
          4
         ],
         "y": [
          4
         ]
        },
        {
         "marker": {
          "color": "red"
         },
         "mode": "markers",
         "name": "District 103",
         "type": "scatter",
         "x": [
          4
         ],
         "y": [
          5
         ]
        },
        {
         "marker": {
          "color": "blue"
         },
         "mode": "markers",
         "name": "District 103",
         "type": "scatter",
         "x": [
          4
         ],
         "y": [
          6
         ]
        },
        {
         "marker": {
          "color": "red"
         },
         "mode": "markers",
         "name": "District 103",
         "type": "scatter",
         "x": [
          4
         ],
         "y": [
          7
         ]
        },
        {
         "marker": {
          "color": "red"
         },
         "mode": "markers",
         "name": "District 101",
         "type": "scatter",
         "x": [
          4
         ],
         "y": [
          8
         ]
        },
        {
         "marker": {
          "color": "red"
         },
         "mode": "markers",
         "name": "District 101",
         "type": "scatter",
         "x": [
          4
         ],
         "y": [
          9
         ]
        },
        {
         "marker": {
          "color": "blue"
         },
         "mode": "markers",
         "name": "District 105",
         "type": "scatter",
         "x": [
          5
         ],
         "y": [
          0
         ]
        },
        {
         "marker": {
          "color": "red"
         },
         "mode": "markers",
         "name": "District 104",
         "type": "scatter",
         "x": [
          5
         ],
         "y": [
          1
         ]
        },
        {
         "marker": {
          "color": "red"
         },
         "mode": "markers",
         "name": "District 104",
         "type": "scatter",
         "x": [
          5
         ],
         "y": [
          2
         ]
        },
        {
         "marker": {
          "color": "red"
         },
         "mode": "markers",
         "name": "District 104",
         "type": "scatter",
         "x": [
          5
         ],
         "y": [
          3
         ]
        },
        {
         "marker": {
          "color": "blue"
         },
         "mode": "markers",
         "name": "District 104",
         "type": "scatter",
         "x": [
          5
         ],
         "y": [
          4
         ]
        },
        {
         "marker": {
          "color": "red"
         },
         "mode": "markers",
         "name": "District 103",
         "type": "scatter",
         "x": [
          5
         ],
         "y": [
          5
         ]
        },
        {
         "marker": {
          "color": "blue"
         },
         "mode": "markers",
         "name": "District 103",
         "type": "scatter",
         "x": [
          5
         ],
         "y": [
          6
         ]
        },
        {
         "marker": {
          "color": "red"
         },
         "mode": "markers",
         "name": "District 103",
         "type": "scatter",
         "x": [
          5
         ],
         "y": [
          7
         ]
        },
        {
         "marker": {
          "color": "red"
         },
         "mode": "markers",
         "name": "District 103",
         "type": "scatter",
         "x": [
          5
         ],
         "y": [
          8
         ]
        },
        {
         "marker": {
          "color": "blue"
         },
         "mode": "markers",
         "name": "District 101",
         "type": "scatter",
         "x": [
          5
         ],
         "y": [
          9
         ]
        },
        {
         "marker": {
          "color": "blue"
         },
         "mode": "markers",
         "name": "District 105",
         "type": "scatter",
         "x": [
          6
         ],
         "y": [
          0
         ]
        },
        {
         "marker": {
          "color": "blue"
         },
         "mode": "markers",
         "name": "District 105",
         "type": "scatter",
         "x": [
          6
         ],
         "y": [
          1
         ]
        },
        {
         "marker": {
          "color": "red"
         },
         "mode": "markers",
         "name": "District 104",
         "type": "scatter",
         "x": [
          6
         ],
         "y": [
          2
         ]
        },
        {
         "marker": {
          "color": "red"
         },
         "mode": "markers",
         "name": "District 104",
         "type": "scatter",
         "x": [
          6
         ],
         "y": [
          3
         ]
        },
        {
         "marker": {
          "color": "blue"
         },
         "mode": "markers",
         "name": "District 104",
         "type": "scatter",
         "x": [
          6
         ],
         "y": [
          4
         ]
        },
        {
         "marker": {
          "color": "blue"
         },
         "mode": "markers",
         "name": "District 103",
         "type": "scatter",
         "x": [
          6
         ],
         "y": [
          5
         ]
        },
        {
         "marker": {
          "color": "blue"
         },
         "mode": "markers",
         "name": "District 103",
         "type": "scatter",
         "x": [
          6
         ],
         "y": [
          6
         ]
        },
        {
         "marker": {
          "color": "red"
         },
         "mode": "markers",
         "name": "District 103",
         "type": "scatter",
         "x": [
          6
         ],
         "y": [
          7
         ]
        },
        {
         "marker": {
          "color": "red"
         },
         "mode": "markers",
         "name": "District 103",
         "type": "scatter",
         "x": [
          6
         ],
         "y": [
          8
         ]
        },
        {
         "marker": {
          "color": "red"
         },
         "mode": "markers",
         "name": "District 103",
         "type": "scatter",
         "x": [
          6
         ],
         "y": [
          9
         ]
        },
        {
         "marker": {
          "color": "blue"
         },
         "mode": "markers",
         "name": "District 105",
         "type": "scatter",
         "x": [
          7
         ],
         "y": [
          0
         ]
        },
        {
         "marker": {
          "color": "red"
         },
         "mode": "markers",
         "name": "District 105",
         "type": "scatter",
         "x": [
          7
         ],
         "y": [
          1
         ]
        },
        {
         "marker": {
          "color": "red"
         },
         "mode": "markers",
         "name": "District 105",
         "type": "scatter",
         "x": [
          7
         ],
         "y": [
          2
         ]
        },
        {
         "marker": {
          "color": "red"
         },
         "mode": "markers",
         "name": "District 104",
         "type": "scatter",
         "x": [
          7
         ],
         "y": [
          3
         ]
        },
        {
         "marker": {
          "color": "blue"
         },
         "mode": "markers",
         "name": "District 104",
         "type": "scatter",
         "x": [
          7
         ],
         "y": [
          4
         ]
        },
        {
         "marker": {
          "color": "red"
         },
         "mode": "markers",
         "name": "District 104",
         "type": "scatter",
         "x": [
          7
         ],
         "y": [
          5
         ]
        },
        {
         "marker": {
          "color": "blue"
         },
         "mode": "markers",
         "name": "District 103",
         "type": "scatter",
         "x": [
          7
         ],
         "y": [
          6
         ]
        },
        {
         "marker": {
          "color": "blue"
         },
         "mode": "markers",
         "name": "District 103",
         "type": "scatter",
         "x": [
          7
         ],
         "y": [
          7
         ]
        },
        {
         "marker": {
          "color": "red"
         },
         "mode": "markers",
         "name": "District 103",
         "type": "scatter",
         "x": [
          7
         ],
         "y": [
          8
         ]
        },
        {
         "marker": {
          "color": "red"
         },
         "mode": "markers",
         "name": "District 103",
         "type": "scatter",
         "x": [
          7
         ],
         "y": [
          9
         ]
        },
        {
         "marker": {
          "color": "red"
         },
         "mode": "markers",
         "name": "District 105",
         "type": "scatter",
         "x": [
          8
         ],
         "y": [
          0
         ]
        },
        {
         "marker": {
          "color": "blue"
         },
         "mode": "markers",
         "name": "District 105",
         "type": "scatter",
         "x": [
          8
         ],
         "y": [
          1
         ]
        },
        {
         "marker": {
          "color": "blue"
         },
         "mode": "markers",
         "name": "District 105",
         "type": "scatter",
         "x": [
          8
         ],
         "y": [
          2
         ]
        },
        {
         "marker": {
          "color": "blue"
         },
         "mode": "markers",
         "name": "District 105",
         "type": "scatter",
         "x": [
          8
         ],
         "y": [
          3
         ]
        },
        {
         "marker": {
          "color": "blue"
         },
         "mode": "markers",
         "name": "District 104",
         "type": "scatter",
         "x": [
          8
         ],
         "y": [
          4
         ]
        },
        {
         "marker": {
          "color": "red"
         },
         "mode": "markers",
         "name": "District 104",
         "type": "scatter",
         "x": [
          8
         ],
         "y": [
          5
         ]
        },
        {
         "marker": {
          "color": "blue"
         },
         "mode": "markers",
         "name": "District 104",
         "type": "scatter",
         "x": [
          8
         ],
         "y": [
          6
         ]
        },
        {
         "marker": {
          "color": "red"
         },
         "mode": "markers",
         "name": "District 103",
         "type": "scatter",
         "x": [
          8
         ],
         "y": [
          7
         ]
        },
        {
         "marker": {
          "color": "red"
         },
         "mode": "markers",
         "name": "District 103",
         "type": "scatter",
         "x": [
          8
         ],
         "y": [
          8
         ]
        },
        {
         "marker": {
          "color": "blue"
         },
         "mode": "markers",
         "name": "District 103",
         "type": "scatter",
         "x": [
          8
         ],
         "y": [
          9
         ]
        },
        {
         "marker": {
          "color": "blue"
         },
         "mode": "markers",
         "name": "District 105",
         "type": "scatter",
         "x": [
          9
         ],
         "y": [
          0
         ]
        },
        {
         "marker": {
          "color": "blue"
         },
         "mode": "markers",
         "name": "District 105",
         "type": "scatter",
         "x": [
          9
         ],
         "y": [
          1
         ]
        },
        {
         "marker": {
          "color": "red"
         },
         "mode": "markers",
         "name": "District 105",
         "type": "scatter",
         "x": [
          9
         ],
         "y": [
          2
         ]
        },
        {
         "marker": {
          "color": "red"
         },
         "mode": "markers",
         "name": "District 105",
         "type": "scatter",
         "x": [
          9
         ],
         "y": [
          3
         ]
        },
        {
         "marker": {
          "color": "blue"
         },
         "mode": "markers",
         "name": "District 105",
         "type": "scatter",
         "x": [
          9
         ],
         "y": [
          4
         ]
        },
        {
         "marker": {
          "color": "blue"
         },
         "mode": "markers",
         "name": "District 105",
         "type": "scatter",
         "x": [
          9
         ],
         "y": [
          5
         ]
        },
        {
         "marker": {
          "color": "red"
         },
         "mode": "markers",
         "name": "District 104",
         "type": "scatter",
         "x": [
          9
         ],
         "y": [
          6
         ]
        },
        {
         "marker": {
          "color": "blue"
         },
         "mode": "markers",
         "name": "District 104",
         "type": "scatter",
         "x": [
          9
         ],
         "y": [
          7
         ]
        },
        {
         "marker": {
          "color": "blue"
         },
         "mode": "markers",
         "name": "District 103",
         "type": "scatter",
         "x": [
          9
         ],
         "y": [
          8
         ]
        },
        {
         "marker": {
          "color": "red"
         },
         "mode": "markers",
         "name": "District 103",
         "type": "scatter",
         "x": [
          9
         ],
         "y": [
          9
         ]
        },
        {
         "legendgroup": "District 1",
         "marker": {
          "color": "blue"
         },
         "mode": "markers",
         "name": "District 1 - Total A: 0, Total B: 0",
         "showlegend": true,
         "type": "scatter",
         "x": [
          null
         ],
         "y": [
          null
         ]
        },
        {
         "legendgroup": "District 2",
         "marker": {
          "color": "blue"
         },
         "mode": "markers",
         "name": "District 2 - Total A: 0, Total B: 0",
         "showlegend": true,
         "type": "scatter",
         "x": [
          null
         ],
         "y": [
          null
         ]
        },
        {
         "legendgroup": "District 3",
         "marker": {
          "color": "blue"
         },
         "mode": "markers",
         "name": "District 3 - Total A: 0, Total B: 0",
         "showlegend": true,
         "type": "scatter",
         "x": [
          null
         ],
         "y": [
          null
         ]
        },
        {
         "legendgroup": "District 4",
         "marker": {
          "color": "blue"
         },
         "mode": "markers",
         "name": "District 4 - Total A: 0, Total B: 0",
         "showlegend": true,
         "type": "scatter",
         "x": [
          null
         ],
         "y": [
          null
         ]
        },
        {
         "legendgroup": "District 5",
         "marker": {
          "color": "blue"
         },
         "mode": "markers",
         "name": "District 5 - Total A: 0, Total B: 0",
         "showlegend": true,
         "type": "scatter",
         "x": [
          null
         ],
         "y": [
          null
         ]
        }
       ],
       "layout": {
        "legend": {
         "title": {
          "text": "Districts"
         }
        },
        "showlegend": true,
        "template": {
         "data": {
          "bar": [
           {
            "error_x": {
             "color": "#2a3f5f"
            },
            "error_y": {
             "color": "#2a3f5f"
            },
            "marker": {
             "line": {
              "color": "#E5ECF6",
              "width": 0.5
             },
             "pattern": {
              "fillmode": "overlay",
              "size": 10,
              "solidity": 0.2
             }
            },
            "type": "bar"
           }
          ],
          "barpolar": [
           {
            "marker": {
             "line": {
              "color": "#E5ECF6",
              "width": 0.5
             },
             "pattern": {
              "fillmode": "overlay",
              "size": 10,
              "solidity": 0.2
             }
            },
            "type": "barpolar"
           }
          ],
          "carpet": [
           {
            "aaxis": {
             "endlinecolor": "#2a3f5f",
             "gridcolor": "white",
             "linecolor": "white",
             "minorgridcolor": "white",
             "startlinecolor": "#2a3f5f"
            },
            "baxis": {
             "endlinecolor": "#2a3f5f",
             "gridcolor": "white",
             "linecolor": "white",
             "minorgridcolor": "white",
             "startlinecolor": "#2a3f5f"
            },
            "type": "carpet"
           }
          ],
          "choropleth": [
           {
            "colorbar": {
             "outlinewidth": 0,
             "ticks": ""
            },
            "type": "choropleth"
           }
          ],
          "contour": [
           {
            "colorbar": {
             "outlinewidth": 0,
             "ticks": ""
            },
            "colorscale": [
             [
              0,
              "#0d0887"
             ],
             [
              0.1111111111111111,
              "#46039f"
             ],
             [
              0.2222222222222222,
              "#7201a8"
             ],
             [
              0.3333333333333333,
              "#9c179e"
             ],
             [
              0.4444444444444444,
              "#bd3786"
             ],
             [
              0.5555555555555556,
              "#d8576b"
             ],
             [
              0.6666666666666666,
              "#ed7953"
             ],
             [
              0.7777777777777778,
              "#fb9f3a"
             ],
             [
              0.8888888888888888,
              "#fdca26"
             ],
             [
              1,
              "#f0f921"
             ]
            ],
            "type": "contour"
           }
          ],
          "contourcarpet": [
           {
            "colorbar": {
             "outlinewidth": 0,
             "ticks": ""
            },
            "type": "contourcarpet"
           }
          ],
          "heatmap": [
           {
            "colorbar": {
             "outlinewidth": 0,
             "ticks": ""
            },
            "colorscale": [
             [
              0,
              "#0d0887"
             ],
             [
              0.1111111111111111,
              "#46039f"
             ],
             [
              0.2222222222222222,
              "#7201a8"
             ],
             [
              0.3333333333333333,
              "#9c179e"
             ],
             [
              0.4444444444444444,
              "#bd3786"
             ],
             [
              0.5555555555555556,
              "#d8576b"
             ],
             [
              0.6666666666666666,
              "#ed7953"
             ],
             [
              0.7777777777777778,
              "#fb9f3a"
             ],
             [
              0.8888888888888888,
              "#fdca26"
             ],
             [
              1,
              "#f0f921"
             ]
            ],
            "type": "heatmap"
           }
          ],
          "heatmapgl": [
           {
            "colorbar": {
             "outlinewidth": 0,
             "ticks": ""
            },
            "colorscale": [
             [
              0,
              "#0d0887"
             ],
             [
              0.1111111111111111,
              "#46039f"
             ],
             [
              0.2222222222222222,
              "#7201a8"
             ],
             [
              0.3333333333333333,
              "#9c179e"
             ],
             [
              0.4444444444444444,
              "#bd3786"
             ],
             [
              0.5555555555555556,
              "#d8576b"
             ],
             [
              0.6666666666666666,
              "#ed7953"
             ],
             [
              0.7777777777777778,
              "#fb9f3a"
             ],
             [
              0.8888888888888888,
              "#fdca26"
             ],
             [
              1,
              "#f0f921"
             ]
            ],
            "type": "heatmapgl"
           }
          ],
          "histogram": [
           {
            "marker": {
             "pattern": {
              "fillmode": "overlay",
              "size": 10,
              "solidity": 0.2
             }
            },
            "type": "histogram"
           }
          ],
          "histogram2d": [
           {
            "colorbar": {
             "outlinewidth": 0,
             "ticks": ""
            },
            "colorscale": [
             [
              0,
              "#0d0887"
             ],
             [
              0.1111111111111111,
              "#46039f"
             ],
             [
              0.2222222222222222,
              "#7201a8"
             ],
             [
              0.3333333333333333,
              "#9c179e"
             ],
             [
              0.4444444444444444,
              "#bd3786"
             ],
             [
              0.5555555555555556,
              "#d8576b"
             ],
             [
              0.6666666666666666,
              "#ed7953"
             ],
             [
              0.7777777777777778,
              "#fb9f3a"
             ],
             [
              0.8888888888888888,
              "#fdca26"
             ],
             [
              1,
              "#f0f921"
             ]
            ],
            "type": "histogram2d"
           }
          ],
          "histogram2dcontour": [
           {
            "colorbar": {
             "outlinewidth": 0,
             "ticks": ""
            },
            "colorscale": [
             [
              0,
              "#0d0887"
             ],
             [
              0.1111111111111111,
              "#46039f"
             ],
             [
              0.2222222222222222,
              "#7201a8"
             ],
             [
              0.3333333333333333,
              "#9c179e"
             ],
             [
              0.4444444444444444,
              "#bd3786"
             ],
             [
              0.5555555555555556,
              "#d8576b"
             ],
             [
              0.6666666666666666,
              "#ed7953"
             ],
             [
              0.7777777777777778,
              "#fb9f3a"
             ],
             [
              0.8888888888888888,
              "#fdca26"
             ],
             [
              1,
              "#f0f921"
             ]
            ],
            "type": "histogram2dcontour"
           }
          ],
          "mesh3d": [
           {
            "colorbar": {
             "outlinewidth": 0,
             "ticks": ""
            },
            "type": "mesh3d"
           }
          ],
          "parcoords": [
           {
            "line": {
             "colorbar": {
              "outlinewidth": 0,
              "ticks": ""
             }
            },
            "type": "parcoords"
           }
          ],
          "pie": [
           {
            "automargin": true,
            "type": "pie"
           }
          ],
          "scatter": [
           {
            "fillpattern": {
             "fillmode": "overlay",
             "size": 10,
             "solidity": 0.2
            },
            "type": "scatter"
           }
          ],
          "scatter3d": [
           {
            "line": {
             "colorbar": {
              "outlinewidth": 0,
              "ticks": ""
             }
            },
            "marker": {
             "colorbar": {
              "outlinewidth": 0,
              "ticks": ""
             }
            },
            "type": "scatter3d"
           }
          ],
          "scattercarpet": [
           {
            "marker": {
             "colorbar": {
              "outlinewidth": 0,
              "ticks": ""
             }
            },
            "type": "scattercarpet"
           }
          ],
          "scattergeo": [
           {
            "marker": {
             "colorbar": {
              "outlinewidth": 0,
              "ticks": ""
             }
            },
            "type": "scattergeo"
           }
          ],
          "scattergl": [
           {
            "marker": {
             "colorbar": {
              "outlinewidth": 0,
              "ticks": ""
             }
            },
            "type": "scattergl"
           }
          ],
          "scattermapbox": [
           {
            "marker": {
             "colorbar": {
              "outlinewidth": 0,
              "ticks": ""
             }
            },
            "type": "scattermapbox"
           }
          ],
          "scatterpolar": [
           {
            "marker": {
             "colorbar": {
              "outlinewidth": 0,
              "ticks": ""
             }
            },
            "type": "scatterpolar"
           }
          ],
          "scatterpolargl": [
           {
            "marker": {
             "colorbar": {
              "outlinewidth": 0,
              "ticks": ""
             }
            },
            "type": "scatterpolargl"
           }
          ],
          "scatterternary": [
           {
            "marker": {
             "colorbar": {
              "outlinewidth": 0,
              "ticks": ""
             }
            },
            "type": "scatterternary"
           }
          ],
          "surface": [
           {
            "colorbar": {
             "outlinewidth": 0,
             "ticks": ""
            },
            "colorscale": [
             [
              0,
              "#0d0887"
             ],
             [
              0.1111111111111111,
              "#46039f"
             ],
             [
              0.2222222222222222,
              "#7201a8"
             ],
             [
              0.3333333333333333,
              "#9c179e"
             ],
             [
              0.4444444444444444,
              "#bd3786"
             ],
             [
              0.5555555555555556,
              "#d8576b"
             ],
             [
              0.6666666666666666,
              "#ed7953"
             ],
             [
              0.7777777777777778,
              "#fb9f3a"
             ],
             [
              0.8888888888888888,
              "#fdca26"
             ],
             [
              1,
              "#f0f921"
             ]
            ],
            "type": "surface"
           }
          ],
          "table": [
           {
            "cells": {
             "fill": {
              "color": "#EBF0F8"
             },
             "line": {
              "color": "white"
             }
            },
            "header": {
             "fill": {
              "color": "#C8D4E3"
             },
             "line": {
              "color": "white"
             }
            },
            "type": "table"
           }
          ]
         },
         "layout": {
          "annotationdefaults": {
           "arrowcolor": "#2a3f5f",
           "arrowhead": 0,
           "arrowwidth": 1
          },
          "autotypenumbers": "strict",
          "coloraxis": {
           "colorbar": {
            "outlinewidth": 0,
            "ticks": ""
           }
          },
          "colorscale": {
           "diverging": [
            [
             0,
             "#8e0152"
            ],
            [
             0.1,
             "#c51b7d"
            ],
            [
             0.2,
             "#de77ae"
            ],
            [
             0.3,
             "#f1b6da"
            ],
            [
             0.4,
             "#fde0ef"
            ],
            [
             0.5,
             "#f7f7f7"
            ],
            [
             0.6,
             "#e6f5d0"
            ],
            [
             0.7,
             "#b8e186"
            ],
            [
             0.8,
             "#7fbc41"
            ],
            [
             0.9,
             "#4d9221"
            ],
            [
             1,
             "#276419"
            ]
           ],
           "sequential": [
            [
             0,
             "#0d0887"
            ],
            [
             0.1111111111111111,
             "#46039f"
            ],
            [
             0.2222222222222222,
             "#7201a8"
            ],
            [
             0.3333333333333333,
             "#9c179e"
            ],
            [
             0.4444444444444444,
             "#bd3786"
            ],
            [
             0.5555555555555556,
             "#d8576b"
            ],
            [
             0.6666666666666666,
             "#ed7953"
            ],
            [
             0.7777777777777778,
             "#fb9f3a"
            ],
            [
             0.8888888888888888,
             "#fdca26"
            ],
            [
             1,
             "#f0f921"
            ]
           ],
           "sequentialminus": [
            [
             0,
             "#0d0887"
            ],
            [
             0.1111111111111111,
             "#46039f"
            ],
            [
             0.2222222222222222,
             "#7201a8"
            ],
            [
             0.3333333333333333,
             "#9c179e"
            ],
            [
             0.4444444444444444,
             "#bd3786"
            ],
            [
             0.5555555555555556,
             "#d8576b"
            ],
            [
             0.6666666666666666,
             "#ed7953"
            ],
            [
             0.7777777777777778,
             "#fb9f3a"
            ],
            [
             0.8888888888888888,
             "#fdca26"
            ],
            [
             1,
             "#f0f921"
            ]
           ]
          },
          "colorway": [
           "#636efa",
           "#EF553B",
           "#00cc96",
           "#ab63fa",
           "#FFA15A",
           "#19d3f3",
           "#FF6692",
           "#B6E880",
           "#FF97FF",
           "#FECB52"
          ],
          "font": {
           "color": "#2a3f5f"
          },
          "geo": {
           "bgcolor": "white",
           "lakecolor": "white",
           "landcolor": "#E5ECF6",
           "showlakes": true,
           "showland": true,
           "subunitcolor": "white"
          },
          "hoverlabel": {
           "align": "left"
          },
          "hovermode": "closest",
          "mapbox": {
           "style": "light"
          },
          "paper_bgcolor": "white",
          "plot_bgcolor": "#E5ECF6",
          "polar": {
           "angularaxis": {
            "gridcolor": "white",
            "linecolor": "white",
            "ticks": ""
           },
           "bgcolor": "#E5ECF6",
           "radialaxis": {
            "gridcolor": "white",
            "linecolor": "white",
            "ticks": ""
           }
          },
          "scene": {
           "xaxis": {
            "backgroundcolor": "#E5ECF6",
            "gridcolor": "white",
            "gridwidth": 2,
            "linecolor": "white",
            "showbackground": true,
            "ticks": "",
            "zerolinecolor": "white"
           },
           "yaxis": {
            "backgroundcolor": "#E5ECF6",
            "gridcolor": "white",
            "gridwidth": 2,
            "linecolor": "white",
            "showbackground": true,
            "ticks": "",
            "zerolinecolor": "white"
           },
           "zaxis": {
            "backgroundcolor": "#E5ECF6",
            "gridcolor": "white",
            "gridwidth": 2,
            "linecolor": "white",
            "showbackground": true,
            "ticks": "",
            "zerolinecolor": "white"
           }
          },
          "shapedefaults": {
           "line": {
            "color": "#2a3f5f"
           }
          },
          "ternary": {
           "aaxis": {
            "gridcolor": "white",
            "linecolor": "white",
            "ticks": ""
           },
           "baxis": {
            "gridcolor": "white",
            "linecolor": "white",
            "ticks": ""
           },
           "bgcolor": "#E5ECF6",
           "caxis": {
            "gridcolor": "white",
            "linecolor": "white",
            "ticks": ""
           }
          },
          "title": {
           "x": 0.05
          },
          "xaxis": {
           "automargin": true,
           "gridcolor": "white",
           "linecolor": "white",
           "ticks": "",
           "title": {
            "standoff": 15
           },
           "zerolinecolor": "white",
           "zerolinewidth": 2
          },
          "yaxis": {
           "automargin": true,
           "gridcolor": "white",
           "linecolor": "white",
           "ticks": "",
           "title": {
            "standoff": 15
           },
           "zerolinecolor": "white",
           "zerolinewidth": 2
          }
         }
        },
        "title": {
         "text": "District Map"
        },
        "xaxis": {
         "title": {
          "text": "X"
         }
        },
        "yaxis": {
         "title": {
          "text": "Y"
         }
        }
       }
      }
     },
     "metadata": {},
     "output_type": "display_data"
    },
    {
     "data": {
      "application/vnd.jupyter.widget-view+json": {
       "model_id": "71be01d90530412186a47d9b2341e0c2",
       "version_major": 2,
       "version_minor": 0
      },
      "text/plain": [
       "interactive(children=(IntSlider(value=10, description='grid_size', max=20, min=5), IntSlider(value=5, descript…"
      ]
     },
     "metadata": {},
     "output_type": "display_data"
    },
    {
     "data": {
      "application/vnd.plotly.v1+json": {
       "config": {
        "plotlyServerURL": "https://plot.ly"
       },
       "data": [
        {
         "marker": {
          "color": "red"
         },
         "mode": "markers",
         "name": "District 102",
         "type": "scatter",
         "x": [
          0
         ],
         "y": [
          0
         ]
        },
        {
         "marker": {
          "color": "blue"
         },
         "mode": "markers",
         "name": "District 102",
         "type": "scatter",
         "x": [
          0
         ],
         "y": [
          1
         ]
        },
        {
         "marker": {
          "color": "blue"
         },
         "mode": "markers",
         "name": "District 102",
         "type": "scatter",
         "x": [
          0
         ],
         "y": [
          2
         ]
        },
        {
         "marker": {
          "color": "red"
         },
         "mode": "markers",
         "name": "District 102",
         "type": "scatter",
         "x": [
          0
         ],
         "y": [
          3
         ]
        },
        {
         "marker": {
          "color": "red"
         },
         "mode": "markers",
         "name": "District 102",
         "type": "scatter",
         "x": [
          0
         ],
         "y": [
          4
         ]
        },
        {
         "marker": {
          "color": "red"
         },
         "mode": "markers",
         "name": "District 102",
         "type": "scatter",
         "x": [
          0
         ],
         "y": [
          5
         ]
        },
        {
         "marker": {
          "color": "blue"
         },
         "mode": "markers",
         "name": "District 101",
         "type": "scatter",
         "x": [
          0
         ],
         "y": [
          6
         ]
        },
        {
         "marker": {
          "color": "red"
         },
         "mode": "markers",
         "name": "District 101",
         "type": "scatter",
         "x": [
          0
         ],
         "y": [
          7
         ]
        },
        {
         "marker": {
          "color": "blue"
         },
         "mode": "markers",
         "name": "District 104",
         "type": "scatter",
         "x": [
          0
         ],
         "y": [
          8
         ]
        },
        {
         "marker": {
          "color": "blue"
         },
         "mode": "markers",
         "name": "District 104",
         "type": "scatter",
         "x": [
          0
         ],
         "y": [
          9
         ]
        },
        {
         "marker": {
          "color": "blue"
         },
         "mode": "markers",
         "name": "District 102",
         "type": "scatter",
         "x": [
          1
         ],
         "y": [
          0
         ]
        },
        {
         "marker": {
          "color": "blue"
         },
         "mode": "markers",
         "name": "District 102",
         "type": "scatter",
         "x": [
          1
         ],
         "y": [
          1
         ]
        },
        {
         "marker": {
          "color": "blue"
         },
         "mode": "markers",
         "name": "District 102",
         "type": "scatter",
         "x": [
          1
         ],
         "y": [
          2
         ]
        },
        {
         "marker": {
          "color": "blue"
         },
         "mode": "markers",
         "name": "District 102",
         "type": "scatter",
         "x": [
          1
         ],
         "y": [
          3
         ]
        },
        {
         "marker": {
          "color": "red"
         },
         "mode": "markers",
         "name": "District 101",
         "type": "scatter",
         "x": [
          1
         ],
         "y": [
          4
         ]
        },
        {
         "marker": {
          "color": "blue"
         },
         "mode": "markers",
         "name": "District 101",
         "type": "scatter",
         "x": [
          1
         ],
         "y": [
          5
         ]
        },
        {
         "marker": {
          "color": "blue"
         },
         "mode": "markers",
         "name": "District 101",
         "type": "scatter",
         "x": [
          1
         ],
         "y": [
          6
         ]
        },
        {
         "marker": {
          "color": "blue"
         },
         "mode": "markers",
         "name": "District 104",
         "type": "scatter",
         "x": [
          1
         ],
         "y": [
          7
         ]
        },
        {
         "marker": {
          "color": "blue"
         },
         "mode": "markers",
         "name": "District 104",
         "type": "scatter",
         "x": [
          1
         ],
         "y": [
          8
         ]
        },
        {
         "marker": {
          "color": "red"
         },
         "mode": "markers",
         "name": "District 104",
         "type": "scatter",
         "x": [
          1
         ],
         "y": [
          9
         ]
        },
        {
         "marker": {
          "color": "blue"
         },
         "mode": "markers",
         "name": "District 103",
         "type": "scatter",
         "x": [
          2
         ],
         "y": [
          0
         ]
        },
        {
         "marker": {
          "color": "blue"
         },
         "mode": "markers",
         "name": "District 103",
         "type": "scatter",
         "x": [
          2
         ],
         "y": [
          1
         ]
        },
        {
         "marker": {
          "color": "blue"
         },
         "mode": "markers",
         "name": "District 103",
         "type": "scatter",
         "x": [
          2
         ],
         "y": [
          2
         ]
        },
        {
         "marker": {
          "color": "blue"
         },
         "mode": "markers",
         "name": "District 103",
         "type": "scatter",
         "x": [
          2
         ],
         "y": [
          3
         ]
        },
        {
         "marker": {
          "color": "red"
         },
         "mode": "markers",
         "name": "District 101",
         "type": "scatter",
         "x": [
          2
         ],
         "y": [
          4
         ]
        },
        {
         "marker": {
          "color": "blue"
         },
         "mode": "markers",
         "name": "District 101",
         "type": "scatter",
         "x": [
          2
         ],
         "y": [
          5
         ]
        },
        {
         "marker": {
          "color": "blue"
         },
         "mode": "markers",
         "name": "District 101",
         "type": "scatter",
         "x": [
          2
         ],
         "y": [
          6
         ]
        },
        {
         "marker": {
          "color": "blue"
         },
         "mode": "markers",
         "name": "District 104",
         "type": "scatter",
         "x": [
          2
         ],
         "y": [
          7
         ]
        },
        {
         "marker": {
          "color": "blue"
         },
         "mode": "markers",
         "name": "District 104",
         "type": "scatter",
         "x": [
          2
         ],
         "y": [
          8
         ]
        },
        {
         "marker": {
          "color": "blue"
         },
         "mode": "markers",
         "name": "District 104",
         "type": "scatter",
         "x": [
          2
         ],
         "y": [
          9
         ]
        },
        {
         "marker": {
          "color": "blue"
         },
         "mode": "markers",
         "name": "District 103",
         "type": "scatter",
         "x": [
          3
         ],
         "y": [
          0
         ]
        },
        {
         "marker": {
          "color": "red"
         },
         "mode": "markers",
         "name": "District 103",
         "type": "scatter",
         "x": [
          3
         ],
         "y": [
          1
         ]
        },
        {
         "marker": {
          "color": "blue"
         },
         "mode": "markers",
         "name": "District 103",
         "type": "scatter",
         "x": [
          3
         ],
         "y": [
          2
         ]
        },
        {
         "marker": {
          "color": "blue"
         },
         "mode": "markers",
         "name": "District 103",
         "type": "scatter",
         "x": [
          3
         ],
         "y": [
          3
         ]
        },
        {
         "marker": {
          "color": "red"
         },
         "mode": "markers",
         "name": "District 101",
         "type": "scatter",
         "x": [
          3
         ],
         "y": [
          4
         ]
        },
        {
         "marker": {
          "color": "blue"
         },
         "mode": "markers",
         "name": "District 101",
         "type": "scatter",
         "x": [
          3
         ],
         "y": [
          5
         ]
        },
        {
         "marker": {
          "color": "blue"
         },
         "mode": "markers",
         "name": "District 101",
         "type": "scatter",
         "x": [
          3
         ],
         "y": [
          6
         ]
        },
        {
         "marker": {
          "color": "blue"
         },
         "mode": "markers",
         "name": "District 104",
         "type": "scatter",
         "x": [
          3
         ],
         "y": [
          7
         ]
        },
        {
         "marker": {
          "color": "blue"
         },
         "mode": "markers",
         "name": "District 104",
         "type": "scatter",
         "x": [
          3
         ],
         "y": [
          8
         ]
        },
        {
         "marker": {
          "color": "blue"
         },
         "mode": "markers",
         "name": "District 104",
         "type": "scatter",
         "x": [
          3
         ],
         "y": [
          9
         ]
        },
        {
         "marker": {
          "color": "blue"
         },
         "mode": "markers",
         "name": "District 103",
         "type": "scatter",
         "x": [
          4
         ],
         "y": [
          0
         ]
        },
        {
         "marker": {
          "color": "blue"
         },
         "mode": "markers",
         "name": "District 103",
         "type": "scatter",
         "x": [
          4
         ],
         "y": [
          1
         ]
        },
        {
         "marker": {
          "color": "blue"
         },
         "mode": "markers",
         "name": "District 103",
         "type": "scatter",
         "x": [
          4
         ],
         "y": [
          2
         ]
        },
        {
         "marker": {
          "color": "red"
         },
         "mode": "markers",
         "name": "District 103",
         "type": "scatter",
         "x": [
          4
         ],
         "y": [
          3
         ]
        },
        {
         "marker": {
          "color": "blue"
         },
         "mode": "markers",
         "name": "District 101",
         "type": "scatter",
         "x": [
          4
         ],
         "y": [
          4
         ]
        },
        {
         "marker": {
          "color": "red"
         },
         "mode": "markers",
         "name": "District 101",
         "type": "scatter",
         "x": [
          4
         ],
         "y": [
          5
         ]
        },
        {
         "marker": {
          "color": "blue"
         },
         "mode": "markers",
         "name": "District 104",
         "type": "scatter",
         "x": [
          4
         ],
         "y": [
          6
         ]
        },
        {
         "marker": {
          "color": "blue"
         },
         "mode": "markers",
         "name": "District 104",
         "type": "scatter",
         "x": [
          4
         ],
         "y": [
          7
         ]
        },
        {
         "marker": {
          "color": "blue"
         },
         "mode": "markers",
         "name": "District 105",
         "type": "scatter",
         "x": [
          4
         ],
         "y": [
          8
         ]
        },
        {
         "marker": {
          "color": "blue"
         },
         "mode": "markers",
         "name": "District 105",
         "type": "scatter",
         "x": [
          4
         ],
         "y": [
          9
         ]
        },
        {
         "marker": {
          "color": "red"
         },
         "mode": "markers",
         "name": "District 106",
         "type": "scatter",
         "x": [
          5
         ],
         "y": [
          0
         ]
        },
        {
         "marker": {
          "color": "blue"
         },
         "mode": "markers",
         "name": "District 106",
         "type": "scatter",
         "x": [
          5
         ],
         "y": [
          1
         ]
        },
        {
         "marker": {
          "color": "blue"
         },
         "mode": "markers",
         "name": "District 106",
         "type": "scatter",
         "x": [
          5
         ],
         "y": [
          2
         ]
        },
        {
         "marker": {
          "color": "red"
         },
         "mode": "markers",
         "name": "District 106",
         "type": "scatter",
         "x": [
          5
         ],
         "y": [
          3
         ]
        },
        {
         "marker": {
          "color": "blue"
         },
         "mode": "markers",
         "name": "District 106",
         "type": "scatter",
         "x": [
          5
         ],
         "y": [
          4
         ]
        },
        {
         "marker": {
          "color": "blue"
         },
         "mode": "markers",
         "name": "District 107",
         "type": "scatter",
         "x": [
          5
         ],
         "y": [
          5
         ]
        },
        {
         "marker": {
          "color": "blue"
         },
         "mode": "markers",
         "name": "District 107",
         "type": "scatter",
         "x": [
          5
         ],
         "y": [
          6
         ]
        },
        {
         "marker": {
          "color": "red"
         },
         "mode": "markers",
         "name": "District 105",
         "type": "scatter",
         "x": [
          5
         ],
         "y": [
          7
         ]
        },
        {
         "marker": {
          "color": "blue"
         },
         "mode": "markers",
         "name": "District 105",
         "type": "scatter",
         "x": [
          5
         ],
         "y": [
          8
         ]
        },
        {
         "marker": {
          "color": "red"
         },
         "mode": "markers",
         "name": "District 105",
         "type": "scatter",
         "x": [
          5
         ],
         "y": [
          9
         ]
        },
        {
         "marker": {
          "color": "blue"
         },
         "mode": "markers",
         "name": "District 106",
         "type": "scatter",
         "x": [
          6
         ],
         "y": [
          0
         ]
        },
        {
         "marker": {
          "color": "blue"
         },
         "mode": "markers",
         "name": "District 106",
         "type": "scatter",
         "x": [
          6
         ],
         "y": [
          1
         ]
        },
        {
         "marker": {
          "color": "blue"
         },
         "mode": "markers",
         "name": "District 106",
         "type": "scatter",
         "x": [
          6
         ],
         "y": [
          2
         ]
        },
        {
         "marker": {
          "color": "red"
         },
         "mode": "markers",
         "name": "District 106",
         "type": "scatter",
         "x": [
          6
         ],
         "y": [
          3
         ]
        },
        {
         "marker": {
          "color": "blue"
         },
         "mode": "markers",
         "name": "District 106",
         "type": "scatter",
         "x": [
          6
         ],
         "y": [
          4
         ]
        },
        {
         "marker": {
          "color": "blue"
         },
         "mode": "markers",
         "name": "District 107",
         "type": "scatter",
         "x": [
          6
         ],
         "y": [
          5
         ]
        },
        {
         "marker": {
          "color": "blue"
         },
         "mode": "markers",
         "name": "District 107",
         "type": "scatter",
         "x": [
          6
         ],
         "y": [
          6
         ]
        },
        {
         "marker": {
          "color": "red"
         },
         "mode": "markers",
         "name": "District 107",
         "type": "scatter",
         "x": [
          6
         ],
         "y": [
          7
         ]
        },
        {
         "marker": {
          "color": "blue"
         },
         "mode": "markers",
         "name": "District 105",
         "type": "scatter",
         "x": [
          6
         ],
         "y": [
          8
         ]
        },
        {
         "marker": {
          "color": "blue"
         },
         "mode": "markers",
         "name": "District 105",
         "type": "scatter",
         "x": [
          6
         ],
         "y": [
          9
         ]
        },
        {
         "marker": {
          "color": "blue"
         },
         "mode": "markers",
         "name": "District 106",
         "type": "scatter",
         "x": [
          7
         ],
         "y": [
          0
         ]
        },
        {
         "marker": {
          "color": "blue"
         },
         "mode": "markers",
         "name": "District 106",
         "type": "scatter",
         "x": [
          7
         ],
         "y": [
          1
         ]
        },
        {
         "marker": {
          "color": "blue"
         },
         "mode": "markers",
         "name": "District 106",
         "type": "scatter",
         "x": [
          7
         ],
         "y": [
          2
         ]
        },
        {
         "marker": {
          "color": "blue"
         },
         "mode": "markers",
         "name": "District 108",
         "type": "scatter",
         "x": [
          7
         ],
         "y": [
          3
         ]
        },
        {
         "marker": {
          "color": "blue"
         },
         "mode": "markers",
         "name": "District 108",
         "type": "scatter",
         "x": [
          7
         ],
         "y": [
          4
         ]
        },
        {
         "marker": {
          "color": "blue"
         },
         "mode": "markers",
         "name": "District 107",
         "type": "scatter",
         "x": [
          7
         ],
         "y": [
          5
         ]
        },
        {
         "marker": {
          "color": "blue"
         },
         "mode": "markers",
         "name": "District 107",
         "type": "scatter",
         "x": [
          7
         ],
         "y": [
          6
         ]
        },
        {
         "marker": {
          "color": "blue"
         },
         "mode": "markers",
         "name": "District 107",
         "type": "scatter",
         "x": [
          7
         ],
         "y": [
          7
         ]
        },
        {
         "marker": {
          "color": "red"
         },
         "mode": "markers",
         "name": "District 105",
         "type": "scatter",
         "x": [
          7
         ],
         "y": [
          8
         ]
        },
        {
         "marker": {
          "color": "blue"
         },
         "mode": "markers",
         "name": "District 105",
         "type": "scatter",
         "x": [
          7
         ],
         "y": [
          9
         ]
        },
        {
         "marker": {
          "color": "blue"
         },
         "mode": "markers",
         "name": "District 108",
         "type": "scatter",
         "x": [
          8
         ],
         "y": [
          0
         ]
        },
        {
         "marker": {
          "color": "blue"
         },
         "mode": "markers",
         "name": "District 108",
         "type": "scatter",
         "x": [
          8
         ],
         "y": [
          1
         ]
        },
        {
         "marker": {
          "color": "blue"
         },
         "mode": "markers",
         "name": "District 108",
         "type": "scatter",
         "x": [
          8
         ],
         "y": [
          2
         ]
        },
        {
         "marker": {
          "color": "blue"
         },
         "mode": "markers",
         "name": "District 108",
         "type": "scatter",
         "x": [
          8
         ],
         "y": [
          3
         ]
        },
        {
         "marker": {
          "color": "blue"
         },
         "mode": "markers",
         "name": "District 108",
         "type": "scatter",
         "x": [
          8
         ],
         "y": [
          4
         ]
        },
        {
         "marker": {
          "color": "blue"
         },
         "mode": "markers",
         "name": "District 107",
         "type": "scatter",
         "x": [
          8
         ],
         "y": [
          5
         ]
        },
        {
         "marker": {
          "color": "blue"
         },
         "mode": "markers",
         "name": "District 107",
         "type": "scatter",
         "x": [
          8
         ],
         "y": [
          6
         ]
        },
        {
         "marker": {
          "color": "blue"
         },
         "mode": "markers",
         "name": "District 107",
         "type": "scatter",
         "x": [
          8
         ],
         "y": [
          7
         ]
        },
        {
         "marker": {
          "color": "blue"
         },
         "mode": "markers",
         "name": "District 105",
         "type": "scatter",
         "x": [
          8
         ],
         "y": [
          8
         ]
        },
        {
         "marker": {
          "color": "blue"
         },
         "mode": "markers",
         "name": "District 105",
         "type": "scatter",
         "x": [
          8
         ],
         "y": [
          9
         ]
        },
        {
         "marker": {
          "color": "blue"
         },
         "mode": "markers",
         "name": "District 108",
         "type": "scatter",
         "x": [
          9
         ],
         "y": [
          0
         ]
        },
        {
         "marker": {
          "color": "blue"
         },
         "mode": "markers",
         "name": "District 108",
         "type": "scatter",
         "x": [
          9
         ],
         "y": [
          1
         ]
        },
        {
         "marker": {
          "color": "blue"
         },
         "mode": "markers",
         "name": "District 108",
         "type": "scatter",
         "x": [
          9
         ],
         "y": [
          2
         ]
        },
        {
         "marker": {
          "color": "blue"
         },
         "mode": "markers",
         "name": "District 108",
         "type": "scatter",
         "x": [
          9
         ],
         "y": [
          3
         ]
        },
        {
         "marker": {
          "color": "blue"
         },
         "mode": "markers",
         "name": "District 108",
         "type": "scatter",
         "x": [
          9
         ],
         "y": [
          4
         ]
        },
        {
         "marker": {
          "color": "blue"
         },
         "mode": "markers",
         "name": "District 108",
         "type": "scatter",
         "x": [
          9
         ],
         "y": [
          5
         ]
        },
        {
         "marker": {
          "color": "red"
         },
         "mode": "markers",
         "name": "District 107",
         "type": "scatter",
         "x": [
          9
         ],
         "y": [
          6
         ]
        },
        {
         "marker": {
          "color": "blue"
         },
         "mode": "markers",
         "name": "District 107",
         "type": "scatter",
         "x": [
          9
         ],
         "y": [
          7
         ]
        },
        {
         "marker": {
          "color": "red"
         },
         "mode": "markers",
         "name": "District 105",
         "type": "scatter",
         "x": [
          9
         ],
         "y": [
          8
         ]
        },
        {
         "marker": {
          "color": "blue"
         },
         "mode": "markers",
         "name": "District 105",
         "type": "scatter",
         "x": [
          9
         ],
         "y": [
          9
         ]
        },
        {
         "legendgroup": "District 1",
         "marker": {
          "color": "blue"
         },
         "mode": "markers",
         "name": "District 1 - Total A: 0, Total B: 0",
         "showlegend": true,
         "type": "scatter",
         "x": [
          null
         ],
         "y": [
          null
         ]
        },
        {
         "legendgroup": "District 2",
         "marker": {
          "color": "blue"
         },
         "mode": "markers",
         "name": "District 2 - Total A: 0, Total B: 0",
         "showlegend": true,
         "type": "scatter",
         "x": [
          null
         ],
         "y": [
          null
         ]
        },
        {
         "legendgroup": "District 3",
         "marker": {
          "color": "blue"
         },
         "mode": "markers",
         "name": "District 3 - Total A: 0, Total B: 0",
         "showlegend": true,
         "type": "scatter",
         "x": [
          null
         ],
         "y": [
          null
         ]
        },
        {
         "legendgroup": "District 4",
         "marker": {
          "color": "blue"
         },
         "mode": "markers",
         "name": "District 4 - Total A: 0, Total B: 0",
         "showlegend": true,
         "type": "scatter",
         "x": [
          null
         ],
         "y": [
          null
         ]
        },
        {
         "legendgroup": "District 5",
         "marker": {
          "color": "blue"
         },
         "mode": "markers",
         "name": "District 5 - Total A: 0, Total B: 0",
         "showlegend": true,
         "type": "scatter",
         "x": [
          null
         ],
         "y": [
          null
         ]
        },
        {
         "legendgroup": "District 6",
         "marker": {
          "color": "blue"
         },
         "mode": "markers",
         "name": "District 6 - Total A: 0, Total B: 0",
         "showlegend": true,
         "type": "scatter",
         "x": [
          null
         ],
         "y": [
          null
         ]
        },
        {
         "legendgroup": "District 7",
         "marker": {
          "color": "blue"
         },
         "mode": "markers",
         "name": "District 7 - Total A: 0, Total B: 0",
         "showlegend": true,
         "type": "scatter",
         "x": [
          null
         ],
         "y": [
          null
         ]
        },
        {
         "legendgroup": "District 8",
         "marker": {
          "color": "blue"
         },
         "mode": "markers",
         "name": "District 8 - Total A: 0, Total B: 0",
         "showlegend": true,
         "type": "scatter",
         "x": [
          null
         ],
         "y": [
          null
         ]
        }
       ],
       "layout": {
        "legend": {
         "title": {
          "text": "Districts"
         }
        },
        "showlegend": true,
        "template": {
         "data": {
          "bar": [
           {
            "error_x": {
             "color": "#2a3f5f"
            },
            "error_y": {
             "color": "#2a3f5f"
            },
            "marker": {
             "line": {
              "color": "#E5ECF6",
              "width": 0.5
             },
             "pattern": {
              "fillmode": "overlay",
              "size": 10,
              "solidity": 0.2
             }
            },
            "type": "bar"
           }
          ],
          "barpolar": [
           {
            "marker": {
             "line": {
              "color": "#E5ECF6",
              "width": 0.5
             },
             "pattern": {
              "fillmode": "overlay",
              "size": 10,
              "solidity": 0.2
             }
            },
            "type": "barpolar"
           }
          ],
          "carpet": [
           {
            "aaxis": {
             "endlinecolor": "#2a3f5f",
             "gridcolor": "white",
             "linecolor": "white",
             "minorgridcolor": "white",
             "startlinecolor": "#2a3f5f"
            },
            "baxis": {
             "endlinecolor": "#2a3f5f",
             "gridcolor": "white",
             "linecolor": "white",
             "minorgridcolor": "white",
             "startlinecolor": "#2a3f5f"
            },
            "type": "carpet"
           }
          ],
          "choropleth": [
           {
            "colorbar": {
             "outlinewidth": 0,
             "ticks": ""
            },
            "type": "choropleth"
           }
          ],
          "contour": [
           {
            "colorbar": {
             "outlinewidth": 0,
             "ticks": ""
            },
            "colorscale": [
             [
              0,
              "#0d0887"
             ],
             [
              0.1111111111111111,
              "#46039f"
             ],
             [
              0.2222222222222222,
              "#7201a8"
             ],
             [
              0.3333333333333333,
              "#9c179e"
             ],
             [
              0.4444444444444444,
              "#bd3786"
             ],
             [
              0.5555555555555556,
              "#d8576b"
             ],
             [
              0.6666666666666666,
              "#ed7953"
             ],
             [
              0.7777777777777778,
              "#fb9f3a"
             ],
             [
              0.8888888888888888,
              "#fdca26"
             ],
             [
              1,
              "#f0f921"
             ]
            ],
            "type": "contour"
           }
          ],
          "contourcarpet": [
           {
            "colorbar": {
             "outlinewidth": 0,
             "ticks": ""
            },
            "type": "contourcarpet"
           }
          ],
          "heatmap": [
           {
            "colorbar": {
             "outlinewidth": 0,
             "ticks": ""
            },
            "colorscale": [
             [
              0,
              "#0d0887"
             ],
             [
              0.1111111111111111,
              "#46039f"
             ],
             [
              0.2222222222222222,
              "#7201a8"
             ],
             [
              0.3333333333333333,
              "#9c179e"
             ],
             [
              0.4444444444444444,
              "#bd3786"
             ],
             [
              0.5555555555555556,
              "#d8576b"
             ],
             [
              0.6666666666666666,
              "#ed7953"
             ],
             [
              0.7777777777777778,
              "#fb9f3a"
             ],
             [
              0.8888888888888888,
              "#fdca26"
             ],
             [
              1,
              "#f0f921"
             ]
            ],
            "type": "heatmap"
           }
          ],
          "heatmapgl": [
           {
            "colorbar": {
             "outlinewidth": 0,
             "ticks": ""
            },
            "colorscale": [
             [
              0,
              "#0d0887"
             ],
             [
              0.1111111111111111,
              "#46039f"
             ],
             [
              0.2222222222222222,
              "#7201a8"
             ],
             [
              0.3333333333333333,
              "#9c179e"
             ],
             [
              0.4444444444444444,
              "#bd3786"
             ],
             [
              0.5555555555555556,
              "#d8576b"
             ],
             [
              0.6666666666666666,
              "#ed7953"
             ],
             [
              0.7777777777777778,
              "#fb9f3a"
             ],
             [
              0.8888888888888888,
              "#fdca26"
             ],
             [
              1,
              "#f0f921"
             ]
            ],
            "type": "heatmapgl"
           }
          ],
          "histogram": [
           {
            "marker": {
             "pattern": {
              "fillmode": "overlay",
              "size": 10,
              "solidity": 0.2
             }
            },
            "type": "histogram"
           }
          ],
          "histogram2d": [
           {
            "colorbar": {
             "outlinewidth": 0,
             "ticks": ""
            },
            "colorscale": [
             [
              0,
              "#0d0887"
             ],
             [
              0.1111111111111111,
              "#46039f"
             ],
             [
              0.2222222222222222,
              "#7201a8"
             ],
             [
              0.3333333333333333,
              "#9c179e"
             ],
             [
              0.4444444444444444,
              "#bd3786"
             ],
             [
              0.5555555555555556,
              "#d8576b"
             ],
             [
              0.6666666666666666,
              "#ed7953"
             ],
             [
              0.7777777777777778,
              "#fb9f3a"
             ],
             [
              0.8888888888888888,
              "#fdca26"
             ],
             [
              1,
              "#f0f921"
             ]
            ],
            "type": "histogram2d"
           }
          ],
          "histogram2dcontour": [
           {
            "colorbar": {
             "outlinewidth": 0,
             "ticks": ""
            },
            "colorscale": [
             [
              0,
              "#0d0887"
             ],
             [
              0.1111111111111111,
              "#46039f"
             ],
             [
              0.2222222222222222,
              "#7201a8"
             ],
             [
              0.3333333333333333,
              "#9c179e"
             ],
             [
              0.4444444444444444,
              "#bd3786"
             ],
             [
              0.5555555555555556,
              "#d8576b"
             ],
             [
              0.6666666666666666,
              "#ed7953"
             ],
             [
              0.7777777777777778,
              "#fb9f3a"
             ],
             [
              0.8888888888888888,
              "#fdca26"
             ],
             [
              1,
              "#f0f921"
             ]
            ],
            "type": "histogram2dcontour"
           }
          ],
          "mesh3d": [
           {
            "colorbar": {
             "outlinewidth": 0,
             "ticks": ""
            },
            "type": "mesh3d"
           }
          ],
          "parcoords": [
           {
            "line": {
             "colorbar": {
              "outlinewidth": 0,
              "ticks": ""
             }
            },
            "type": "parcoords"
           }
          ],
          "pie": [
           {
            "automargin": true,
            "type": "pie"
           }
          ],
          "scatter": [
           {
            "fillpattern": {
             "fillmode": "overlay",
             "size": 10,
             "solidity": 0.2
            },
            "type": "scatter"
           }
          ],
          "scatter3d": [
           {
            "line": {
             "colorbar": {
              "outlinewidth": 0,
              "ticks": ""
             }
            },
            "marker": {
             "colorbar": {
              "outlinewidth": 0,
              "ticks": ""
             }
            },
            "type": "scatter3d"
           }
          ],
          "scattercarpet": [
           {
            "marker": {
             "colorbar": {
              "outlinewidth": 0,
              "ticks": ""
             }
            },
            "type": "scattercarpet"
           }
          ],
          "scattergeo": [
           {
            "marker": {
             "colorbar": {
              "outlinewidth": 0,
              "ticks": ""
             }
            },
            "type": "scattergeo"
           }
          ],
          "scattergl": [
           {
            "marker": {
             "colorbar": {
              "outlinewidth": 0,
              "ticks": ""
             }
            },
            "type": "scattergl"
           }
          ],
          "scattermapbox": [
           {
            "marker": {
             "colorbar": {
              "outlinewidth": 0,
              "ticks": ""
             }
            },
            "type": "scattermapbox"
           }
          ],
          "scatterpolar": [
           {
            "marker": {
             "colorbar": {
              "outlinewidth": 0,
              "ticks": ""
             }
            },
            "type": "scatterpolar"
           }
          ],
          "scatterpolargl": [
           {
            "marker": {
             "colorbar": {
              "outlinewidth": 0,
              "ticks": ""
             }
            },
            "type": "scatterpolargl"
           }
          ],
          "scatterternary": [
           {
            "marker": {
             "colorbar": {
              "outlinewidth": 0,
              "ticks": ""
             }
            },
            "type": "scatterternary"
           }
          ],
          "surface": [
           {
            "colorbar": {
             "outlinewidth": 0,
             "ticks": ""
            },
            "colorscale": [
             [
              0,
              "#0d0887"
             ],
             [
              0.1111111111111111,
              "#46039f"
             ],
             [
              0.2222222222222222,
              "#7201a8"
             ],
             [
              0.3333333333333333,
              "#9c179e"
             ],
             [
              0.4444444444444444,
              "#bd3786"
             ],
             [
              0.5555555555555556,
              "#d8576b"
             ],
             [
              0.6666666666666666,
              "#ed7953"
             ],
             [
              0.7777777777777778,
              "#fb9f3a"
             ],
             [
              0.8888888888888888,
              "#fdca26"
             ],
             [
              1,
              "#f0f921"
             ]
            ],
            "type": "surface"
           }
          ],
          "table": [
           {
            "cells": {
             "fill": {
              "color": "#EBF0F8"
             },
             "line": {
              "color": "white"
             }
            },
            "header": {
             "fill": {
              "color": "#C8D4E3"
             },
             "line": {
              "color": "white"
             }
            },
            "type": "table"
           }
          ]
         },
         "layout": {
          "annotationdefaults": {
           "arrowcolor": "#2a3f5f",
           "arrowhead": 0,
           "arrowwidth": 1
          },
          "autotypenumbers": "strict",
          "coloraxis": {
           "colorbar": {
            "outlinewidth": 0,
            "ticks": ""
           }
          },
          "colorscale": {
           "diverging": [
            [
             0,
             "#8e0152"
            ],
            [
             0.1,
             "#c51b7d"
            ],
            [
             0.2,
             "#de77ae"
            ],
            [
             0.3,
             "#f1b6da"
            ],
            [
             0.4,
             "#fde0ef"
            ],
            [
             0.5,
             "#f7f7f7"
            ],
            [
             0.6,
             "#e6f5d0"
            ],
            [
             0.7,
             "#b8e186"
            ],
            [
             0.8,
             "#7fbc41"
            ],
            [
             0.9,
             "#4d9221"
            ],
            [
             1,
             "#276419"
            ]
           ],
           "sequential": [
            [
             0,
             "#0d0887"
            ],
            [
             0.1111111111111111,
             "#46039f"
            ],
            [
             0.2222222222222222,
             "#7201a8"
            ],
            [
             0.3333333333333333,
             "#9c179e"
            ],
            [
             0.4444444444444444,
             "#bd3786"
            ],
            [
             0.5555555555555556,
             "#d8576b"
            ],
            [
             0.6666666666666666,
             "#ed7953"
            ],
            [
             0.7777777777777778,
             "#fb9f3a"
            ],
            [
             0.8888888888888888,
             "#fdca26"
            ],
            [
             1,
             "#f0f921"
            ]
           ],
           "sequentialminus": [
            [
             0,
             "#0d0887"
            ],
            [
             0.1111111111111111,
             "#46039f"
            ],
            [
             0.2222222222222222,
             "#7201a8"
            ],
            [
             0.3333333333333333,
             "#9c179e"
            ],
            [
             0.4444444444444444,
             "#bd3786"
            ],
            [
             0.5555555555555556,
             "#d8576b"
            ],
            [
             0.6666666666666666,
             "#ed7953"
            ],
            [
             0.7777777777777778,
             "#fb9f3a"
            ],
            [
             0.8888888888888888,
             "#fdca26"
            ],
            [
             1,
             "#f0f921"
            ]
           ]
          },
          "colorway": [
           "#636efa",
           "#EF553B",
           "#00cc96",
           "#ab63fa",
           "#FFA15A",
           "#19d3f3",
           "#FF6692",
           "#B6E880",
           "#FF97FF",
           "#FECB52"
          ],
          "font": {
           "color": "#2a3f5f"
          },
          "geo": {
           "bgcolor": "white",
           "lakecolor": "white",
           "landcolor": "#E5ECF6",
           "showlakes": true,
           "showland": true,
           "subunitcolor": "white"
          },
          "hoverlabel": {
           "align": "left"
          },
          "hovermode": "closest",
          "mapbox": {
           "style": "light"
          },
          "paper_bgcolor": "white",
          "plot_bgcolor": "#E5ECF6",
          "polar": {
           "angularaxis": {
            "gridcolor": "white",
            "linecolor": "white",
            "ticks": ""
           },
           "bgcolor": "#E5ECF6",
           "radialaxis": {
            "gridcolor": "white",
            "linecolor": "white",
            "ticks": ""
           }
          },
          "scene": {
           "xaxis": {
            "backgroundcolor": "#E5ECF6",
            "gridcolor": "white",
            "gridwidth": 2,
            "linecolor": "white",
            "showbackground": true,
            "ticks": "",
            "zerolinecolor": "white"
           },
           "yaxis": {
            "backgroundcolor": "#E5ECF6",
            "gridcolor": "white",
            "gridwidth": 2,
            "linecolor": "white",
            "showbackground": true,
            "ticks": "",
            "zerolinecolor": "white"
           },
           "zaxis": {
            "backgroundcolor": "#E5ECF6",
            "gridcolor": "white",
            "gridwidth": 2,
            "linecolor": "white",
            "showbackground": true,
            "ticks": "",
            "zerolinecolor": "white"
           }
          },
          "shapedefaults": {
           "line": {
            "color": "#2a3f5f"
           }
          },
          "ternary": {
           "aaxis": {
            "gridcolor": "white",
            "linecolor": "white",
            "ticks": ""
           },
           "baxis": {
            "gridcolor": "white",
            "linecolor": "white",
            "ticks": ""
           },
           "bgcolor": "#E5ECF6",
           "caxis": {
            "gridcolor": "white",
            "linecolor": "white",
            "ticks": ""
           }
          },
          "title": {
           "x": 0.05
          },
          "xaxis": {
           "automargin": true,
           "gridcolor": "white",
           "linecolor": "white",
           "ticks": "",
           "title": {
            "standoff": 15
           },
           "zerolinecolor": "white",
           "zerolinewidth": 2
          },
          "yaxis": {
           "automargin": true,
           "gridcolor": "white",
           "linecolor": "white",
           "ticks": "",
           "title": {
            "standoff": 15
           },
           "zerolinecolor": "white",
           "zerolinewidth": 2
          }
         }
        },
        "title": {
         "text": "District Map"
        },
        "xaxis": {
         "title": {
          "text": "X"
         }
        },
        "yaxis": {
         "title": {
          "text": "Y"
         }
        }
       }
      }
     },
     "metadata": {},
     "output_type": "display_data"
    },
    {
     "data": {
      "text/plain": [
       "<function __main__.interactive_plot(grid_size, districts, p_0, c, r, n)>"
      ]
     },
     "execution_count": 2,
     "metadata": {},
     "output_type": "execute_result"
    }
   ],
   "source": [
    "import pandas as pd\n",
    "import math\n",
    "import numpy as np\n",
    "import networkx as nx\n",
    "import matplotlib.pyplot as plt\n",
    "from ortools.graph import pywrapgraph\n",
    "import random\n",
    "import plotly.graph_objects as go\n",
    "from ipywidgets import interact, IntSlider, FloatSlider\n",
    "\n",
    "def print_info(data, name):\n",
    "    if isinstance(data, list):\n",
    "        print(' % ', name, ' ', data, ' -----type $len: ', len(data), ' ', type(data), ' * ')\n",
    "    else:\n",
    "        print(' % ', name, ' ', data, ' -----type ', type(data), ' * ')\n",
    "\n",
    "def setup(districts, grid_size, district_centers, pops): \n",
    "    tol = 1\n",
    "    start_nodes = [0] * (grid_size * grid_size)\n",
    "    for i in range(grid_size * grid_size):\n",
    "        start_nodes = start_nodes + [i + 1] * districts\n",
    "    for j in range(districts):\n",
    "        start_nodes = start_nodes + [(grid_size * grid_size) + 1 + j]\n",
    "    end_nodes = []\n",
    "    for i in range(grid_size * grid_size):\n",
    "        end_nodes = end_nodes + [i + 1]\n",
    "    for j in range(grid_size * grid_size):\n",
    "        for k in range(districts):\n",
    "            end_nodes = end_nodes + [(grid_size * grid_size) + 1 + k]\n",
    "    end_nodes = end_nodes + [(grid_size * grid_size) + districts + 1] * districts\n",
    "    total_pop = np.sum(np.array(pops))\n",
    "    capacities = np.array(pops).flatten().tolist()\n",
    "    for i in np.array(pops).flatten().tolist():\n",
    "        for j in range(districts):\n",
    "            capacities = capacities + [i]\n",
    "    for i in range(districts):\n",
    "        capacities = capacities + [int(total_pop / districts) + tol]\n",
    "    costs = [0] * (grid_size * grid_size)\n",
    "    for i in range(grid_size):\n",
    "        for j in range(grid_size):\n",
    "            for k in range(districts):\n",
    "                costs = costs + [int((((i - district_centers[k][0]) ** 2) + ((j - district_centers[k][1]) ** 2)))]\n",
    "    costs = costs + [0] * districts\n",
    "    supplies = [int(total_pop)] + ((grid_size * grid_size) + districts) * [0] + [-int(total_pop)]\n",
    "    source = 0\n",
    "    sink = districts + (grid_size * grid_size) + 1\n",
    "    return start_nodes, end_nodes, capacities, costs, supplies, source, sink, pops, total_pop\n",
    "\n",
    "def optimize(start_nodes, end_nodes, capacities, costs, supplies, source, sink, grid, grid_size):\n",
    "    Block_Assignments = pd.DataFrame(columns=['DIST_NO', 'ASSIGN_POP', 'ACTUAL_POP'])\n",
    "    min_cost_flow = pywrapgraph.SimpleMinCostFlow()\n",
    "    for i in range(len(start_nodes)):\n",
    "        min_cost_flow.AddArcWithCapacityAndUnitCost(start_nodes[i], end_nodes[i], capacities[i], costs[i])\n",
    "    for i in range(len(supplies)):\n",
    "        min_cost_flow.SetNodeSupply(i, supplies[i])\n",
    "    flag = 0    \n",
    "    if min_cost_flow.Solve() == min_cost_flow.OPTIMAL:\n",
    "        for arc in range(min_cost_flow.NumArcs()):\n",
    "            if min_cost_flow.Tail(arc) != source and min_cost_flow.Head(arc) != sink:\n",
    "                if min_cost_flow.Flow(arc) > 0:\n",
    "                    if min_cost_flow.Capacity(arc) == min_cost_flow.Flow(arc):\n",
    "                        grid.nodes[(int(((min_cost_flow.Tail(arc) - 1) / grid_size)), (min_cost_flow.Tail(arc) - 1) % grid_size)][\"district\"] = min_cost_flow.Head(arc)\n",
    "                        Block_Assignments.loc[min_cost_flow.Tail(arc)] = [min_cost_flow.Head(arc), min_cost_flow.Flow(arc), min_cost_flow.Capacity(arc)]\n",
    "                    else:\n",
    "                        if flag == 0:\n",
    "                            grid.nodes[(int(((min_cost_flow.Tail(arc) - 1) / grid_size)), (min_cost_flow.Tail(arc) - 1) % grid_size)][\"district\"] = min_cost_flow.Head(arc)\n",
    "                            Block_Assignments.loc[min_cost_flow.Tail(arc)] = [min_cost_flow.Head(arc), min_cost_flow.Flow(arc), min_cost_flow.Capacity(arc)]\n",
    "                            flag = min_cost_flow.Flow(arc)\n",
    "                        else: \n",
    "                            if Block_Assignments.loc[min_cost_flow.Tail(arc), 'ASSIGN_POP'] < min_cost_flow.Flow(arc):\n",
    "                                grid.nodes[(int(((min_cost_flow.Tail(arc) - 1) / grid_size)), (min_cost_flow.Tail(arc) - 1) % grid_size)][\"district\"] = min_cost_flow.Head(arc)\n",
    "                                Block_Assignments.loc[min_cost_flow.Tail(arc)] = [min_cost_flow.Head(arc), min_cost_flow.Flow(arc), min_cost_flow.Capacity(arc)]\n",
    "                                flag = flag + min_cost_flow.Flow(arc)\n",
    "                            else:\n",
    "                                flag = flag + min_cost_flow.Flow(arc)\n",
    "                            if flag == min_cost_flow.Capacity(arc):\n",
    "                                flag = 0\n",
    "    else:\n",
    "        print('There was an issue with the min cost flow input.')\n",
    "    return Block_Assignments\n",
    "\n",
    "def grid_setup(grid_s, dist, n, p_0, c, r):\n",
    "    grid_size = grid_s\n",
    "    districts = dist\n",
    "    district_centers = []\n",
    "    spacing = int(grid_size / districts)\n",
    "\n",
    "    for j in range(districts):\n",
    "        district_centers = district_centers + [[(j + 1) * spacing + random.randint(-1, 1), random.randint(0, grid_size - 1)]]\n",
    "    pops = []\n",
    "    row = []\n",
    "\n",
    "    for i in range(grid_size):\n",
    "        for j in range(grid_size):\n",
    "            row = row + [1]\n",
    "        pops = pops + [row]\n",
    "        row = []\n",
    "    grid = nx.grid_graph([grid_size, grid_size])\n",
    "\n",
    "    for node in grid.nodes():\n",
    "        grid.nodes[node][\"population\"] = pops[node[0]][node[1]]\n",
    "\n",
    "    add_party_preference(grid, n, grid_size, p_0, c, r)\n",
    "    return districts, grid_size, district_centers, pops, grid\n",
    "\n",
    "def add_party_preference(grid, n, grid_size, p_0, c, r):\n",
    "    squares_with_id = []\n",
    "    all_nodes = list(grid.nodes())\n",
    "    all_nodes_processed = []\n",
    "    voter_arr_ind = 0\n",
    "    row_tracker = 0\n",
    "    square = []\n",
    "    voter_arr_ind = 0\n",
    "    m_val_holder = 0\n",
    "    vertical_mover = 0\n",
    "    for i in range(n):\n",
    "        if i != 0:\n",
    "            vertical_mover += r * grid_size\n",
    "        for m in range(n):\n",
    "            row_tracker = (c * m) + vertical_mover\n",
    "            square = []            \n",
    "            for j in range(r):\n",
    "                row = all_nodes[row_tracker:row_tracker + c]\n",
    "                square = square + row\n",
    "                row_tracker += grid_size\n",
    "            all_nodes_processed += square\n",
    "            voter_ratios = np.ones(c * r)\n",
    "            proportion_of_a = math.floor((c * r) * p_0)\n",
    "            voter_ratios[:proportion_of_a] = 0\n",
    "            np.random.shuffle(voter_ratios)\n",
    "            for node in square:    \n",
    "                grid.nodes[node]['voter_pref'] = voter_ratios[voter_arr_ind]\n",
    "                voter_arr_ind = voter_arr_ind + 1\n",
    "            squares_with_id.append(square)       \n",
    "            voter_arr_ind = 0\n",
    "            square = []\n",
    "    missed_nodes = list(set(all_nodes).difference(all_nodes_processed))\n",
    "    if missed_nodes:   \n",
    "        print(\"missed_nodes = \" + str(missed_nodes))\n",
    "\n",
    "def interactive_plot(grid_size, districts, p_0, c, r, n):\n",
    "    try:\n",
    "        districts, grid_size, district_centers, pops, grid = grid_setup(grid_size, districts, n, p_0, c, r)\n",
    "\n",
    "        start_nodes, end_nodes, capacities, costs, supplies, source, sink, pops, total_pop = setup(districts, grid_size, district_centers, pops)\n",
    "\n",
    "        Block_Assignments = optimize(start_nodes, end_nodes, capacities, costs, supplies, source, sink, grid, grid_size)\n",
    "        \n",
    "        # Collect coordinates and colors for the grid\n",
    "        x_coords = []\n",
    "        y_coords = []\n",
    "        colors = []\n",
    "        districts_list = []\n",
    "\n",
    "        for node in grid.nodes():\n",
    "            x, y = node\n",
    "            x_coords.append(x)\n",
    "            y_coords.append(y)\n",
    "            district = grid.nodes[node][\"district\"]\n",
    "            districts_list.append(district)\n",
    "            \n",
    "            color = 'blue' if grid.nodes[node]['voter_pref'] == 0 else 'red'\n",
    "            colors.append(color)\n",
    "\n",
    "        # Calculate total votes for each party in each district\n",
    "        total_a = []\n",
    "        total_b = []\n",
    "\n",
    "        for dist in range(1, districts + 1):\n",
    "            dist_a = sum(grid.nodes[node]['voter_pref'] == 0 and grid.nodes[node]['district'] == dist for node in grid.nodes())\n",
    "            dist_b = sum(grid.nodes[node]['voter_pref'] == 1 and grid.nodes[node]['district'] == dist for node in grid.nodes())\n",
    "            total_a.append(dist_a)\n",
    "            total_b.append(dist_b)\n",
    "\n",
    "        # Plot with Plotly\n",
    "        fig = go.Figure()\n",
    "\n",
    "        for i in range(len(x_coords)):\n",
    "            fig.add_trace(go.Scatter(\n",
    "                            x=[x_coords[i]], \n",
    "                            y=[y_coords[i]], \n",
    "                            mode='markers', \n",
    "                            marker=dict(color=colors[i]), \n",
    "                            name=f'District {districts_list[i]}'\n",
    "                        ))\n",
    "\n",
    "            # Update the layout to include the custom legend\n",
    "            fig.update_layout(\n",
    "                title='District Map',\n",
    "                xaxis_title='X',\n",
    "                yaxis_title='Y',\n",
    "                legend_title='Districts',\n",
    "                showlegend=True\n",
    "            )\n",
    "\n",
    "        # Create custom legend entries\n",
    "        for dist in range(1, districts + 1):\n",
    "            fig.add_trace(go.Scatter(\n",
    "                x=[None], \n",
    "                y=[None], \n",
    "                mode='markers', \n",
    "                marker=dict(color='blue'), \n",
    "                legendgroup=f'District {dist}',\n",
    "                showlegend=True,\n",
    "                name=f'District {dist} - Total A: {total_a[dist-1]}, Total B: {total_b[dist-1]}'\n",
    "            ))\n",
    "\n",
    "        fig.show()\n",
    "\n",
    "    except Exception as e:\n",
    "        print(f\"Error in interactive_plot function: {e}\")\n",
    "\n",
    "interact(interactive_plot, grid_size=IntSlider(min=5, max=20, step=1, value=10),\n",
    "         districts=IntSlider(min=2, max=10, step=1, value=5),\n",
    "         p_0=FloatSlider(min=0.1, max=0.9, step=0.1, value=0.5),\n",
    "         c=IntSlider(min=1, max=10, step=1, value=3),\n",
    "         r=IntSlider(min=1, max=10, step=1, value=3),\n",
    "         n=IntSlider(min=1, max=10, step=1, value=5))"
   ]
  },
  {
   "cell_type": "code",
   "execution_count": null,
   "id": "0c42d6de-9aa1-45f1-bbd3-bcee591dd2c6",
   "metadata": {},
   "outputs": [],
   "source": []
  }
 ],
 "metadata": {
  "kernelspec": {
   "display_name": "gerry",
   "language": "python",
   "name": "gerry"
  },
  "language_info": {
   "codemirror_mode": {
    "name": "ipython",
    "version": 3
   },
   "file_extension": ".py",
   "mimetype": "text/x-python",
   "name": "python",
   "nbconvert_exporter": "python",
   "pygments_lexer": "ipython3",
   "version": "3.10.10"
  }
 },
 "nbformat": 4,
 "nbformat_minor": 5
}
